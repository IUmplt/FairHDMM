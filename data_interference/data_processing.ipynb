{
 "cells": [
  {
   "cell_type": "code",
   "execution_count": 4,
   "metadata": {},
   "outputs": [],
   "source": [
    "import numpy as np\n",
    "import pandas as pd"
   ]
  },
  {
   "cell_type": "code",
   "execution_count": 5,
   "metadata": {},
   "outputs": [
    {
     "data": {
      "text/plain": [
       "array([[412],\n",
       "       [333],\n",
       "       [285],\n",
       "       [231],\n",
       "       [202],\n",
       "       [174],\n",
       "       [160],\n",
       "       [142],\n",
       "       [146],\n",
       "       [149],\n",
       "       [145],\n",
       "       [181],\n",
       "       [174],\n",
       "       [190],\n",
       "       [213],\n",
       "       [287],\n",
       "       [372],\n",
       "       [499],\n",
       "       [619],\n",
       "       [715],\n",
       "       [785],\n",
       "       [821],\n",
       "       [822],\n",
       "       [816],\n",
       "       [799],\n",
       "       [742],\n",
       "       [717],\n",
       "       [697],\n",
       "       [658],\n",
       "       [593],\n",
       "       [564],\n",
       "       [519],\n",
       "       [447],\n",
       "       [403],\n",
       "       [388],\n",
       "       [365],\n",
       "       [336],\n",
       "       [306],\n",
       "       [311],\n",
       "       [289],\n",
       "       [261],\n",
       "       [231],\n",
       "       [213],\n",
       "       [196],\n",
       "       [194],\n",
       "       [170],\n",
       "       [175],\n",
       "       [168],\n",
       "       [149],\n",
       "       [142],\n",
       "       [131],\n",
       "       [119],\n",
       "       [112],\n",
       "       [118],\n",
       "       [114],\n",
       "       [116],\n",
       "       [112],\n",
       "       [114],\n",
       "       [106],\n",
       "       [111],\n",
       "       [109],\n",
       "       [112],\n",
       "       [113],\n",
       "       [109],\n",
       "       [104],\n",
       "       [108],\n",
       "       [108],\n",
       "       [ 94],\n",
       "       [ 91],\n",
       "       [ 81],\n",
       "       [ 81],\n",
       "       [ 72],\n",
       "       [ 68],\n",
       "       [ 63],\n",
       "       [ 56],\n",
       "       [ 46],\n",
       "       [ 41],\n",
       "       [ 38],\n",
       "       [ 34],\n",
       "       [ 28],\n",
       "       [ 23],\n",
       "       [ 22],\n",
       "       [ 18],\n",
       "       [ 18],\n",
       "       [ 16],\n",
       "       [ 41]])"
      ]
     },
     "execution_count": 5,
     "metadata": {},
     "output_type": "execute_result"
    }
   ],
   "source": [
    "data = pd.read_csv('migration_tworace.csv', header=None).to_numpy()\n",
    "data"
   ]
  },
  {
   "cell_type": "code",
   "execution_count": 6,
   "metadata": {},
   "outputs": [],
   "source": [
    "age = data"
   ]
  },
  {
   "cell_type": "code",
   "execution_count": 7,
   "metadata": {},
   "outputs": [],
   "source": [
    "mid = age.sum()/2"
   ]
  },
  {
   "cell_type": "code",
   "execution_count": 8,
   "metadata": {},
   "outputs": [],
   "source": [
    "prefix = age.cumsum()"
   ]
  },
  {
   "cell_type": "code",
   "execution_count": 9,
   "metadata": {},
   "outputs": [
    {
     "data": {
      "text/plain": [
       "26"
      ]
     },
     "execution_count": 9,
     "metadata": {},
     "output_type": "execute_result"
    }
   ],
   "source": [
    "np.searchsorted(prefix, mid)"
   ]
  },
  {
   "cell_type": "code",
   "execution_count": null,
   "metadata": {},
   "outputs": [],
   "source": []
  }
 ],
 "metadata": {
  "kernelspec": {
   "display_name": "Python 3",
   "language": "python",
   "name": "python3"
  },
  "language_info": {
   "codemirror_mode": {
    "name": "ipython",
    "version": 3
   },
   "file_extension": ".py",
   "mimetype": "text/x-python",
   "name": "python",
   "nbconvert_exporter": "python",
   "pygments_lexer": "ipython3",
   "version": "3.7.7"
  }
 },
 "nbformat": 4,
 "nbformat_minor": 4
}
