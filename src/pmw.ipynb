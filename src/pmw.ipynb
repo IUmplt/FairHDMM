{
 "cells": [
  {
   "cell_type": "code",
   "execution_count": 1,
   "metadata": {},
   "outputs": [],
   "source": [
    "import numpy as np\n",
    "import math\n",
    "import pandas as pd\n",
    "from hdmm import workload, fairtemplates, error, fairmechanism, matrix, mechanism, templates"
   ]
  },
  {
   "cell_type": "markdown",
   "metadata": {},
   "source": [
    "# Understanding vectorized databases\n",
    "This section is to help me better understand and visualize linear queries and query workloads as vectors and matrices. I'll be using the example of a toy dataset and a few queries in Figure 2.1 from the [Li, et. al 2014 paper](https://people.cs.umass.edu/~mcgregor/papers/15-vldbj.pdf) to familiarize myself with working with these objects using numpy."
   ]
  },
  {
   "cell_type": "markdown",
   "metadata": {},
   "source": [
    "Load in the toy dataset from the paper's diagram about students' information as `toy`:"
   ]
  },
  {
   "cell_type": "code",
   "execution_count": 2,
   "metadata": {
    "scrolled": true
   },
   "outputs": [
    {
     "data": {
      "text/html": [
       "<div>\n",
       "<style scoped>\n",
       "    .dataframe tbody tr th:only-of-type {\n",
       "        vertical-align: middle;\n",
       "    }\n",
       "\n",
       "    .dataframe tbody tr th {\n",
       "        vertical-align: top;\n",
       "    }\n",
       "\n",
       "    .dataframe thead th {\n",
       "        text-align: right;\n",
       "    }\n",
       "</style>\n",
       "<table border=\"1\" class=\"dataframe\">\n",
       "  <thead>\n",
       "    <tr style=\"text-align: right;\">\n",
       "      <th></th>\n",
       "      <th>Name</th>\n",
       "      <th>Gradyear</th>\n",
       "      <th>Gender</th>\n",
       "      <th>Gpa</th>\n",
       "    </tr>\n",
       "  </thead>\n",
       "  <tbody>\n",
       "    <tr>\n",
       "      <th>0</th>\n",
       "      <td>Alice</td>\n",
       "      <td>2012</td>\n",
       "      <td>F</td>\n",
       "      <td>3.8</td>\n",
       "    </tr>\n",
       "    <tr>\n",
       "      <th>1</th>\n",
       "      <td>Bob</td>\n",
       "      <td>2011</td>\n",
       "      <td>M</td>\n",
       "      <td>3.1</td>\n",
       "    </tr>\n",
       "    <tr>\n",
       "      <th>2</th>\n",
       "      <td>Charlie</td>\n",
       "      <td>2014</td>\n",
       "      <td>M</td>\n",
       "      <td>3.6</td>\n",
       "    </tr>\n",
       "    <tr>\n",
       "      <th>3</th>\n",
       "      <td>Dave</td>\n",
       "      <td>2014</td>\n",
       "      <td>M</td>\n",
       "      <td>3.3</td>\n",
       "    </tr>\n",
       "    <tr>\n",
       "      <th>4</th>\n",
       "      <td>Evelyn</td>\n",
       "      <td>2013</td>\n",
       "      <td>F</td>\n",
       "      <td>3.9</td>\n",
       "    </tr>\n",
       "    <tr>\n",
       "      <th>5</th>\n",
       "      <td>Frank</td>\n",
       "      <td>2011</td>\n",
       "      <td>M</td>\n",
       "      <td>3.2</td>\n",
       "    </tr>\n",
       "    <tr>\n",
       "      <th>6</th>\n",
       "      <td>Gary</td>\n",
       "      <td>2015</td>\n",
       "      <td>M</td>\n",
       "      <td>3.5</td>\n",
       "    </tr>\n",
       "  </tbody>\n",
       "</table>\n",
       "</div>"
      ],
      "text/plain": [
       "      Name  Gradyear Gender  Gpa\n",
       "0    Alice      2012      F  3.8\n",
       "1      Bob      2011      M  3.1\n",
       "2  Charlie      2014      M  3.6\n",
       "3     Dave      2014      M  3.3\n",
       "4   Evelyn      2013      F  3.9\n",
       "5    Frank      2011      M  3.2\n",
       "6     Gary      2015      M  3.5"
      ]
     },
     "execution_count": 2,
     "metadata": {},
     "output_type": "execute_result"
    }
   ],
   "source": [
    "toy = pd.read_csv('toydataset.csv')\n",
    "toy"
   ]
  },
  {
   "cell_type": "markdown",
   "metadata": {},
   "source": [
    "You can represent the above `toy` database as a vector __x__, where $x_i$ represents the counts of $\\phi_i$ for i from 1 through 8. There are 8 spots because there are 4 levels for Gradyear and 2 levels for Gender; 4 * 2 = 8. \n",
    "\n",
    "Let R = (name, gradyear, gender, gpa) be the schema for the database. Each $\\phi_i$ represents the schema for all M or F in a specific year. For instance, $\\phi_1$ represents all the males in 2011, i.e. R(\\*, 2011, M, \\*), and $\\phi_2$ represents all the women in 2011, i.e. R(*, 2011, F, *). \n",
    "\n",
    "__x__ is the vector representation of the above database:"
   ]
  },
  {
   "cell_type": "code",
   "execution_count": 3,
   "metadata": {},
   "outputs": [],
   "source": [
    "x_toy = np.array([2, 0, 0, 1, 0, 1, 2, 0])"
   ]
  },
  {
   "cell_type": "markdown",
   "metadata": {},
   "source": [
    "Each index has the counts for each schema corresponding to it (i.e., the year and gender pairing). "
   ]
  },
  {
   "cell_type": "markdown",
   "metadata": {},
   "source": [
    "Here is a workload of 5 queries, where $w_i$ represent different queries, such as: \n",
    "\n",
    "- $w_1$: Students of any gender with gradyear ∈ [2011, 2014]\n",
    "- $w_2$: Students with gradyear ∈ [2011, 2012]\n",
    "- $w_3$: Female students with gradyear ∈ [2011, 2012]\n",
    "- $w_4$: Male students with gradyear ∈ [2011, 2012]\n",
    "- $w_5$: Difference between 2013 grads and 2014 grads\n",
    "\n",
    "Combine these queries into a workload matrix called `W_toy`:"
   ]
  },
  {
   "cell_type": "code",
   "execution_count": 4,
   "metadata": {},
   "outputs": [],
   "source": [
    "W_toy = np.array([[1, 1, 1, 1, 1, 1, 1, 1],\n",
    "         [1, 1, 1, 1, 0, 0, 0, 0],\n",
    "         [0, 1, 0, 1, 0, 0, 0, 0],\n",
    "         [1, 0, 1, 0, 0, 0, 0, 0], \n",
    "         [0, 0, 0, 0, 1, 1, -1, -1]])"
   ]
  },
  {
   "cell_type": "markdown",
   "metadata": {},
   "source": [
    "Now, you can evaluate each query $w_i$ by dotting it with __x__, or by multiplying the workload matrix by __x__:"
   ]
  },
  {
   "cell_type": "code",
   "execution_count": 5,
   "metadata": {},
   "outputs": [
    {
     "data": {
      "text/plain": [
       "6"
      ]
     },
     "execution_count": 5,
     "metadata": {},
     "output_type": "execute_result"
    }
   ],
   "source": [
    "np.dot(W_toy[0], x_toy) # evaluating the first query in the workload"
   ]
  },
  {
   "cell_type": "code",
   "execution_count": 6,
   "metadata": {},
   "outputs": [
    {
     "data": {
      "text/plain": [
       "array([ 6,  3,  1,  2, -1])"
      ]
     },
     "execution_count": 6,
     "metadata": {},
     "output_type": "execute_result"
    }
   ],
   "source": [
    "np.matmul(W_toy, x_toy) # evaluating the entire workload with x"
   ]
  },
  {
   "cell_type": "markdown",
   "metadata": {},
   "source": [
    "# Private Multiplicative Weights"
   ]
  },
  {
   "cell_type": "markdown",
   "metadata": {},
   "source": [
    "In this section, I'll attempt to implement the private multiplicative weights algorithm from the [Hardt, et al 2014 paper](https://guyrothblum.files.wordpress.com/2014/11/hr10.pdf), and I will apply it to four examples. "
   ]
  },
  {
   "cell_type": "code",
   "execution_count": 7,
   "metadata": {},
   "outputs": [],
   "source": [
    "def pmw(W, x, eps = 0.1, beta = 0.1):\n",
    "    '''\n",
    "    Implement Private Multiplicative Weights Mechanism (PMW) on a workload of linear queries.\n",
    "    \n",
    "    - W = workload of queries (M x k numpy array)\n",
    "    - x = true database (M x 1 numpy array)\n",
    "    '''\n",
    "    print(f'original database: {x}')\n",
    "    print(f'workload: \\n{W}')\n",
    "    \n",
    "    M = x.size # len of database\n",
    "    n = x.sum() # sum of database\n",
    "    k = len(W) # num of queries\n",
    "    delta = 1/(n*math.log(n, 2))\n",
    "    \n",
    "    x_norm = x / np.sum(x)\n",
    "    #print(f'x_norm: {x_norm}')\n",
    "    eta = math.log(M, 2)**(1/4)/math.sqrt(n)\n",
    "    sigma = 10 * math.log(1/delta, 2) * (math.log(M, 2))**(1/4)/(math.sqrt(n)*eps) \n",
    "    T = 4 * sigma * (math.log(k, 2) + math.log(1/beta, 2)) # threshold\n",
    "    \n",
    "    # initialize synthetic database at time 0 (prior to any queries)\n",
    "    y_t = np.ones(M)/M\n",
    "    x_t = np.ones(M)/M # fractional histogram computed in round t\n",
    "    \n",
    "    # append to list of databases y_t and x_t\n",
    "    y_list = [y_t]\n",
    "    x_list = [x_t]\n",
    "    \n",
    "    update_count = 0\n",
    "    query_answers = []\n",
    "    d_t_hat_list = []\n",
    "    \n",
    "    # iterate through time = [1, k] \n",
    "    for t in range(1, k + 1): \n",
    "        \n",
    "        # compute noisy answer by adding Laplacian noise \n",
    "        A_t = np.random.laplace(0, sigma, 1)[0]  \n",
    "        a_t_hat = np.dot(W[t - 1], x) + A_t\n",
    "        #print(f'a_t_hat: {a_t_hat}')\n",
    "        \n",
    "        # compute difference between noisy answer and answer from maintained histogram\n",
    "        d_t_hat = a_t_hat - np.dot(W[t - 1], x_list[t - 1]) \n",
    "        \n",
    "        # lazy round: use already maintained histogram to answer the query\n",
    "        if (abs(d_t_hat) <= T): \n",
    "            query_answers.append(np.dot(W[t - 1], x_list[t - 1]))\n",
    "            x_list.append(x_list[t - 1])\n",
    "            continue\n",
    "            \n",
    "        # update round: update the histogram and return the noisy answer, abs(d_t_hat) > T\n",
    "        else: \n",
    "            update_count+=1\n",
    "            #step a\n",
    "            r_t = np.zeros(M)\n",
    "            if d_t_hat > 0:\n",
    "                r_t = W[t - 1]\n",
    "            else: \n",
    "                r_t = np.ones(M) - W[t - 1]\n",
    "            for i in range(len(x_t)):\n",
    "                y_t[i] = x_list[t - 1][i] * math.exp(-eta * W[t - 1][i])\n",
    "            y_list.append(y_t)\n",
    "            \n",
    "            #step b\n",
    "            x_t = y_t / np.sum(y_t)\n",
    "            x_list.append(x_t)\n",
    "            \n",
    "        #print(f'the algo updated {update_count} times, the update threshold for failure was n * math.log(M)**(1/2): {n * math.log(M)**(1/2)}. n is {n}, and M is {M}')\n",
    "        print(f'the algo updated {update_count} times, the update threshold for failure was 1 * math.log(M)**(1/2): {1 * math.log(M)**(1/2)}. n is {1}, and M is {M}')\n",
    "        \n",
    "        \n",
    "        if update_count > 1 * math.log(M, 2)**(1/2): #n * math.log(M, 2)**(1/2):\n",
    "            return \"failure\"\n",
    "        else: \n",
    "            query_answers.append(a_t_hat / np.sum(x))\n",
    "    \n",
    "    # print(f'T (Threshold) = {T}')    \n",
    "    print(f'query_answers (using pmw): {query_answers}')\n",
    "    print(f'Update Count = {update_count}')  \n",
    "    \n",
    "    return query_answers"
   ]
  },
  {
   "cell_type": "markdown",
   "metadata": {},
   "source": [
    "# 5/30 - Trying different ektelo workloads"
   ]
  },
  {
   "cell_type": "markdown",
   "metadata": {},
   "source": [
    "### Ex. 1. Toy Workload from Li, et. al 2014 paper"
   ]
  },
  {
   "cell_type": "code",
   "execution_count": 8,
   "metadata": {
    "scrolled": true
   },
   "outputs": [
    {
     "name": "stdout",
     "output_type": "stream",
     "text": [
      "original database: [2 0 0 1 0 1 2 0]\n",
      "workload: \n",
      "[[ 1  1  1  1  1  1  1  1]\n",
      " [ 1  1  1  1  0  0  0  0]\n",
      " [ 0  1  0  1  0  0  0  0]\n",
      " [ 1  0  1  0  0  0  0  0]\n",
      " [ 0  0  0  0  1  1 -1 -1]]\n",
      "query_answers (using pmw): [1.0, 0.5, 0.25, 0.25, 0.0]\n",
      "Update Count = 0\n"
     ]
    },
    {
     "data": {
      "text/plain": [
       "[1.0, 0.5, 0.25, 0.25, 0.0]"
      ]
     },
     "execution_count": 8,
     "metadata": {},
     "output_type": "execute_result"
    }
   ],
   "source": [
    "pmw(W_toy, x_toy) # run pmw using the toy datasets/queries from above"
   ]
  },
  {
   "cell_type": "markdown",
   "metadata": {},
   "source": [
    "### Ex. 2. Identity Total Workload"
   ]
  },
  {
   "cell_type": "code",
   "execution_count": 9,
   "metadata": {},
   "outputs": [
    {
     "name": "stdout",
     "output_type": "stream",
     "text": [
      "original database: [2 0 0 1 0 1 2 0]\n",
      "workload: \n",
      "[[1. 0. 0. 0. 0. 0. 0. 0.]\n",
      " [0. 1. 0. 0. 0. 0. 0. 0.]\n",
      " [0. 0. 1. 0. 0. 0. 0. 0.]\n",
      " [0. 0. 0. 1. 0. 0. 0. 0.]\n",
      " [0. 0. 0. 0. 1. 0. 0. 0.]\n",
      " [0. 0. 0. 0. 0. 1. 0. 0.]\n",
      " [0. 0. 0. 0. 0. 0. 1. 0.]\n",
      " [0. 0. 0. 0. 0. 0. 0. 1.]\n",
      " [1. 1. 1. 1. 1. 1. 1. 1.]]\n",
      "query_answers (using pmw): [0.125, 0.125, 0.125, 0.125, 0.125, 0.125, 0.125, 0.125, 1.0]\n",
      "Update Count = 0\n"
     ]
    },
    {
     "data": {
      "text/plain": [
       "[0.125, 0.125, 0.125, 0.125, 0.125, 0.125, 0.125, 0.125, 1.0]"
      ]
     },
     "execution_count": 9,
     "metadata": {},
     "output_type": "execute_result"
    }
   ],
   "source": [
    "W1 = workload.IdentityTotal(8).dense_matrix()\n",
    "pmw(W1, x_toy)"
   ]
  },
  {
   "cell_type": "markdown",
   "metadata": {},
   "source": [
    "### Ex. 3. All Range Workload"
   ]
  },
  {
   "cell_type": "code",
   "execution_count": 10,
   "metadata": {},
   "outputs": [
    {
     "name": "stdout",
     "output_type": "stream",
     "text": [
      "original database: [2 0 0 1 0 1 2 0]\n",
      "workload: \n",
      "[[1. 0. 0. 0. 0. 0. 0. 0.]\n",
      " [1. 1. 0. 0. 0. 0. 0. 0.]\n",
      " [1. 1. 1. 0. 0. 0. 0. 0.]\n",
      " [1. 1. 1. 1. 0. 0. 0. 0.]\n",
      " [1. 1. 1. 1. 1. 0. 0. 0.]\n",
      " [1. 1. 1. 1. 1. 1. 0. 0.]\n",
      " [1. 1. 1. 1. 1. 1. 1. 0.]\n",
      " [1. 1. 1. 1. 1. 1. 1. 1.]\n",
      " [0. 1. 0. 0. 0. 0. 0. 0.]\n",
      " [0. 1. 1. 0. 0. 0. 0. 0.]\n",
      " [0. 1. 1. 1. 0. 0. 0. 0.]\n",
      " [0. 1. 1. 1. 1. 0. 0. 0.]\n",
      " [0. 1. 1. 1. 1. 1. 0. 0.]\n",
      " [0. 1. 1. 1. 1. 1. 1. 0.]\n",
      " [0. 1. 1. 1. 1. 1. 1. 1.]\n",
      " [0. 0. 1. 0. 0. 0. 0. 0.]\n",
      " [0. 0. 1. 1. 0. 0. 0. 0.]\n",
      " [0. 0. 1. 1. 1. 0. 0. 0.]\n",
      " [0. 0. 1. 1. 1. 1. 0. 0.]\n",
      " [0. 0. 1. 1. 1. 1. 1. 0.]\n",
      " [0. 0. 1. 1. 1. 1. 1. 1.]\n",
      " [0. 0. 0. 1. 0. 0. 0. 0.]\n",
      " [0. 0. 0. 1. 1. 0. 0. 0.]\n",
      " [0. 0. 0. 1. 1. 1. 0. 0.]\n",
      " [0. 0. 0. 1. 1. 1. 1. 0.]\n",
      " [0. 0. 0. 1. 1. 1. 1. 1.]\n",
      " [0. 0. 0. 0. 1. 0. 0. 0.]\n",
      " [0. 0. 0. 0. 1. 1. 0. 0.]\n",
      " [0. 0. 0. 0. 1. 1. 1. 0.]\n",
      " [0. 0. 0. 0. 1. 1. 1. 1.]\n",
      " [0. 0. 0. 0. 0. 1. 0. 0.]\n",
      " [0. 0. 0. 0. 0. 1. 1. 0.]\n",
      " [0. 0. 0. 0. 0. 1. 1. 1.]\n",
      " [0. 0. 0. 0. 0. 0. 1. 0.]\n",
      " [0. 0. 0. 0. 0. 0. 1. 1.]\n",
      " [0. 0. 0. 0. 0. 0. 0. 1.]]\n",
      "query_answers (using pmw): [0.125, 0.25, 0.375, 0.5, 0.625, 0.75, 0.875, 1.0, 0.125, 0.25, 0.375, 0.5, 0.625, 0.75, 0.875, 0.125, 0.25, 0.375, 0.5, 0.625, 0.75, 0.125, 0.25, 0.375, 0.5, 0.625, 0.125, 0.25, 0.375, 0.5, 0.125, 0.25, 0.375, 0.125, 0.25, 0.125]\n",
      "Update Count = 0\n"
     ]
    },
    {
     "data": {
      "text/plain": [
       "[0.125,\n",
       " 0.25,\n",
       " 0.375,\n",
       " 0.5,\n",
       " 0.625,\n",
       " 0.75,\n",
       " 0.875,\n",
       " 1.0,\n",
       " 0.125,\n",
       " 0.25,\n",
       " 0.375,\n",
       " 0.5,\n",
       " 0.625,\n",
       " 0.75,\n",
       " 0.875,\n",
       " 0.125,\n",
       " 0.25,\n",
       " 0.375,\n",
       " 0.5,\n",
       " 0.625,\n",
       " 0.75,\n",
       " 0.125,\n",
       " 0.25,\n",
       " 0.375,\n",
       " 0.5,\n",
       " 0.625,\n",
       " 0.125,\n",
       " 0.25,\n",
       " 0.375,\n",
       " 0.5,\n",
       " 0.125,\n",
       " 0.25,\n",
       " 0.375,\n",
       " 0.125,\n",
       " 0.25,\n",
       " 0.125]"
      ]
     },
     "execution_count": 10,
     "metadata": {},
     "output_type": "execute_result"
    }
   ],
   "source": [
    "W2 = workload.AllRange(8).dense_matrix()\n",
    "pmw(W2, x_toy)"
   ]
  },
  {
   "cell_type": "markdown",
   "metadata": {},
   "source": [
    "### Ex. 4. H2 Workload"
   ]
  },
  {
   "cell_type": "code",
   "execution_count": 11,
   "metadata": {},
   "outputs": [
    {
     "name": "stdout",
     "output_type": "stream",
     "text": [
      "original database: [2 0 0 1 0 1 2 0]\n",
      "workload: \n",
      "[[1. 0. 0. 0. 0. 0. 0. 0.]\n",
      " [0. 1. 0. 0. 0. 0. 0. 0.]\n",
      " [0. 0. 1. 0. 0. 0. 0. 0.]\n",
      " [0. 0. 0. 1. 0. 0. 0. 0.]\n",
      " [0. 0. 0. 0. 1. 0. 0. 0.]\n",
      " [0. 0. 0. 0. 0. 1. 0. 0.]\n",
      " [0. 0. 0. 0. 0. 0. 1. 0.]\n",
      " [0. 0. 0. 0. 0. 0. 0. 1.]\n",
      " [1. 1. 0. 0. 0. 0. 0. 0.]\n",
      " [0. 0. 1. 1. 0. 0. 0. 0.]\n",
      " [0. 0. 0. 0. 1. 1. 0. 0.]\n",
      " [0. 0. 0. 0. 0. 0. 1. 1.]\n",
      " [1. 1. 1. 1. 0. 0. 0. 0.]\n",
      " [0. 0. 0. 0. 1. 1. 1. 1.]\n",
      " [1. 1. 1. 1. 1. 1. 1. 1.]]\n",
      "query_answers (using pmw): [0.125, 0.125, 0.125, 0.125, 0.125, 0.125, 0.125, 0.125, 0.25, 0.25, 0.25, 0.25, 0.5, 0.5, 1.0]\n",
      "Update Count = 0\n"
     ]
    },
    {
     "data": {
      "text/plain": [
       "[0.125,\n",
       " 0.125,\n",
       " 0.125,\n",
       " 0.125,\n",
       " 0.125,\n",
       " 0.125,\n",
       " 0.125,\n",
       " 0.125,\n",
       " 0.25,\n",
       " 0.25,\n",
       " 0.25,\n",
       " 0.25,\n",
       " 0.5,\n",
       " 0.5,\n",
       " 1.0]"
      ]
     },
     "execution_count": 11,
     "metadata": {},
     "output_type": "execute_result"
    }
   ],
   "source": [
    "W3 = workload.H2(8).dense_matrix()\n",
    "pmw(W3, x_toy)"
   ]
  },
  {
   "cell_type": "markdown",
   "metadata": {},
   "source": [
    "## Ex. 5. Males in one year only"
   ]
  },
  {
   "cell_type": "code",
   "execution_count": 12,
   "metadata": {},
   "outputs": [
    {
     "name": "stdout",
     "output_type": "stream",
     "text": [
      "original database: [1000 1210    0 1250    0 1450    0 1720]\n",
      "workload: \n",
      "[[ 1  1  1  1  1  1  1  1]\n",
      " [ 1  1  1  1  0  0  0  0]\n",
      " [ 0  1  0  1  0  0  0  0]\n",
      " [ 1  0  1  0  0  0  0  0]\n",
      " [ 0  0  0  0  1  1 -1 -1]]\n",
      "the algo updated 1 times, the update threshold for failure was 1 * math.log(M)**(1/2): 1.442026886600883. n is 1, and M is 8\n",
      "the algo updated 2 times, the update threshold for failure was 1 * math.log(M)**(1/2): 1.442026886600883. n is 1, and M is 8\n"
     ]
    },
    {
     "data": {
      "text/plain": [
       "'failure'"
      ]
     },
     "execution_count": 12,
     "metadata": {},
     "output_type": "execute_result"
    }
   ],
   "source": [
    "x_ex_5 = np.array([1000, 1210, 0, 1250, 0, 1450, 0, 1720])\n",
    "pmw(W_toy, x_ex_5)"
   ]
  },
  {
   "cell_type": "markdown",
   "metadata": {},
   "source": [
    "# 6/22"
   ]
  },
  {
   "cell_type": "markdown",
   "metadata": {},
   "source": [
    "## 1. Variation in database size"
   ]
  },
  {
   "cell_type": "code",
   "execution_count": 13,
   "metadata": {},
   "outputs": [
    {
     "name": "stdout",
     "output_type": "stream",
     "text": [
      "original database: [10 12 13 12 15 14 17 17]\n",
      "workload: \n",
      "[[ 1  1  1  1  1  1  1  1]\n",
      " [ 1  1  1  1  0  0  0  0]\n",
      " [ 0  1  0  1  0  0  0  0]\n",
      " [ 1  0  1  0  0  0  0  0]\n",
      " [ 0  0  0  0  1  1 -1 -1]]\n",
      "query_answers (using pmw): [1.0, 0.5, 0.25, 0.25, 0.0]\n",
      "Update Count = 0\n"
     ]
    },
    {
     "data": {
      "text/plain": [
       "[1.0, 0.5, 0.25, 0.25, 0.0]"
      ]
     },
     "execution_count": 13,
     "metadata": {},
     "output_type": "execute_result"
    }
   ],
   "source": [
    "x_very_small = np.array([10, 12, 13, 12, 15, 14, 17, 17])\n",
    "pmw(W_toy, x_very_small) "
   ]
  },
  {
   "cell_type": "code",
   "execution_count": 14,
   "metadata": {},
   "outputs": [
    {
     "name": "stdout",
     "output_type": "stream",
     "text": [
      "original database: [100 121 130 125 150 145 170 172]\n",
      "workload: \n",
      "[[ 1  1  1  1  1  1  1  1]\n",
      " [ 1  1  1  1  0  0  0  0]\n",
      " [ 0  1  0  1  0  0  0  0]\n",
      " [ 1  0  1  0  0  0  0  0]\n",
      " [ 0  0  0  0  1  1 -1 -1]]\n",
      "query_answers (using pmw): [1.0, 0.5, 0.25, 0.25, 0.0]\n",
      "Update Count = 0\n"
     ]
    },
    {
     "data": {
      "text/plain": [
       "[1.0, 0.5, 0.25, 0.25, 0.0]"
      ]
     },
     "execution_count": 14,
     "metadata": {},
     "output_type": "execute_result"
    }
   ],
   "source": [
    "x_small = np.array([100, 121, 130, 125, 150, 145, 170, 172])\n",
    "pmw(W_toy, x_small) "
   ]
  },
  {
   "cell_type": "code",
   "execution_count": 15,
   "metadata": {},
   "outputs": [
    {
     "name": "stdout",
     "output_type": "stream",
     "text": [
      "original database: [1000 1210 1300 1250 1500 1450 1700 1720]\n",
      "workload: \n",
      "[[ 1  1  1  1  1  1  1  1]\n",
      " [ 1  1  1  1  0  0  0  0]\n",
      " [ 0  1  0  1  0  0  0  0]\n",
      " [ 1  0  1  0  0  0  0  0]\n",
      " [ 0  0  0  0  1  1 -1 -1]]\n",
      "the algo updated 1 times, the update threshold for failure was 1 * math.log(M)**(1/2): 1.442026886600883. n is 1, and M is 8\n",
      "the algo updated 2 times, the update threshold for failure was 1 * math.log(M)**(1/2): 1.442026886600883. n is 1, and M is 8\n"
     ]
    },
    {
     "data": {
      "text/plain": [
       "'failure'"
      ]
     },
     "execution_count": 15,
     "metadata": {},
     "output_type": "execute_result"
    }
   ],
   "source": [
    "x_large = np.array([1000, 1210, 1300, 1250, 1500, 1450, 1700, 1720])\n",
    "pmw(W_toy, x_large) "
   ]
  },
  {
   "cell_type": "code",
   "execution_count": 16,
   "metadata": {},
   "outputs": [
    {
     "name": "stdout",
     "output_type": "stream",
     "text": [
      "original database: [10000 12100 13000 12500 15000 14500 17000 17200]\n",
      "workload: \n",
      "[[ 1  1  1  1  1  1  1  1]\n",
      " [ 1  1  1  1  0  0  0  0]\n",
      " [ 0  1  0  1  0  0  0  0]\n",
      " [ 1  0  1  0  0  0  0  0]\n",
      " [ 0  0  0  0  1  1 -1 -1]]\n",
      "the algo updated 1 times, the update threshold for failure was 1 * math.log(M)**(1/2): 1.442026886600883. n is 1, and M is 8\n",
      "the algo updated 2 times, the update threshold for failure was 1 * math.log(M)**(1/2): 1.442026886600883. n is 1, and M is 8\n"
     ]
    },
    {
     "data": {
      "text/plain": [
       "'failure'"
      ]
     },
     "execution_count": 16,
     "metadata": {},
     "output_type": "execute_result"
    }
   ],
   "source": [
    "x_really_large = np.array([10000, 12100, 13000, 12500, 15000, 14500, 17000, 17200])\n",
    "pmw(W_toy, x_really_large) "
   ]
  },
  {
   "cell_type": "code",
   "execution_count": 17,
   "metadata": {},
   "outputs": [
    {
     "name": "stdout",
     "output_type": "stream",
     "text": [
      "original database: [ 5000  6100 13000  9500  8100  9000 12000 14000]\n",
      "workload: \n",
      "[[ 1  1  1  1  1  1  1  1]\n",
      " [ 1  1  1  1  0  0  0  0]\n",
      " [ 0  1  0  1  0  0  0  0]\n",
      " [ 1  0  1  0  0  0  0  0]\n",
      " [ 0  0  0  0  1  1 -1 -1]]\n",
      "the algo updated 1 times, the update threshold for failure was 1 * math.log(M)**(1/2): 1.442026886600883. n is 1, and M is 8\n",
      "the algo updated 2 times, the update threshold for failure was 1 * math.log(M)**(1/2): 1.442026886600883. n is 1, and M is 8\n"
     ]
    },
    {
     "data": {
      "text/plain": [
       "'failure'"
      ]
     },
     "execution_count": 17,
     "metadata": {},
     "output_type": "execute_result"
    }
   ],
   "source": [
    "x_really_large_variant = np.array([5000, 6100, 13000, 9500, 8100, 9000, 12000, 14000])\n",
    "pmw(W_toy, x_really_large_variant) "
   ]
  },
  {
   "cell_type": "markdown",
   "metadata": {},
   "source": [
    "Conclusion: Adding variation didn't really change much, x still isn't updating."
   ]
  },
  {
   "cell_type": "markdown",
   "metadata": {},
   "source": [
    "## 2. Variation in epsilon"
   ]
  },
  {
   "cell_type": "code",
   "execution_count": 18,
   "metadata": {},
   "outputs": [
    {
     "name": "stdout",
     "output_type": "stream",
     "text": [
      "original database: [1000 1210 1300 1250 1500 1450 1700 1720]\n",
      "workload: \n",
      "[[ 1  1  1  1  1  1  1  1]\n",
      " [ 1  1  1  1  0  0  0  0]\n",
      " [ 0  1  0  1  0  0  0  0]\n",
      " [ 1  0  1  0  0  0  0  0]\n",
      " [ 0  0  0  0  1  1 -1 -1]]\n",
      "the algo updated 1 times, the update threshold for failure was 1 * math.log(M)**(1/2): 1.442026886600883. n is 1, and M is 8\n",
      "the algo updated 2 times, the update threshold for failure was 1 * math.log(M)**(1/2): 1.442026886600883. n is 1, and M is 8\n"
     ]
    },
    {
     "data": {
      "text/plain": [
       "'failure'"
      ]
     },
     "execution_count": 18,
     "metadata": {},
     "output_type": "execute_result"
    }
   ],
   "source": [
    "pmw(W_toy, x_large, eps=10000) "
   ]
  },
  {
   "cell_type": "code",
   "execution_count": 19,
   "metadata": {},
   "outputs": [
    {
     "name": "stdout",
     "output_type": "stream",
     "text": [
      "original database: [1000 1210 1300 1250 1500 1450 1700 1720]\n",
      "workload: \n",
      "[[ 1  1  1  1  1  1  1  1]\n",
      " [ 1  1  1  1  0  0  0  0]\n",
      " [ 0  1  0  1  0  0  0  0]\n",
      " [ 1  0  1  0  0  0  0  0]\n",
      " [ 0  0  0  0  1  1 -1 -1]]\n",
      "the algo updated 1 times, the update threshold for failure was 1 * math.log(M)**(1/2): 1.442026886600883. n is 1, and M is 8\n",
      "the algo updated 2 times, the update threshold for failure was 1 * math.log(M)**(1/2): 1.442026886600883. n is 1, and M is 8\n"
     ]
    },
    {
     "data": {
      "text/plain": [
       "'failure'"
      ]
     },
     "execution_count": 19,
     "metadata": {},
     "output_type": "execute_result"
    }
   ],
   "source": [
    "pmw(W_toy, x_large, eps=12.2) "
   ]
  },
  {
   "cell_type": "code",
   "execution_count": 20,
   "metadata": {},
   "outputs": [
    {
     "name": "stdout",
     "output_type": "stream",
     "text": [
      "original database: [1000 1210 1300 1250 1500 1450 1700 1720]\n",
      "workload: \n",
      "[[ 1  1  1  1  1  1  1  1]\n",
      " [ 1  1  1  1  0  0  0  0]\n",
      " [ 0  1  0  1  0  0  0  0]\n",
      " [ 1  0  1  0  0  0  0  0]\n",
      " [ 0  0  0  0  1  1 -1 -1]]\n",
      "the algo updated 1 times, the update threshold for failure was 1 * math.log(M)**(1/2): 1.442026886600883. n is 1, and M is 8\n",
      "the algo updated 2 times, the update threshold for failure was 1 * math.log(M)**(1/2): 1.442026886600883. n is 1, and M is 8\n"
     ]
    },
    {
     "data": {
      "text/plain": [
       "'failure'"
      ]
     },
     "execution_count": 20,
     "metadata": {},
     "output_type": "execute_result"
    }
   ],
   "source": [
    "pmw(W_toy, x_large, eps=4.5) "
   ]
  },
  {
   "cell_type": "code",
   "execution_count": 21,
   "metadata": {},
   "outputs": [
    {
     "name": "stdout",
     "output_type": "stream",
     "text": [
      "original database: [1000 1210 1300 1250 1500 1450 1700 1720]\n",
      "workload: \n",
      "[[ 1  1  1  1  1  1  1  1]\n",
      " [ 1  1  1  1  0  0  0  0]\n",
      " [ 0  1  0  1  0  0  0  0]\n",
      " [ 1  0  1  0  0  0  0  0]\n",
      " [ 0  0  0  0  1  1 -1 -1]]\n",
      "the algo updated 1 times, the update threshold for failure was 1 * math.log(M)**(1/2): 1.442026886600883. n is 1, and M is 8\n",
      "the algo updated 2 times, the update threshold for failure was 1 * math.log(M)**(1/2): 1.442026886600883. n is 1, and M is 8\n"
     ]
    },
    {
     "data": {
      "text/plain": [
       "'failure'"
      ]
     },
     "execution_count": 21,
     "metadata": {},
     "output_type": "execute_result"
    }
   ],
   "source": [
    "pmw(W_toy, x_large, eps=0.1) "
   ]
  },
  {
   "cell_type": "code",
   "execution_count": 22,
   "metadata": {},
   "outputs": [
    {
     "name": "stdout",
     "output_type": "stream",
     "text": [
      "original database: [1000 1210 1300 1250 1500 1450 1700 1720]\n",
      "workload: \n",
      "[[ 1  1  1  1  1  1  1  1]\n",
      " [ 1  1  1  1  0  0  0  0]\n",
      " [ 0  1  0  1  0  0  0  0]\n",
      " [ 1  0  1  0  0  0  0  0]\n",
      " [ 0  0  0  0  1  1 -1 -1]]\n",
      "the algo updated 1 times, the update threshold for failure was 1 * math.log(M)**(1/2): 1.442026886600883. n is 1, and M is 8\n",
      "query_answers (using pmw): [1.0033444344420555, 0.5, 0.25, 0.25, 0.0]\n",
      "Update Count = 1\n"
     ]
    },
    {
     "data": {
      "text/plain": [
       "[1.0033444344420555, 0.5, 0.25, 0.25, 0.0]"
      ]
     },
     "execution_count": 22,
     "metadata": {},
     "output_type": "execute_result"
    }
   ],
   "source": [
    "pmw(W_toy, x_large, eps=0.01) "
   ]
  },
  {
   "cell_type": "markdown",
   "metadata": {},
   "source": [
    "## 2. Sparse-Dense"
   ]
  },
  {
   "cell_type": "code",
   "execution_count": 23,
   "metadata": {},
   "outputs": [],
   "source": [
    "W_identity = workload.Identity(8).dense_matrix()\n",
    "W_allrange = workload.AllRange(8).dense_matrix()\n",
    "W_total = workload.Total(8).dense_matrix()"
   ]
  },
  {
   "cell_type": "markdown",
   "metadata": {},
   "source": [
    "### Sparse -> Dense"
   ]
  },
  {
   "cell_type": "code",
   "execution_count": 24,
   "metadata": {},
   "outputs": [
    {
     "name": "stdout",
     "output_type": "stream",
     "text": [
      "original database: [1000 1210 1300 1250 1500 1450 1700 1720]\n",
      "workload: \n",
      "[[1. 0. 0. 0. 0. 0. 0. 0.]\n",
      " [0. 1. 0. 0. 0. 0. 0. 0.]\n",
      " [0. 0. 1. 0. 0. 0. 0. 0.]\n",
      " [0. 0. 0. 1. 0. 0. 0. 0.]\n",
      " [0. 0. 0. 0. 1. 0. 0. 0.]\n",
      " [0. 0. 0. 0. 0. 1. 0. 0.]\n",
      " [0. 0. 0. 0. 0. 0. 1. 0.]\n",
      " [0. 0. 0. 0. 0. 0. 0. 1.]\n",
      " [1. 0. 0. 0. 0. 0. 0. 0.]\n",
      " [1. 1. 0. 0. 0. 0. 0. 0.]\n",
      " [1. 1. 1. 0. 0. 0. 0. 0.]\n",
      " [1. 1. 1. 1. 0. 0. 0. 0.]\n",
      " [1. 1. 1. 1. 1. 0. 0. 0.]\n",
      " [1. 1. 1. 1. 1. 1. 0. 0.]\n",
      " [1. 1. 1. 1. 1. 1. 1. 0.]\n",
      " [1. 1. 1. 1. 1. 1. 1. 1.]\n",
      " [0. 1. 0. 0. 0. 0. 0. 0.]\n",
      " [0. 1. 1. 0. 0. 0. 0. 0.]\n",
      " [0. 1. 1. 1. 0. 0. 0. 0.]\n",
      " [0. 1. 1. 1. 1. 0. 0. 0.]\n",
      " [0. 1. 1. 1. 1. 1. 0. 0.]\n",
      " [0. 1. 1. 1. 1. 1. 1. 0.]\n",
      " [0. 1. 1. 1. 1. 1. 1. 1.]\n",
      " [0. 0. 1. 0. 0. 0. 0. 0.]\n",
      " [0. 0. 1. 1. 0. 0. 0. 0.]\n",
      " [0. 0. 1. 1. 1. 0. 0. 0.]\n",
      " [0. 0. 1. 1. 1. 1. 0. 0.]\n",
      " [0. 0. 1. 1. 1. 1. 1. 0.]\n",
      " [0. 0. 1. 1. 1. 1. 1. 1.]\n",
      " [0. 0. 0. 1. 0. 0. 0. 0.]\n",
      " [0. 0. 0. 1. 1. 0. 0. 0.]\n",
      " [0. 0. 0. 1. 1. 1. 0. 0.]\n",
      " [0. 0. 0. 1. 1. 1. 1. 0.]\n",
      " [0. 0. 0. 1. 1. 1. 1. 1.]\n",
      " [0. 0. 0. 0. 1. 0. 0. 0.]\n",
      " [0. 0. 0. 0. 1. 1. 0. 0.]\n",
      " [0. 0. 0. 0. 1. 1. 1. 0.]\n",
      " [0. 0. 0. 0. 1. 1. 1. 1.]\n",
      " [0. 0. 0. 0. 0. 1. 0. 0.]\n",
      " [0. 0. 0. 0. 0. 1. 1. 0.]\n",
      " [0. 0. 0. 0. 0. 1. 1. 1.]\n",
      " [0. 0. 0. 0. 0. 0. 1. 0.]\n",
      " [0. 0. 0. 0. 0. 0. 1. 1.]\n",
      " [0. 0. 0. 0. 0. 0. 0. 1.]]\n",
      "the algo updated 1 times, the update threshold for failure was 1 * math.log(M)**(1/2): 1.442026886600883. n is 1, and M is 8\n",
      "the algo updated 2 times, the update threshold for failure was 1 * math.log(M)**(1/2): 1.442026886600883. n is 1, and M is 8\n"
     ]
    },
    {
     "data": {
      "text/plain": [
       "'failure'"
      ]
     },
     "execution_count": 24,
     "metadata": {},
     "output_type": "execute_result"
    }
   ],
   "source": [
    "W_sd = np.vstack((W_identity, W_allrange))\n",
    "pmw(W_sd, x_large) "
   ]
  },
  {
   "cell_type": "markdown",
   "metadata": {},
   "source": [
    "### Dense -> Sparse"
   ]
  },
  {
   "cell_type": "code",
   "execution_count": 25,
   "metadata": {},
   "outputs": [
    {
     "name": "stdout",
     "output_type": "stream",
     "text": [
      "original database: [1000 1210 1300 1250 1500 1450 1700 1720]\n",
      "workload: \n",
      "[[1. 0. 0. 0. 0. 0. 0. 0.]\n",
      " [1. 1. 0. 0. 0. 0. 0. 0.]\n",
      " [1. 1. 1. 0. 0. 0. 0. 0.]\n",
      " [1. 1. 1. 1. 0. 0. 0. 0.]\n",
      " [1. 1. 1. 1. 1. 0. 0. 0.]\n",
      " [1. 1. 1. 1. 1. 1. 0. 0.]\n",
      " [1. 1. 1. 1. 1. 1. 1. 0.]\n",
      " [1. 1. 1. 1. 1. 1. 1. 1.]\n",
      " [0. 1. 0. 0. 0. 0. 0. 0.]\n",
      " [0. 1. 1. 0. 0. 0. 0. 0.]\n",
      " [0. 1. 1. 1. 0. 0. 0. 0.]\n",
      " [0. 1. 1. 1. 1. 0. 0. 0.]\n",
      " [0. 1. 1. 1. 1. 1. 0. 0.]\n",
      " [0. 1. 1. 1. 1. 1. 1. 0.]\n",
      " [0. 1. 1. 1. 1. 1. 1. 1.]\n",
      " [0. 0. 1. 0. 0. 0. 0. 0.]\n",
      " [0. 0. 1. 1. 0. 0. 0. 0.]\n",
      " [0. 0. 1. 1. 1. 0. 0. 0.]\n",
      " [0. 0. 1. 1. 1. 1. 0. 0.]\n",
      " [0. 0. 1. 1. 1. 1. 1. 0.]\n",
      " [0. 0. 1. 1. 1. 1. 1. 1.]\n",
      " [0. 0. 0. 1. 0. 0. 0. 0.]\n",
      " [0. 0. 0. 1. 1. 0. 0. 0.]\n",
      " [0. 0. 0. 1. 1. 1. 0. 0.]\n",
      " [0. 0. 0. 1. 1. 1. 1. 0.]\n",
      " [0. 0. 0. 1. 1. 1. 1. 1.]\n",
      " [0. 0. 0. 0. 1. 0. 0. 0.]\n",
      " [0. 0. 0. 0. 1. 1. 0. 0.]\n",
      " [0. 0. 0. 0. 1. 1. 1. 0.]\n",
      " [0. 0. 0. 0. 1. 1. 1. 1.]\n",
      " [0. 0. 0. 0. 0. 1. 0. 0.]\n",
      " [0. 0. 0. 0. 0. 1. 1. 0.]\n",
      " [0. 0. 0. 0. 0. 1. 1. 1.]\n",
      " [0. 0. 0. 0. 0. 0. 1. 0.]\n",
      " [0. 0. 0. 0. 0. 0. 1. 1.]\n",
      " [0. 0. 0. 0. 0. 0. 0. 1.]\n",
      " [1. 0. 0. 0. 0. 0. 0. 0.]\n",
      " [0. 1. 0. 0. 0. 0. 0. 0.]\n",
      " [0. 0. 1. 0. 0. 0. 0. 0.]\n",
      " [0. 0. 0. 1. 0. 0. 0. 0.]\n",
      " [0. 0. 0. 0. 1. 0. 0. 0.]\n",
      " [0. 0. 0. 0. 0. 1. 0. 0.]\n",
      " [0. 0. 0. 0. 0. 0. 1. 0.]\n",
      " [0. 0. 0. 0. 0. 0. 0. 1.]]\n",
      "the algo updated 1 times, the update threshold for failure was 1 * math.log(M)**(1/2): 1.442026886600883. n is 1, and M is 8\n",
      "the algo updated 2 times, the update threshold for failure was 1 * math.log(M)**(1/2): 1.442026886600883. n is 1, and M is 8\n"
     ]
    },
    {
     "data": {
      "text/plain": [
       "'failure'"
      ]
     },
     "execution_count": 25,
     "metadata": {},
     "output_type": "execute_result"
    }
   ],
   "source": [
    "W_ds = np.vstack((W_allrange, W_identity))\n",
    "pmw(W_ds, x_large) "
   ]
  },
  {
   "cell_type": "markdown",
   "metadata": {},
   "source": [
    "### Sparse -> Dense -> Sparse"
   ]
  },
  {
   "cell_type": "code",
   "execution_count": 26,
   "metadata": {},
   "outputs": [
    {
     "name": "stdout",
     "output_type": "stream",
     "text": [
      "original database: [1000 1210 1300 1250 1500 1450 1700 1720]\n",
      "workload: \n",
      "[[1. 0. 0. 0. 0. 0. 0. 0.]\n",
      " [0. 1. 0. 0. 0. 0. 0. 0.]\n",
      " [0. 0. 1. 0. 0. 0. 0. 0.]\n",
      " [0. 0. 0. 1. 0. 0. 0. 0.]\n",
      " [0. 0. 0. 0. 1. 0. 0. 0.]\n",
      " [0. 0. 0. 0. 0. 1. 0. 0.]\n",
      " [0. 0. 0. 0. 0. 0. 1. 0.]\n",
      " [0. 0. 0. 0. 0. 0. 0. 1.]\n",
      " [1. 0. 0. 0. 0. 0. 0. 0.]\n",
      " [1. 1. 0. 0. 0. 0. 0. 0.]\n",
      " [1. 1. 1. 0. 0. 0. 0. 0.]\n",
      " [1. 1. 1. 1. 0. 0. 0. 0.]\n",
      " [1. 1. 1. 1. 1. 0. 0. 0.]\n",
      " [1. 1. 1. 1. 1. 1. 0. 0.]\n",
      " [1. 1. 1. 1. 1. 1. 1. 0.]\n",
      " [1. 1. 1. 1. 1. 1. 1. 1.]\n",
      " [0. 1. 0. 0. 0. 0. 0. 0.]\n",
      " [0. 1. 1. 0. 0. 0. 0. 0.]\n",
      " [0. 1. 1. 1. 0. 0. 0. 0.]\n",
      " [0. 1. 1. 1. 1. 0. 0. 0.]\n",
      " [0. 1. 1. 1. 1. 1. 0. 0.]\n",
      " [0. 1. 1. 1. 1. 1. 1. 0.]\n",
      " [0. 1. 1. 1. 1. 1. 1. 1.]\n",
      " [0. 0. 1. 0. 0. 0. 0. 0.]\n",
      " [0. 0. 1. 1. 0. 0. 0. 0.]\n",
      " [0. 0. 1. 1. 1. 0. 0. 0.]\n",
      " [0. 0. 1. 1. 1. 1. 0. 0.]\n",
      " [0. 0. 1. 1. 1. 1. 1. 0.]\n",
      " [0. 0. 1. 1. 1. 1. 1. 1.]\n",
      " [0. 0. 0. 1. 0. 0. 0. 0.]\n",
      " [0. 0. 0. 1. 1. 0. 0. 0.]\n",
      " [0. 0. 0. 1. 1. 1. 0. 0.]\n",
      " [0. 0. 0. 1. 1. 1. 1. 0.]\n",
      " [0. 0. 0. 1. 1. 1. 1. 1.]\n",
      " [0. 0. 0. 0. 1. 0. 0. 0.]\n",
      " [0. 0. 0. 0. 1. 1. 0. 0.]\n",
      " [0. 0. 0. 0. 1. 1. 1. 0.]\n",
      " [0. 0. 0. 0. 1. 1. 1. 1.]\n",
      " [0. 0. 0. 0. 0. 1. 0. 0.]\n",
      " [0. 0. 0. 0. 0. 1. 1. 0.]\n",
      " [0. 0. 0. 0. 0. 1. 1. 1.]\n",
      " [0. 0. 0. 0. 0. 0. 1. 0.]\n",
      " [0. 0. 0. 0. 0. 0. 1. 1.]\n",
      " [0. 0. 0. 0. 0. 0. 0. 1.]\n",
      " [1. 0. 0. 0. 0. 0. 0. 0.]\n",
      " [0. 1. 0. 0. 0. 0. 0. 0.]\n",
      " [0. 0. 1. 0. 0. 0. 0. 0.]\n",
      " [0. 0. 0. 1. 0. 0. 0. 0.]\n",
      " [0. 0. 0. 0. 1. 0. 0. 0.]\n",
      " [0. 0. 0. 0. 0. 1. 0. 0.]\n",
      " [0. 0. 0. 0. 0. 0. 1. 0.]\n",
      " [0. 0. 0. 0. 0. 0. 0. 1.]]\n",
      "the algo updated 1 times, the update threshold for failure was 1 * math.log(M)**(1/2): 1.442026886600883. n is 1, and M is 8\n",
      "the algo updated 2 times, the update threshold for failure was 1 * math.log(M)**(1/2): 1.442026886600883. n is 1, and M is 8\n"
     ]
    },
    {
     "data": {
      "text/plain": [
       "'failure'"
      ]
     },
     "execution_count": 26,
     "metadata": {},
     "output_type": "execute_result"
    }
   ],
   "source": [
    "W_sds = np.vstack((W_identity, W_allrange, W_identity))\n",
    "pmw(W_sds, x_large) "
   ]
  },
  {
   "cell_type": "markdown",
   "metadata": {},
   "source": [
    "### Dense -> Sparse -> Dense"
   ]
  },
  {
   "cell_type": "code",
   "execution_count": 27,
   "metadata": {},
   "outputs": [
    {
     "name": "stdout",
     "output_type": "stream",
     "text": [
      "original database: [1000 1210 1300 1250 1500 1450 1700 1720]\n",
      "workload: \n",
      "[[1. 0. 0. 0. 0. 0. 0. 0.]\n",
      " [1. 1. 0. 0. 0. 0. 0. 0.]\n",
      " [1. 1. 1. 0. 0. 0. 0. 0.]\n",
      " [1. 1. 1. 1. 0. 0. 0. 0.]\n",
      " [1. 1. 1. 1. 1. 0. 0. 0.]\n",
      " [1. 1. 1. 1. 1. 1. 0. 0.]\n",
      " [1. 1. 1. 1. 1. 1. 1. 0.]\n",
      " [1. 1. 1. 1. 1. 1. 1. 1.]\n",
      " [0. 1. 0. 0. 0. 0. 0. 0.]\n",
      " [0. 1. 1. 0. 0. 0. 0. 0.]\n",
      " [0. 1. 1. 1. 0. 0. 0. 0.]\n",
      " [0. 1. 1. 1. 1. 0. 0. 0.]\n",
      " [0. 1. 1. 1. 1. 1. 0. 0.]\n",
      " [0. 1. 1. 1. 1. 1. 1. 0.]\n",
      " [0. 1. 1. 1. 1. 1. 1. 1.]\n",
      " [0. 0. 1. 0. 0. 0. 0. 0.]\n",
      " [0. 0. 1. 1. 0. 0. 0. 0.]\n",
      " [0. 0. 1. 1. 1. 0. 0. 0.]\n",
      " [0. 0. 1. 1. 1. 1. 0. 0.]\n",
      " [0. 0. 1. 1. 1. 1. 1. 0.]\n",
      " [0. 0. 1. 1. 1. 1. 1. 1.]\n",
      " [0. 0. 0. 1. 0. 0. 0. 0.]\n",
      " [0. 0. 0. 1. 1. 0. 0. 0.]\n",
      " [0. 0. 0. 1. 1. 1. 0. 0.]\n",
      " [0. 0. 0. 1. 1. 1. 1. 0.]\n",
      " [0. 0. 0. 1. 1. 1. 1. 1.]\n",
      " [0. 0. 0. 0. 1. 0. 0. 0.]\n",
      " [0. 0. 0. 0. 1. 1. 0. 0.]\n",
      " [0. 0. 0. 0. 1. 1. 1. 0.]\n",
      " [0. 0. 0. 0. 1. 1. 1. 1.]\n",
      " [0. 0. 0. 0. 0. 1. 0. 0.]\n",
      " [0. 0. 0. 0. 0. 1. 1. 0.]\n",
      " [0. 0. 0. 0. 0. 1. 1. 1.]\n",
      " [0. 0. 0. 0. 0. 0. 1. 0.]\n",
      " [0. 0. 0. 0. 0. 0. 1. 1.]\n",
      " [0. 0. 0. 0. 0. 0. 0. 1.]\n",
      " [1. 0. 0. 0. 0. 0. 0. 0.]\n",
      " [0. 1. 0. 0. 0. 0. 0. 0.]\n",
      " [0. 0. 1. 0. 0. 0. 0. 0.]\n",
      " [0. 0. 0. 1. 0. 0. 0. 0.]\n",
      " [0. 0. 0. 0. 1. 0. 0. 0.]\n",
      " [0. 0. 0. 0. 0. 1. 0. 0.]\n",
      " [0. 0. 0. 0. 0. 0. 1. 0.]\n",
      " [0. 0. 0. 0. 0. 0. 0. 1.]\n",
      " [1. 0. 0. 0. 0. 0. 0. 0.]\n",
      " [1. 1. 0. 0. 0. 0. 0. 0.]\n",
      " [1. 1. 1. 0. 0. 0. 0. 0.]\n",
      " [1. 1. 1. 1. 0. 0. 0. 0.]\n",
      " [1. 1. 1. 1. 1. 0. 0. 0.]\n",
      " [1. 1. 1. 1. 1. 1. 0. 0.]\n",
      " [1. 1. 1. 1. 1. 1. 1. 0.]\n",
      " [1. 1. 1. 1. 1. 1. 1. 1.]\n",
      " [0. 1. 0. 0. 0. 0. 0. 0.]\n",
      " [0. 1. 1. 0. 0. 0. 0. 0.]\n",
      " [0. 1. 1. 1. 0. 0. 0. 0.]\n",
      " [0. 1. 1. 1. 1. 0. 0. 0.]\n",
      " [0. 1. 1. 1. 1. 1. 0. 0.]\n",
      " [0. 1. 1. 1. 1. 1. 1. 0.]\n",
      " [0. 1. 1. 1. 1. 1. 1. 1.]\n",
      " [0. 0. 1. 0. 0. 0. 0. 0.]\n",
      " [0. 0. 1. 1. 0. 0. 0. 0.]\n",
      " [0. 0. 1. 1. 1. 0. 0. 0.]\n",
      " [0. 0. 1. 1. 1. 1. 0. 0.]\n",
      " [0. 0. 1. 1. 1. 1. 1. 0.]\n",
      " [0. 0. 1. 1. 1. 1. 1. 1.]\n",
      " [0. 0. 0. 1. 0. 0. 0. 0.]\n",
      " [0. 0. 0. 1. 1. 0. 0. 0.]\n",
      " [0. 0. 0. 1. 1. 1. 0. 0.]\n",
      " [0. 0. 0. 1. 1. 1. 1. 0.]\n",
      " [0. 0. 0. 1. 1. 1. 1. 1.]\n",
      " [0. 0. 0. 0. 1. 0. 0. 0.]\n",
      " [0. 0. 0. 0. 1. 1. 0. 0.]\n",
      " [0. 0. 0. 0. 1. 1. 1. 0.]\n",
      " [0. 0. 0. 0. 1. 1. 1. 1.]\n",
      " [0. 0. 0. 0. 0. 1. 0. 0.]\n",
      " [0. 0. 0. 0. 0. 1. 1. 0.]\n",
      " [0. 0. 0. 0. 0. 1. 1. 1.]\n",
      " [0. 0. 0. 0. 0. 0. 1. 0.]\n",
      " [0. 0. 0. 0. 0. 0. 1. 1.]\n",
      " [0. 0. 0. 0. 0. 0. 0. 1.]]\n",
      "the algo updated 1 times, the update threshold for failure was 1 * math.log(M)**(1/2): 1.442026886600883. n is 1, and M is 8\n",
      "the algo updated 2 times, the update threshold for failure was 1 * math.log(M)**(1/2): 1.442026886600883. n is 1, and M is 8\n"
     ]
    },
    {
     "data": {
      "text/plain": [
       "'failure'"
      ]
     },
     "execution_count": 27,
     "metadata": {},
     "output_type": "execute_result"
    }
   ],
   "source": [
    "W_dsd = np.vstack((W_allrange, W_identity, W_allrange))\n",
    "pmw(W_dsd, x_large) "
   ]
  },
  {
   "cell_type": "markdown",
   "metadata": {},
   "source": [
    "### Randomized"
   ]
  },
  {
   "cell_type": "code",
   "execution_count": 28,
   "metadata": {},
   "outputs": [
    {
     "name": "stdout",
     "output_type": "stream",
     "text": [
      "original database: [1000 1210 1300 1250 1500 1450 1700 1720]\n",
      "workload: \n",
      "[[1. 0. 0. 0. 0. 0. 0. 0.]\n",
      " [0. 1. 1. 1. 1. 1. 1. 0.]\n",
      " [0. 0. 0. 0. 0. 0. 1. 0.]\n",
      " [0. 0. 0. 0. 1. 0. 0. 0.]\n",
      " [0. 0. 1. 0. 0. 0. 0. 0.]\n",
      " [0. 1. 1. 0. 0. 0. 0. 0.]\n",
      " [1. 1. 1. 1. 1. 1. 0. 0.]\n",
      " [1. 1. 1. 1. 1. 0. 0. 0.]\n",
      " [0. 0. 0. 0. 1. 1. 1. 0.]\n",
      " [0. 0. 0. 0. 0. 0. 0. 1.]\n",
      " [0. 0. 0. 0. 0. 1. 1. 1.]\n",
      " [1. 1. 1. 1. 1. 1. 1. 0.]\n",
      " [0. 0. 1. 1. 0. 0. 0. 0.]\n",
      " [1. 1. 1. 1. 1. 1. 1. 1.]\n",
      " [0. 0. 1. 1. 1. 1. 1. 1.]\n",
      " [0. 0. 1. 1. 1. 0. 0. 0.]\n",
      " [0. 0. 0. 0. 0. 0. 0. 1.]\n",
      " [1. 1. 0. 0. 0. 0. 0. 0.]\n",
      " [0. 0. 1. 1. 1. 1. 0. 0.]\n",
      " [0. 0. 1. 0. 0. 0. 0. 0.]\n",
      " [1. 0. 0. 0. 0. 0. 0. 0.]\n",
      " [0. 0. 0. 1. 1. 1. 1. 0.]\n",
      " [0. 1. 1. 1. 1. 1. 1. 1.]\n",
      " [0. 1. 0. 0. 0. 0. 0. 0.]\n",
      " [0. 1. 1. 1. 1. 0. 0. 0.]\n",
      " [1. 1. 1. 1. 0. 0. 0. 0.]\n",
      " [0. 0. 0. 1. 0. 0. 0. 0.]\n",
      " [0. 0. 0. 1. 1. 1. 1. 1.]\n",
      " [0. 0. 0. 0. 0. 1. 0. 0.]\n",
      " [0. 0. 0. 0. 0. 0. 1. 1.]\n",
      " [0. 0. 0. 0. 1. 1. 0. 0.]\n",
      " [0. 0. 0. 1. 0. 0. 0. 0.]\n",
      " [0. 1. 0. 0. 0. 0. 0. 0.]\n",
      " [0. 1. 1. 1. 1. 1. 0. 0.]\n",
      " [0. 0. 0. 1. 1. 1. 0. 0.]\n",
      " [0. 0. 0. 0. 0. 0. 1. 0.]\n",
      " [0. 0. 0. 0. 1. 0. 0. 0.]\n",
      " [0. 0. 0. 0. 0. 1. 0. 0.]\n",
      " [0. 0. 0. 1. 1. 0. 0. 0.]\n",
      " [1. 1. 1. 0. 0. 0. 0. 0.]\n",
      " [0. 0. 0. 0. 1. 1. 1. 1.]\n",
      " [0. 0. 1. 1. 1. 1. 1. 0.]\n",
      " [0. 1. 1. 1. 0. 0. 0. 0.]\n",
      " [0. 0. 0. 0. 0. 1. 1. 0.]]\n",
      "the algo updated 1 times, the update threshold for failure was 1 * math.log(M)**(1/2): 1.442026886600883. n is 1, and M is 8\n",
      "the algo updated 2 times, the update threshold for failure was 1 * math.log(M)**(1/2): 1.442026886600883. n is 1, and M is 8\n"
     ]
    },
    {
     "data": {
      "text/plain": [
       "'failure'"
      ]
     },
     "execution_count": 28,
     "metadata": {},
     "output_type": "execute_result"
    }
   ],
   "source": [
    "W_random = np.random.permutation(W_sd)\n",
    "pmw(W_random, x_large) "
   ]
  },
  {
   "cell_type": "markdown",
   "metadata": {},
   "source": [
    "## 4. Try Non-Smooth Databases"
   ]
  },
  {
   "cell_type": "markdown",
   "metadata": {},
   "source": [
    "## 5. Assess effects on Analysts"
   ]
  },
  {
   "cell_type": "markdown",
   "metadata": {},
   "source": [
    "- fix update count to test extreme cases - is n 1?\n",
    "- do i begin graphing things?\n",
    "- can we talk about smooth vs. non smooth databases"
   ]
  }
 ],
 "metadata": {
  "kernelspec": {
   "display_name": "research",
   "language": "python",
   "name": "research"
  },
  "language_info": {
   "codemirror_mode": {
    "name": "ipython",
    "version": 3
   },
   "file_extension": ".py",
   "mimetype": "text/x-python",
   "name": "python",
   "nbconvert_exporter": "python",
   "pygments_lexer": "ipython3",
   "version": "3.9.5"
  }
 },
 "nbformat": 4,
 "nbformat_minor": 4
}
