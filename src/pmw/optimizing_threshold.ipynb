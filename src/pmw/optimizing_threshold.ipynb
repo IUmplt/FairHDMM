{
 "cells": [
  {
   "cell_type": "code",
   "execution_count": 1,
   "metadata": {},
   "outputs": [],
   "source": [
    "\"\"\"\n",
    "Optimizing threshold for private multiplicative weights\n",
    "Author: Albert Sun 7/13/2021\n",
    "\"\"\"\n",
    "from src.hdmm import workload, fairtemplates, error, fairmechanism, matrix, mechanism, templates\n",
    "from implementations import pmw, pmw_optimized\n",
    "import numpy as np"
   ]
  },
  {
   "cell_type": "markdown",
   "metadata": {},
   "source": [
    "## Intialize Workloads\n"
   ]
  },
  {
   "cell_type": "code",
   "execution_count": 2,
   "metadata": {},
   "outputs": [],
   "source": [
    "W_identity = workload.Identity(8).dense_matrix()\n",
    "W_allrange = workload.AllRange(8).dense_matrix()\n",
    "W_total = workload.Total(8).dense_matrix()\n",
    "\n",
    "W_five_identity = np.vstack((W_identity, W_identity, W_identity, W_identity, W_identity))\n",
    "W_sd = np.vstack((W_identity, W_allrange))\n",
    "W_ds = np.vstack((W_allrange, W_identity))\n",
    "W_sds = np.vstack((W_identity, W_allrange, W_identity))\n",
    "W_dsd = np.vstack((W_allrange, W_identity, W_allrange))\n",
    "W_random = np.random.permutation(W_sd)"
   ]
  },
  {
   "cell_type": "markdown",
   "metadata": {},
   "source": [
    "## Initialize Databases\n"
   ]
  },
  {
   "cell_type": "code",
   "execution_count": 3,
   "metadata": {},
   "outputs": [],
   "source": [
    "x = np.array([1000, 1210, 1300, 1250, 1500, 1450, 1700, 1720])"
   ]
  },
  {
   "cell_type": "markdown",
   "metadata": {},
   "source": [
    "## Implementations"
   ]
  },
  {
   "cell_type": "code",
   "execution_count": 4,
   "metadata": {},
   "outputs": [
    {
     "name": "stdout",
     "output_type": "stream",
     "text": [
      "original database: [1000 1210 1300 1250 1500 1450 1700 1720]\n",
      "workload: \n",
      "[[1. 0. 0. 0. 0. 0. 0. 0.]\n",
      " [0. 1. 0. 0. 0. 0. 0. 0.]\n",
      " [0. 0. 1. 0. 0. 0. 0. 0.]\n",
      " [0. 0. 0. 1. 0. 0. 0. 0.]\n",
      " [0. 0. 0. 0. 1. 0. 0. 0.]\n",
      " [0. 0. 0. 0. 0. 1. 0. 0.]\n",
      " [0. 0. 0. 0. 0. 0. 1. 0.]\n",
      " [0. 0. 0. 0. 0. 0. 0. 1.]\n",
      " [1. 0. 0. 0. 0. 0. 0. 0.]\n",
      " [0. 1. 0. 0. 0. 0. 0. 0.]\n",
      " [0. 0. 1. 0. 0. 0. 0. 0.]\n",
      " [0. 0. 0. 1. 0. 0. 0. 0.]\n",
      " [0. 0. 0. 0. 1. 0. 0. 0.]\n",
      " [0. 0. 0. 0. 0. 1. 0. 0.]\n",
      " [0. 0. 0. 0. 0. 0. 1. 0.]\n",
      " [0. 0. 0. 0. 0. 0. 0. 1.]\n",
      " [1. 0. 0. 0. 0. 0. 0. 0.]\n",
      " [0. 1. 0. 0. 0. 0. 0. 0.]\n",
      " [0. 0. 1. 0. 0. 0. 0. 0.]\n",
      " [0. 0. 0. 1. 0. 0. 0. 0.]\n",
      " [0. 0. 0. 0. 1. 0. 0. 0.]\n",
      " [0. 0. 0. 0. 0. 1. 0. 0.]\n",
      " [0. 0. 0. 0. 0. 0. 1. 0.]\n",
      " [0. 0. 0. 0. 0. 0. 0. 1.]\n",
      " [1. 0. 0. 0. 0. 0. 0. 0.]\n",
      " [0. 1. 0. 0. 0. 0. 0. 0.]\n",
      " [0. 0. 1. 0. 0. 0. 0. 0.]\n",
      " [0. 0. 0. 1. 0. 0. 0. 0.]\n",
      " [0. 0. 0. 0. 1. 0. 0. 0.]\n",
      " [0. 0. 0. 0. 0. 1. 0. 0.]\n",
      " [0. 0. 0. 0. 0. 0. 1. 0.]\n",
      " [0. 0. 0. 0. 0. 0. 0. 1.]\n",
      " [1. 0. 0. 0. 0. 0. 0. 0.]\n",
      " [0. 1. 0. 0. 0. 0. 0. 0.]\n",
      " [0. 0. 1. 0. 0. 0. 0. 0.]\n",
      " [0. 0. 0. 1. 0. 0. 0. 0.]\n",
      " [0. 0. 0. 0. 1. 0. 0. 0.]\n",
      " [0. 0. 0. 0. 0. 1. 0. 0.]\n",
      " [0. 0. 0. 0. 0. 0. 1. 0.]\n",
      " [0. 0. 0. 0. 0. 0. 0. 1.]], size = (40, 8)\n",
      "error: [0.03515274 0.01628482 0.00819856 0.01269093 0.00977089 0.00527853\n",
      " 0.02774034 0.02953729 0.03515274 0.01628482 0.00819856 0.01269093\n",
      " 0.00977089 0.00527853 0.02774034 0.02953729 0.03515274 0.01628482\n",
      " 0.00819856 0.01269093 0.00977089 0.00527853 0.02774034 0.02953729\n",
      " 0.03515274 0.01628482 0.00819856 0.01269093 0.00977089 0.00527853\n",
      " 0.02774034 0.02953729 0.03515274 0.01628482 0.00819856 0.01269093\n",
      " 0.00977089 0.00527853 0.02774034 0.02953729]\n",
      "relative error: [1.39125    1.14979339 1.07019231 1.113      0.9275     0.95948276\n",
      " 0.81838235 0.80886628 1.39125    1.14979339 1.07019231 1.113\n",
      " 0.9275     0.95948276 0.81838235 0.80886628 1.39125    1.14979339\n",
      " 1.07019231 1.113      0.9275     0.95948276 0.81838235 0.80886628\n",
      " 1.39125    1.14979339 1.07019231 1.113      0.9275     0.95948276\n",
      " 0.81838235 0.80886628 1.39125    1.14979339 1.07019231 1.113\n",
      " 0.9275     0.95948276 0.81838235 0.80886628]\n",
      "T (Threshold) = 3150.555288721226\n",
      "query_answers (using pmw): [0.125, 0.125, 0.125, 0.125, 0.125, 0.125, 0.125, 0.125, 0.125, 0.125, 0.125, 0.125, 0.125, 0.125, 0.125, 0.125, 0.125, 0.125, 0.125, 0.125, 0.125, 0.125, 0.125, 0.125, 0.125, 0.125, 0.125, 0.125, 0.125, 0.125, 0.125, 0.125, 0.125, 0.125, 0.125, 0.125, 0.125, 0.125, 0.125, 0.125]\n",
      "\n",
      "The update threshold for failure is n * math.log(M, 10)**(1/2): 10576.955517047534. n is 11130, and M is 8.\n",
      "Update Count = 0\n",
      "\n",
      "Updated Database = [0.125 0.125 0.125 0.125 0.125 0.125 0.125 0.125]\n"
     ]
    },
    {
     "data": {
      "text/plain": [
       "[0.125,\n",
       " 0.125,\n",
       " 0.125,\n",
       " 0.125,\n",
       " 0.125,\n",
       " 0.125,\n",
       " 0.125,\n",
       " 0.125,\n",
       " 0.125,\n",
       " 0.125,\n",
       " 0.125,\n",
       " 0.125,\n",
       " 0.125,\n",
       " 0.125,\n",
       " 0.125,\n",
       " 0.125,\n",
       " 0.125,\n",
       " 0.125,\n",
       " 0.125,\n",
       " 0.125,\n",
       " 0.125,\n",
       " 0.125,\n",
       " 0.125,\n",
       " 0.125,\n",
       " 0.125,\n",
       " 0.125,\n",
       " 0.125,\n",
       " 0.125,\n",
       " 0.125,\n",
       " 0.125,\n",
       " 0.125,\n",
       " 0.125,\n",
       " 0.125,\n",
       " 0.125,\n",
       " 0.125,\n",
       " 0.125,\n",
       " 0.125,\n",
       " 0.125,\n",
       " 0.125,\n",
       " 0.125]"
      ]
     },
     "execution_count": 4,
     "metadata": {},
     "output_type": "execute_result"
    },
    {
     "data": {
      "image/png": "[encoded data removed]",
      "text/plain": [
       "<Figure size 432x288 with 1 Axes>"
      ]
     },
     "metadata": {
      "needs_background": "light"
     },
     "output_type": "display_data"
    }
   ],
   "source": [
    "pmw(W_five_identity, x)"
   ]
  }
 ],
 "metadata": {
  "kernelspec": {
   "display_name": "research",
   "language": "python",
   "name": "research"
  },
  "language_info": {
   "codemirror_mode": {
    "name": "ipython",
    "version": 3
   },
   "file_extension": ".py",
   "mimetype": "text/x-python",
   "name": "python",
   "nbconvert_exporter": "python",
   "pygments_lexer": "ipython3",
   "version": "3.9.5"
  }
 },
 "nbformat": 4,
 "nbformat_minor": 4
}
