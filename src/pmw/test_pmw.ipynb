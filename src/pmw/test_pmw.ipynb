{
 "cells": [
  {
   "cell_type": "code",
   "execution_count": 1,
   "id": "f7c3b6e0",
   "metadata": {},
   "outputs": [],
   "source": [
    "import pandas as pd\n",
    "import numpy as np\n",
    "import math\n",
    "from matplotlib import pyplot as plt\n",
    "from src.hdmm import workload, fairtemplates, error, fairmechanism, matrix, mechanism, templates"
   ]
  },
  {
   "cell_type": "code",
   "execution_count": 188,
   "id": "27c225cc",
   "metadata": {},
   "outputs": [],
   "source": [
    "def pmw(workload, x, eps=10, beta=0.1, k=0, show_messages=True, to_return='pd', ):\n",
    "    \"\"\"\n",
    "    Implement Private Multiplicative Weights Mechanism (PMW) on a workload of\n",
    "    linear queries. New arguments to allow for optimizing the amount of\n",
    "    privacy budget used in each step.\n",
    "    \n",
    "    to_return argument determines what the function will return. \n",
    "        - if 'pd', pmw() returns pandas df with test data for each \n",
    "        query (query, d_t_hat, updated, algo_ans, real_ans, abs_error, \n",
    "        rel_error). \n",
    "        - if 'update_count', pmw() returns the update count for the total\n",
    "        amount of queries\n",
    "\n",
    "    - W = workload of queries (M x k numpy array)\n",
    "    - x = true database (M x 1 numpy array)\n",
    "    \"\"\" \n",
    "    \n",
    "    # initialize constants\n",
    "    m = x.size  # database len\n",
    "    n = x.sum()\n",
    "    if k==0: # essentially, if k hasn't been changed from its default value, use the length of the workload\n",
    "        k = len(workload)  # num of queries\n",
    "    delta = 1 / (n * math.log(n, np.e))\n",
    "    x_norm = x / np.sum(x)\n",
    "    eta = math.log(m, np.e) ** (1 / 4) / math.sqrt(n)\n",
    "    sigma = 10 * math.log(1 / delta, np.e) * (math.log(m, np.e)) ** (1 / 4) / (\n",
    "            math.sqrt(n) * eps)\n",
    "    threshold = 4 * sigma * (math.log(k, np.e) + math.log(1 / beta, np.e))\n",
    "    \n",
    "    # synthetic databases at time 0 (prior to any queries)\n",
    "    y_t = np.ones(m) / m\n",
    "    x_t = np.ones(m) / m\n",
    "\n",
    "    # append to list of databases y_t and x_t\n",
    "    y_list = [y_t]\n",
    "    x_list = [x_t]\n",
    "    \n",
    "    update_list = []\n",
    "    update_count = 0\n",
    "    algo_answers = []\n",
    "    update_times = []\n",
    "    d_t_hat_list = []\n",
    "    # iterate through time = (0, k)\n",
    "    for time, query in enumerate(workload):\n",
    "\n",
    "        # compute noisy answer by adding Laplacian noise\n",
    "        a_t = np.random.laplace(loc=0, scale=sigma, size=1)[0]\n",
    "        a_t_hat = np.dot(query, x_norm) + a_t\n",
    "\n",
    "        # difference between noisy and maintained histogram answer\n",
    "        d_t_hat = a_t_hat - np.dot(query, x_list[time])\n",
    "        d_t_hat_list.append(d_t_hat)\n",
    "\n",
    "        # lazy round: use maintained histogram to answer the query\n",
    "        if abs(d_t_hat) <= threshold:\n",
    "            algo_answers.append(np.dot(query, x_list[time]))\n",
    "            x_list.append(x_list[time])\n",
    "            update_list.append('no')\n",
    "            continue\n",
    "\n",
    "        # update round: update histogram and return noisy answer\n",
    "        else:\n",
    "            update_list.append('yes')\n",
    "            update_times.append(time)\n",
    "\n",
    "            # step a\n",
    "            if d_t_hat > 0:\n",
    "                r_t = query\n",
    "            else:\n",
    "                r_t = np.ones(m) - query\n",
    "            for i, v in enumerate(y_t):\n",
    "                y_t[i] = x_list[time][i] * math.exp(-eta * r_t[i])\n",
    "            y_list.append(y_t)\n",
    "\n",
    "            # step b\n",
    "            x_t = y_t / np.sum(y_t)\n",
    "            x_list.append(x_t)\n",
    "        \n",
    "        update_count = update_list.count('yes')\n",
    "\n",
    "        if update_count > n * math.log(m, 10) ** (1 / 2):\n",
    "            return \"failure\"\n",
    "        else:\n",
    "            algo_answers.append(a_t_hat / np.sum(x))\n",
    "\n",
    "    # calculate error\n",
    "    real_ans = np.matmul(workload, x_norm)\n",
    "    abs_error = np.abs(algo_answers - real_ans)\n",
    "    rel_error = np.abs(algo_answers / np.where(real_ans == 0, 0.000001,\n",
    "                                                real_ans))\n",
    "\n",
    "    def print_outputs():\n",
    "        \"\"\"Print inputes/outputs to analyze each query\"\"\"\n",
    "        print(f'Original database: {x}\\n')\n",
    "        print(f'Normalized database: {x_norm}\\n')\n",
    "        print(f'Updated Database = {x_t}\\n')\n",
    "        print(f'Update Count = {update_count}\\n')\n",
    "        print(f'{threshold=}\\n')\n",
    "    \n",
    "    def plot_error():\n",
    "        \"\"\"Plot absolute and relative error\"\"\"\n",
    "        plt.xticks(range(0, k, 5))\n",
    "        plt.title('Error across queries:')\n",
    "        rel_line, = plt.plot(rel_error, label='Relative Error')\n",
    "        abs_line, = plt.plot(abs_error, label='Absolute Error')\n",
    "        for xc in update_times:\n",
    "            plt.axvline(x=xc, color='red', label='Update Times', linestyle='dashed')\n",
    "        plt.legend(handles=[rel_line, abs_line])\n",
    "    \n",
    "    if show_messages:\n",
    "        print_outputs()\n",
    "        plot_error()\n",
    "        \n",
    "    if to_return == \"update_count\":\n",
    "        return update_count\n",
    "    \n",
    "    if to_return == \"pd\":\n",
    "        d = {\n",
    "            'queries': workload.tolist(), \n",
    "            'd_t_hat': d_t_hat_list, \n",
    "            'updated': update_list,\n",
    "            'algo_ans': algo_answers,\n",
    "            'real_ans': real_ans.tolist(),\n",
    "            'abs_error': abs_error,               \n",
    "            'rel_error': rel_error,\n",
    "             }\n",
    "        test_data = pd.DataFrame(data=d)\n",
    "        return test_data"
   ]
  },
  {
   "cell_type": "code",
   "execution_count": 199,
   "id": "7de15f82",
   "metadata": {},
   "outputs": [
    {
     "data": {
      "text/plain": [
       "25420"
      ]
     },
     "execution_count": 199,
     "metadata": {},
     "output_type": "execute_result"
    }
   ],
   "source": [
    "x_peaks = np.array([1000, 8000, 1300, 1250, 9000, 1450, 1700, 1720])\n",
    "W_allrange = workload.AllRange(8).dense_matrix()"
   ]
  },
  {
   "cell_type": "code",
   "execution_count": 198,
   "id": "d5f6ac13",
   "metadata": {},
   "outputs": [
    {
     "data": {
      "text/plain": [
       "24156.89211530533"
      ]
     },
     "execution_count": 198,
     "metadata": {},
     "output_type": "execute_result"
    }
   ],
   "source": [
    "m = x_peaks.size  # database len\n",
    "n = x_peaks.sum()\n",
    "n * math.log(m, 10) ** (1 / 2)"
   ]
  },
  {
   "cell_type": "markdown",
   "id": "89217e9c",
   "metadata": {},
   "source": [
    "Here are some preliminary results: \n",
    "\n",
    "The following are results for updating the privacy budget by scales of 10. 1000 experiments were run at each privacy budget. The query used was an allrange workload with 36 total queries. The database comprised of 25420 total individuals: [1000, 8000, 1300, 1250, 9000, 1450, 1700, 1720]. \n",
    "\n",
    "As epsilon increases, so does the amount of times the algorithm updates. "
   ]
  },
  {
   "cell_type": "code",
   "execution_count": 181,
   "id": "f1a06ec2",
   "metadata": {},
   "outputs": [
    {
     "name": "stdout",
     "output_type": "stream",
     "text": [
      "average update_count for privacy budget of 0.0001 is \t 0.0\n",
      "average update_count for privacy budget of 0.001 is \t 0.0\n",
      "average update_count for privacy budget of 0.01 is \t 0.0\n",
      "average update_count for privacy budget of 0.1 is \t 0.0\n",
      "average update_count for privacy budget of 1 is \t 0.0\n",
      "average update_count for privacy budget of 10 is \t 0.0\n",
      "average update_count for privacy budget of 100 is \t 1.892\n",
      "average update_count for privacy budget of 250 is \t 18.024\n",
      "average update_count for privacy budget of 500 is \t 28.983\n",
      "average update_count for privacy budget of 750 is \t 32.895\n",
      "average update_count for privacy budget of 1000 is \t 34.001\n",
      "average update_count for privacy budget of 10000 is \t 35.0\n",
      "average update_count for privacy budget of 100000 is \t 35.0\n",
      "[0.0, 0.0, 0.0, 0.0, 0.0, 0.0, 1.892, 18.024, 28.983, 32.895, 34.001, 35.0, 35.0]\n"
     ]
    }
   ],
   "source": [
    "average_update_count_list = []\n",
    "epsilons_to_try = [0.0001, 0.001, 0.01, 0.1, 1, 10, 100, 250, 500, 750, 1000, 10000, 100000]\n",
    "\n",
    "def update_count_for_eps(set_eps):\n",
    "    total_update_count = 0\n",
    "    num_exp = 1000\n",
    "    for i in range(num_exp):\n",
    "        total_update_count += pmw(workload=W_allrange,\n",
    "                                  x=x_peaks,\n",
    "                                  eps=set_eps,\n",
    "                                  show_messages=False,\n",
    "                                  to_return='update_count')\n",
    "    \n",
    "    average_update_count = total_update_count / num_exp\n",
    "    print(f'average update_count for privacy budget of {set_eps} is \\t {average_update_count}')\n",
    "    return average_update_count\n",
    "    \n",
    "for i in epsilons_to_try:\n",
    "    average_update_count_list.append(update_count_for_eps(set_eps=i))\n",
    "\n",
    "print(average_update_count_list)"
   ]
  },
  {
   "cell_type": "code",
   "execution_count": 191,
   "id": "cdefeb79",
   "metadata": {},
   "outputs": [
    {
     "name": "stdout",
     "output_type": "stream",
     "text": [
      "average update_count for beta value of 0.001 is \t 0.0\n",
      "average update_count for beta value of 0.01 is \t 0.006\n",
      "average update_count for beta value of 0.1 is \t 1.933\n",
      "average update_count for beta value of 0.2 is \t 3.417\n",
      "average update_count for beta value of 0.3 is \t 5.399\n",
      "average update_count for beta value of 0.4 is \t 6.258\n",
      "average update_count for beta value of 0.5 is \t 7.013\n",
      "average update_count for beta value of 0.6 is \t 7.861\n",
      "average update_count for beta value of 0.7 is \t 8.695\n",
      "average update_count for beta value of 0.8 is \t 9.329\n",
      "average update_count for beta value of 0.9 is \t 9.818\n",
      "average update_count for beta value of 1 is \t 10.235\n",
      "[0.0, 0.006, 1.933, 3.417, 5.399, 6.258, 7.013, 7.861, 8.695, 9.329, 9.818, 10.235]\n"
     ]
    }
   ],
   "source": [
    "average_update_count_list = []\n",
    "betas_to_try = [0.001, 0.01, 0.1, 0.2, 0.3, 0.4, 0.5, 0.6, 0.7, 0.8, 0.9, 1]\n",
    "\n",
    "def update_count_for_beta(set_beta, set_eps):\n",
    "    total_update_count = 0\n",
    "    for i in range(1000):\n",
    "        total_update_count += pmw(workload=W_allrange,\n",
    "                                  x=x_peaks,\n",
    "                                  eps=set_eps,\n",
    "                                  beta=set_beta,\n",
    "                                  show_messages=False,\n",
    "                                  to_return='update_count')\n",
    "    \n",
    "    average_update_count = total_update_count / num_exp\n",
    "    print(f'average update_count for beta value of {set_beta} is \\t {average_update_count}')\n",
    "    return average_update_count\n",
    "    \n",
    "for i in betas_to_try:\n",
    "    average_update_count_list.append(update_count_for_beta(set_beta=i, set_eps=100))\n",
    "\n",
    "print(average_update_count_list)"
   ]
  },
  {
   "cell_type": "code",
   "execution_count": 197,
   "id": "4bf12414",
   "metadata": {},
   "outputs": [
    {
     "name": "stdout",
     "output_type": "stream",
     "text": [
      "average update_count for k value of 1 is \t 25.382\n",
      "average update_count for k value of 5 is \t 12.233\n",
      "average update_count for k value of 10 is \t 8.833\n",
      "average update_count for k value of 15 is \t 6.838\n",
      "average update_count for k value of 20 is \t 5.946\n",
      "average update_count for k value of 25 is \t 5.191\n",
      "average update_count for k value of 30 is \t 4.245\n",
      "average update_count for k value of 36 is \t 3.402\n",
      "average update_count for k value of 100 is \t 1.372\n",
      "[25.382, 12.233, 8.833, 6.838, 5.946, 5.191, 4.245, 3.402, 1.372]\n"
     ]
    }
   ],
   "source": [
    "average_update_count_list = []\n",
    "k_to_try = [1, 5, 10, 15, 20, 25, 30, 36, 100]\n",
    "\n",
    "def update_count_for_k(set_beta, set_eps, set_k):\n",
    "    total_update_count = 0\n",
    "    for i in range(1000):\n",
    "        total_update_count += pmw(workload=W_allrange,\n",
    "                                  x=x_peaks,\n",
    "                                  eps=set_eps,\n",
    "                                  beta=set_beta,\n",
    "                                  k=set_k,\n",
    "                                  show_messages=False,\n",
    "                                  to_return='update_count')\n",
    "    \n",
    "    average_update_count = total_update_count / num_exp\n",
    "    print(f'average update_count for k value of {set_k} is \\t {average_update_count}')\n",
    "    return average_update_count\n",
    "    \n",
    "for i in k_to_try:\n",
    "    average_update_count_list.append(update_count_for_k(set_beta=0.2, set_eps=100, set_k=i))\n",
    "\n",
    "print(average_update_count_list)"
   ]
  },
  {
   "cell_type": "markdown",
   "id": "ea38428f",
   "metadata": {},
   "source": [
    "- what I would suggest is fixing some query set\n",
    "- then plotting the number of update steps as you vary some values\n",
    "- like privacy budget (0.0001, 0.001, 0.01, 0.1, 1, 10, 100, 1000)\n",
    "\n",
    ", failure probability beta, expected queries k, number of individuals n"
   ]
  }
 ],
 "metadata": {
  "kernelspec": {
   "display_name": "Python 3.8.8 64-bit ('base': conda)",
   "language": "python",
   "name": "python388jvsc74a57bd0718e77e574b71e9f7991c7da6831896cfd7281e366db0dbf84de44e8d5f66e5a"
  },
  "language_info": {
   "codemirror_mode": {
    "name": "ipython",
    "version": 3
   },
   "file_extension": ".py",
   "mimetype": "text/x-python",
   "name": "python",
   "nbconvert_exporter": "python",
   "pygments_lexer": "ipython3",
   "version": "3.8.8"
  }
 },
 "nbformat": 4,
 "nbformat_minor": 5
}
