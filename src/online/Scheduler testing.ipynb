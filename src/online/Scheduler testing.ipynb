{
 "cells": [
  {
   "cell_type": "code",
   "execution_count": 1,
   "metadata": {},
   "outputs": [],
   "source": [
    "import matplotlib.pyplot as plt\n",
    "import seaborn as sns\n",
    "import random\n",
    "import pandas as pd"
   ]
  },
  {
   "cell_type": "code",
   "execution_count": 2,
   "metadata": {},
   "outputs": [],
   "source": [
    "def RoundRobinStall(analysts, p, num_queries):\n",
    "    queue = [0]*analysts\n",
    "    stall_count = 0\n",
    "    is_stalled = False\n",
    "    i = 0\n",
    "    for j in range(num_queries):\n",
    "        rand = random.random()\n",
    "        if (rand <= p):\n",
    "            k = 0\n",
    "        else:\n",
    "            k= random.randint(1,analysts-1)\n",
    "        queue[k]  += 1\n",
    "        #print(queue)\n",
    "        if(queue[i] > 0):\n",
    "                queue[i] -= 1\n",
    "                i = (i+1) % analysts\n",
    "        else:\n",
    "            stall_count += 1\n",
    "        #print(i)\n",
    "    #print(stall_count)\n",
    "    return(stall_count)"
   ]
  },
  {
   "cell_type": "code",
   "execution_count": 3,
   "metadata": {},
   "outputs": [
    {
     "data": {
      "text/plain": [
       "26"
      ]
     },
     "execution_count": 3,
     "metadata": {},
     "output_type": "execute_result"
    }
   ],
   "source": [
    "RoundRobinStall(10,0.1,30)"
   ]
  },
  {
   "cell_type": "code",
   "execution_count": 4,
   "metadata": {},
   "outputs": [],
   "source": [
    "def RandomSchedulerStall(analysts, p, num_queries):\n",
    "    queue = [0]*analysts\n",
    "    stall_count = 0\n",
    "    is_stalled = False\n",
    "    i = random.randint(0,analysts-1)\n",
    "    for j in range(num_queries):\n",
    "        rand = random.random()\n",
    "        if (rand <= p):\n",
    "            k = 0\n",
    "        else:\n",
    "            k= random.randint(1,analysts-1)\n",
    "        queue[k]  += 1\n",
    "        #print(queue)\n",
    "        if(queue[i] > 0):\n",
    "                queue[i] -= 1\n",
    "                i = random.randint(0,analysts-1)\n",
    "        else:\n",
    "            stall_count += 1\n",
    "        #print(i)\n",
    "    #print(queue)\n",
    "    #print(stall_count)\n",
    "    return(stall_count)"
   ]
  },
  {
   "cell_type": "code",
   "execution_count": 5,
   "metadata": {},
   "outputs": [
    {
     "data": {
      "text/plain": [
       "7658"
      ]
     },
     "execution_count": 5,
     "metadata": {},
     "output_type": "execute_result"
    }
   ],
   "source": [
    "RandomSchedulerStall(10,0.1,1000000)"
   ]
  },
  {
   "cell_type": "code",
   "execution_count": 6,
   "metadata": {},
   "outputs": [],
   "source": [
    "def RandomSchedulerStallP(analysts, p, num_queries):\n",
    "    queue = [0]*analysts\n",
    "    stall_count = 0\n",
    "    is_stalled = False\n",
    "    i = 0\n",
    "    for j in range(num_queries):\n",
    "        rand = random.random()\n",
    "        if (rand <= p):\n",
    "            k = 0\n",
    "        else:\n",
    "            k= random.randint(1,analysts-1)\n",
    "        queue[k]  += 1\n",
    "        if(queue[i] > 0):\n",
    "                queue[i] -= 1\n",
    "                rand2 = random.random()\n",
    "                if(rand <=p):\n",
    "                    i = 0\n",
    "                else:\n",
    "                    i = random.randint(1,analysts-1)\n",
    "        else:\n",
    "            stall_count += 1\n",
    "    #print(queue)\n",
    "    #print(stall_count)\n",
    "    return(stall_count)"
   ]
  },
  {
   "cell_type": "code",
   "execution_count": 7,
   "metadata": {},
   "outputs": [
    {
     "data": {
      "text/plain": [
       "90"
      ]
     },
     "execution_count": 7,
     "metadata": {},
     "output_type": "execute_result"
    }
   ],
   "source": [
    "RandomSchedulerStallP(10,0.9,1000)"
   ]
  },
  {
   "cell_type": "markdown",
   "metadata": {},
   "source": [
    "# Scheduler stalling using randomized query ordering"
   ]
  },
  {
   "cell_type": "code",
   "execution_count": 8,
   "metadata": {},
   "outputs": [],
   "source": [
    "#pvalues = [0.1, 0.2, 0.3, 0.4,0.5,0.6,0.7,0.8,0.9]\n",
    "pvalues = [0.001,0.01,0.1, 0.2, 0.3, 0.4,0.5,0.6,0.7,0.8,0.9]\n",
    "trials = 100\n",
    "num_queries = 100\n",
    "num_analysts = 10\n",
    "df = pd.DataFrame(columns = ['p', 'RoundRobin', 'RandomizedScheduler'])\n",
    "#df = pd.DataFrame(columns = ['p', 'RoundRobin', 'RandomizedScheduler','RandomizedSchedulerP'])\n",
    "for i in pvalues:\n",
    "    for j in range(trials):\n",
    "        roundrobin = RoundRobinStall(num_analysts ,i,num_queries)\n",
    "        randomscheduler = RandomSchedulerStall(num_analysts ,i,num_queries)\n",
    "        #randomschedulerp = RandomSchedulerStallP(num_analysts ,i,num_queries)\n",
    "        df = df.append({'p' : i, 'RoundRobin' : roundrobin, 'RandomizedScheduler' : randomscheduler}, \n",
    "        #df = df.append({'p' : i, 'RoundRobin' : roundrobin, 'RandomizedScheduler' : randomscheduler,'RandomizedSchedulerP' : randomschedulerp}, \n",
    "        ignore_index = True)\n",
    "#print(df.head(50))"
   ]
  },
  {
   "cell_type": "code",
   "execution_count": 9,
   "metadata": {},
   "outputs": [
    {
     "data": {
      "image/png": "[encoded data removed]",
      "text/plain": [
       "<Figure size 432x288 with 1 Axes>"
      ]
     },
     "metadata": {
      "needs_background": "light"
     },
     "output_type": "display_data"
    }
   ],
   "source": [
    "df_MRE = pd.melt(df, id_vars='p', \n",
    "                 #value_vars=['RoundRobin','RandomizedScheduler','RandomizedSchedulerP']\n",
    "                 value_vars=['RoundRobin','RandomizedScheduler']\n",
    "                 \n",
    "                )\n",
    "\n",
    "df_MRE\n",
    "\n",
    "ax = sns.lineplot(data=df_MRE, \n",
    "             x=\"p\", \n",
    "             y=\"value\",\n",
    "             hue=\"variable\",\n",
    "             lw=5)\n",
    "\n",
    "#plt.legend([],[], frameon=False)\n",
    "#ax.axhline(1, lw = 5, ls='--', color='black')\n",
    "\n",
    "ax.set_xlabel('')\n",
    "ax.set_ylabel('')\n",
    "sns.despine()\n",
    "\n",
    "#ax.set_xticks([0.1, 0.2, 0.3, 0.4,0.5,0.6,0.7,0.8,0.9])\n",
    "ax.set_xticks( [0.001,0.01,0.1, 0.2, 0.3, 0.4,0.5,0.6,0.7,0.8,0.9])\n",
    "#ax.set_ylim([.65, 1])\n",
    "#ax.set_xlim([.5, 1.1])\n",
    "#ax.set_yticks([1, 2, 3, 4, 5, 6, 7])\n",
    "\n",
    "artifacts_path = '/home/david/Documents/online_budgetshare/fig/'\n",
    "\n",
    "#txt=\"Run on practical workloads with t=500 trials each \\nusing Private Multiplicative Weights (Hardt 2010)\"\n",
    "#plt.figtext(0.53, -0.05, txt, wrap=True, horizontalalignment='left', fontsize=15)\n",
    "\n",
    "plt.savefig(artifacts_path + \"Testing.pdf\", bbox_inches='tight')"
   ]
  },
  {
   "cell_type": "markdown",
   "metadata": {},
   "source": [
    "# Adding manual sequences"
   ]
  },
  {
   "cell_type": "code",
   "execution_count": 10,
   "metadata": {},
   "outputs": [],
   "source": [
    "def SeqRoundRobinStall(analysts, sequence, num_queries):\n",
    "    queue = [0]*analysts\n",
    "    stall_count = 0\n",
    "    is_stalled = False\n",
    "    i = 0\n",
    "    for j in sequence:\n",
    "\n",
    "        queue[j]  += 1\n",
    "        #print(queue)\n",
    "        if(queue[i] > 0):\n",
    "                queue[i] -= 1\n",
    "                i = (i+1) % analysts\n",
    "        else:\n",
    "            stall_count += 1\n",
    "        #print(i)\n",
    "    #print(stall_count)\n",
    "    return(stall_count)\n",
    "\n",
    "\n",
    "\n",
    "def SeqRandomSchedulerStall(analysts, sequence, num_queries):\n",
    "    queue = [0]*analysts\n",
    "    stall_count = 0\n",
    "    is_stalled = False\n",
    "    i = random.randint(0,analysts-1)\n",
    "    for j in sequence:\n",
    "        queue[j]  += 1\n",
    "        #print(queue)\n",
    "        if(queue[i] > 0):\n",
    "                queue[i] -= 1\n",
    "                i = random.randint(0,analysts-1)\n",
    "        else:\n",
    "            stall_count += 1\n",
    "        #print(i)\n",
    "    #print(queue)\n",
    "    #print(stall_count)\n",
    "    return(stall_count)"
   ]
  },
  {
   "cell_type": "code",
   "execution_count": 11,
   "metadata": {},
   "outputs": [],
   "source": [
    "def SequenceFromDist(distribution, length):\n",
    "    sequence = []\n",
    "    for i in range(length):\n",
    "        rand = random.random()\n",
    "        prob = 0\n",
    "        j = -1\n",
    "        for i in range(len(distribution)):\n",
    "            prob += distribution[i]\n",
    "            if(rand <= prob):\n",
    "                j = i\n",
    "                break\n",
    "        sequence.append(j)\n",
    "        j = -1\n",
    "    return(sequence)\n",
    "            \n",
    "    "
   ]
  },
  {
   "cell_type": "code",
   "execution_count": 12,
   "metadata": {},
   "outputs": [
    {
     "data": {
      "text/plain": [
       "[0.009900990099009901,\n",
       " 0.09900990099009901,\n",
       " 0.09900990099009901,\n",
       " 0.09900990099009901,\n",
       " 0.09900990099009901,\n",
       " 0.09900990099009901,\n",
       " 0.09900990099009901,\n",
       " 0.09900990099009901,\n",
       " 0.09900990099009901,\n",
       " 0.09900990099009901,\n",
       " 0.09900990099009901]"
      ]
     },
     "execution_count": 12,
     "metadata": {},
     "output_type": "execute_result"
    }
   ],
   "source": [
    "dist = [0.1,1,1,1,1,1,1,1,1,1,1]\n",
    "dist =[item / sum(dist) for item in dist]\n",
    "dist"
   ]
  },
  {
   "cell_type": "code",
   "execution_count": 13,
   "metadata": {},
   "outputs": [],
   "source": [
    "\n",
    "trials = 1000\n",
    "dist = [0.1,1,1,1,1,1,1,1,1,1]\n",
    "dist =[item / sum(dist) for item in dist]\n",
    "df = pd.DataFrame(columns = ['p', 'RoundRobin', 'RandomizedScheduler'])\n",
    "\n",
    "for j in range(trials):\n",
    "    #sequence = SequenceFromDist([0.01,0.01,0.01,0.19,0.19,0.19,0.1,0.1,0.1,0.1],100)\n",
    "    sequence = SequenceFromDist(dist, 100)\n",
    "    num_queries = len(sequence)\n",
    "    num_analysts = 10\n",
    "    roundrobin = SeqRoundRobinStall(num_analysts ,sequence,num_queries)\n",
    "    randomscheduler = SeqRandomSchedulerStall(num_analysts ,sequence, num_queries)\n",
    "    df = df.append({'p' : i, 'RoundRobin' : roundrobin, 'RandomizedScheduler' : randomscheduler},  \n",
    "    ignore_index = True)\n",
    "#print(df.head(50))"
   ]
  },
  {
   "cell_type": "code",
   "execution_count": 14,
   "metadata": {},
   "outputs": [
    {
     "data": {
      "image/png": "[encoded data removed]",
      "text/plain": [
       "<Figure size 432x288 with 1 Axes>"
      ]
     },
     "metadata": {
      "needs_background": "light"
     },
     "output_type": "display_data"
    }
   ],
   "source": [
    "df_MRE = pd.melt(df, id_vars='p', \n",
    "                 #value_vars=['RoundRobin','RandomizedScheduler','RandomizedSchedulerP']\n",
    "                 value_vars=['RoundRobin','RandomizedScheduler']\n",
    "                 \n",
    "                )\n",
    "\n",
    "df_MRE\n",
    "df_MRE.columns = df_MRE.columns.str.replace('variable', 'Scheduler')\n",
    "df_MRE.columns = df_MRE.columns.str.replace('value', 'Stalling Steps')\n",
    "\n",
    "#ax = sns.lineplot(data=df_MRE, \n",
    "#             x=\"p\", \n",
    "#             y=\"value\",\n",
    "#             hue=\"variable\",\n",
    "#             lw=5)\n",
    "\n",
    "sns.boxplot(x=\"Scheduler\", y=\"Stalling Steps\", data=df_MRE)\n",
    "#plt.legend([],[], frameon=False)\n",
    "#ax.axhline(1, lw = 5, ls='--', color='black')\n",
    "\n",
    "ax.set_xlabel('')\n",
    "ax.set_ylabel('')\n",
    "sns.despine()\n",
    "\n",
    "#ax.set_xticks([0.1, 0.2, 0.3, 0.4,0.5,0.6,0.7,0.8,0.9])\n",
    "#ax.set_ylim([.65, 1])\n",
    "#ax.set_xlim([.5, 1.1])\n",
    "#ax.set_yticks([1, 2, 3, 4, 5, 6, 7])\n",
    "\n",
    "artifacts_path = '/home/david/Documents/online_budgetshare/fig/'\n",
    "\n",
    "#txt=\"Run on practical workloads with t=500 trials each \\nusing Private Multiplicative Weights (Hardt 2010)\"\n",
    "#plt.figtext(0.53, -0.05, txt, wrap=True, horizontalalignment='left', fontsize=15)\n",
    "\n",
    "plt.savefig(artifacts_path + \"under_represented1.pdf\", bbox_inches='tight')"
   ]
  },
  {
   "cell_type": "code",
   "execution_count": 15,
   "metadata": {},
   "outputs": [
    {
     "data": {
      "image/png": "[encoded data removed]",
      "text/plain": [
       "<Figure size 432x288 with 1 Axes>"
      ]
     },
     "metadata": {
      "needs_background": "light"
     },
     "output_type": "display_data"
    }
   ],
   "source": [
    "\n",
    "trials = 1000\n",
    "dist = [0.1,0.1,1,1,1,1,1,1,1,1]\n",
    "dist =[item / sum(dist) for item in dist]\n",
    "df = pd.DataFrame(columns = ['p', 'RoundRobin', 'RandomizedScheduler'])\n",
    "\n",
    "for j in range(trials):\n",
    "    #sequence = SequenceFromDist([0.01,0.01,0.01,0.19,0.19,0.19,0.1,0.1,0.1,0.1],100)\n",
    "    sequence = SequenceFromDist(dist, 100)\n",
    "    num_queries = len(sequence)\n",
    "    num_analysts = 10\n",
    "    roundrobin = SeqRoundRobinStall(num_analysts ,sequence,num_queries)\n",
    "    randomscheduler = SeqRandomSchedulerStall(num_analysts ,sequence, num_queries)\n",
    "    df = df.append({'p' : i, 'RoundRobin' : roundrobin, 'RandomizedScheduler' : randomscheduler},  \n",
    "    ignore_index = True)\n",
    "#print(df.head(50))\n",
    "\n",
    "df_MRE = pd.melt(df, id_vars='p', \n",
    "                 #value_vars=['RoundRobin','RandomizedScheduler','RandomizedSchedulerP']\n",
    "                 value_vars=['RoundRobin','RandomizedScheduler']\n",
    "                 \n",
    "                )\n",
    "\n",
    "df_MRE\n",
    "df_MRE.columns = df_MRE.columns.str.replace('variable', 'Scheduler')\n",
    "df_MRE.columns = df_MRE.columns.str.replace('value', 'Stalling Steps')\n",
    "\n",
    "#ax = sns.lineplot(data=df_MRE, \n",
    "#             x=\"p\", \n",
    "#             y=\"value\",\n",
    "#             hue=\"variable\",\n",
    "#             lw=5)\n",
    "\n",
    "sns.boxplot(x=\"Scheduler\", y=\"Stalling Steps\", data=df_MRE)\n",
    "#plt.legend([],[], frameon=False)\n",
    "#ax.axhline(1, lw = 5, ls='--', color='black')\n",
    "\n",
    "ax.set_xlabel('')\n",
    "ax.set_ylabel('')\n",
    "sns.despine()\n",
    "\n",
    "#ax.set_xticks([0.1, 0.2, 0.3, 0.4,0.5,0.6,0.7,0.8,0.9])\n",
    "#ax.set_ylim([.65, 1])\n",
    "#ax.set_xlim([.5, 1.1])\n",
    "#ax.set_yticks([1, 2, 3, 4, 5, 6, 7])\n",
    "\n",
    "artifacts_path = '/home/david/Documents/online_budgetshare/fig/'\n",
    "\n",
    "#txt=\"Run on practical workloads with t=500 trials each \\nusing Private Multiplicative Weights (Hardt 2010)\"\n",
    "#plt.figtext(0.53, -0.05, txt, wrap=True, horizontalalignment='left', fontsize=15)\n",
    "\n",
    "plt.savefig(artifacts_path + \"under_represented2.pdf\", bbox_inches='tight')"
   ]
  },
  {
   "cell_type": "code",
   "execution_count": 16,
   "metadata": {},
   "outputs": [
    {
     "data": {
      "image/png": "[encoded data removed]",
      "text/plain": [
       "<Figure size 432x288 with 1 Axes>"
      ]
     },
     "metadata": {
      "needs_background": "light"
     },
     "output_type": "display_data"
    }
   ],
   "source": [
    "\n",
    "trials = 1000\n",
    "dist = [0.1,0.1,0.1,1,1,1,1,1,1,1]\n",
    "dist =[item / sum(dist) for item in dist]\n",
    "df = pd.DataFrame(columns = ['p', 'RoundRobin', 'RandomizedScheduler'])\n",
    "\n",
    "for j in range(trials):\n",
    "    #sequence = SequenceFromDist([0.01,0.01,0.01,0.19,0.19,0.19,0.1,0.1,0.1,0.1],100)\n",
    "    sequence = SequenceFromDist(dist, 100)\n",
    "    num_queries = len(sequence)\n",
    "    num_analysts = 10\n",
    "    roundrobin = SeqRoundRobinStall(num_analysts ,sequence,num_queries)\n",
    "    randomscheduler = SeqRandomSchedulerStall(num_analysts ,sequence, num_queries)\n",
    "    df = df.append({'p' : i, 'RoundRobin' : roundrobin, 'RandomizedScheduler' : randomscheduler},  \n",
    "    ignore_index = True)\n",
    "#print(df.head(50))\n",
    "\n",
    "df_MRE = pd.melt(df, id_vars='p', \n",
    "                 #value_vars=['RoundRobin','RandomizedScheduler','RandomizedSchedulerP']\n",
    "                 value_vars=['RoundRobin','RandomizedScheduler']\n",
    "                 \n",
    "                )\n",
    "\n",
    "df_MRE\n",
    "df_MRE.columns = df_MRE.columns.str.replace('variable', 'Scheduler')\n",
    "df_MRE.columns = df_MRE.columns.str.replace('value', 'Stalling Steps')\n",
    "\n",
    "#ax = sns.lineplot(data=df_MRE, \n",
    "#             x=\"p\", \n",
    "#             y=\"value\",\n",
    "#             hue=\"variable\",\n",
    "#             lw=5)\n",
    "\n",
    "sns.boxplot(x=\"Scheduler\", y=\"Stalling Steps\", data=df_MRE)\n",
    "#plt.legend([],[], frameon=False)\n",
    "#ax.axhline(1, lw = 5, ls='--', color='black')\n",
    "\n",
    "ax.set_xlabel('')\n",
    "ax.set_ylabel('')\n",
    "sns.despine()\n",
    "\n",
    "#ax.set_xticks([0.1, 0.2, 0.3, 0.4,0.5,0.6,0.7,0.8,0.9])\n",
    "#ax.set_ylim([.65, 1])\n",
    "#ax.set_xlim([.5, 1.1])\n",
    "#ax.set_yticks([1, 2, 3, 4, 5, 6, 7])\n",
    "\n",
    "artifacts_path = '/home/david/Documents/online_budgetshare/fig/'\n",
    "\n",
    "#txt=\"Run on practical workloads with t=500 trials each \\nusing Private Multiplicative Weights (Hardt 2010)\"\n",
    "#plt.figtext(0.53, -0.05, txt, wrap=True, horizontalalignment='left', fontsize=15)\n",
    "\n",
    "plt.savefig(artifacts_path + \"under_represented3.pdf\", bbox_inches='tight')"
   ]
  },
  {
   "cell_type": "code",
   "execution_count": 17,
   "metadata": {},
   "outputs": [
    {
     "data": {
      "image/png": "[encoded data removed]",
      "text/plain": [
       "<Figure size 432x288 with 1 Axes>"
      ]
     },
     "metadata": {
      "needs_background": "light"
     },
     "output_type": "display_data"
    }
   ],
   "source": [
    "\n",
    "trials = 1000\n",
    "dist = [0.1,0.1,0.1,1,1,1,1,1,1,1]\n",
    "dist =[item / sum(dist) for item in dist]\n",
    "df = pd.DataFrame(columns = ['p', 'RoundRobin', 'RandomizedScheduler'])\n",
    "\n",
    "for j in range(trials):\n",
    "    #sequence = SequenceFromDist([0.01,0.01,0.01,0.19,0.19,0.19,0.1,0.1,0.1,0.1],100)\n",
    "    sequence = SequenceFromDist(dist, 100)\n",
    "    num_queries = len(sequence)\n",
    "    num_analysts = 10\n",
    "    roundrobin = SeqRoundRobinStall(num_analysts ,sequence,num_queries)\n",
    "    randomscheduler = SeqRandomSchedulerStall(num_analysts ,sequence, num_queries)\n",
    "    df = df.append({'p' : i, 'RoundRobin' : roundrobin, 'RandomizedScheduler' : randomscheduler},  \n",
    "    ignore_index = True)\n",
    "#print(df.head(50))\n",
    "\n",
    "df_MRE = pd.melt(df, id_vars='p', \n",
    "                 #value_vars=['RoundRobin','RandomizedScheduler','RandomizedSchedulerP']\n",
    "                 value_vars=['RoundRobin','RandomizedScheduler']\n",
    "                 \n",
    "                )\n",
    "\n",
    "df_MRE\n",
    "df_MRE.columns = df_MRE.columns.str.replace('variable', 'Scheduler')\n",
    "df_MRE.columns = df_MRE.columns.str.replace('value', 'Stalling Steps')\n",
    "\n",
    "#ax = sns.lineplot(data=df_MRE, \n",
    "#             x=\"p\", \n",
    "#             y=\"value\",\n",
    "#             hue=\"variable\",\n",
    "#             lw=5)\n",
    "\n",
    "sns.boxplot(x=\"Scheduler\", y=\"Stalling Steps\", data=df_MRE)\n",
    "#plt.legend([],[], frameon=False)\n",
    "#ax.axhline(1, lw = 5, ls='--', color='black')\n",
    "\n",
    "ax.set_xlabel('')\n",
    "ax.set_ylabel('')\n",
    "sns.despine()\n",
    "\n",
    "#ax.set_xticks([0.1, 0.2, 0.3, 0.4,0.5,0.6,0.7,0.8,0.9])\n",
    "#ax.set_ylim([.65, 1])\n",
    "#ax.set_xlim([.5, 1.1])\n",
    "#ax.set_yticks([1, 2, 3, 4, 5, 6, 7])\n",
    "\n",
    "artifacts_path = '/home/david/Documents/online_budgetshare/fig/'\n",
    "\n",
    "#txt=\"Run on practical workloads with t=500 trials each \\nusing Private Multiplicative Weights (Hardt 2010)\"\n",
    "#plt.figtext(0.53, -0.05, txt, wrap=True, horizontalalignment='left', fontsize=15)\n",
    "\n",
    "plt.savefig(artifacts_path + \"under_represented4.pdf\", bbox_inches='tight')"
   ]
  },
  {
   "cell_type": "code",
   "execution_count": 18,
   "metadata": {},
   "outputs": [],
   "source": [
    "trials = 100\n",
    "df = pd.DataFrame(columns = ['LowProb', 'RoundRobin', 'RandomizedScheduler'])\n",
    "for i in range(6):\n",
    "    dist = [0.1]* i + [1]*(10-i)\n",
    "    dist =[item / sum(dist) for item in dist]\n",
    "    for j in range(trials):\n",
    "        #sequence = SequenceFromDist([0.01,0.01,0.01,0.19,0.19,0.19,0.1,0.1,0.1,0.1],100)\n",
    "        sequence = SequenceFromDist(dist, 100)\n",
    "        num_queries = len(sequence)\n",
    "        num_analysts = 10\n",
    "        roundrobin = SeqRoundRobinStall(num_analysts ,sequence,num_queries)\n",
    "        randomscheduler = SeqRandomSchedulerStall(num_analysts ,sequence, num_queries)\n",
    "        df = df.append({'LowProb' : i, 'RoundRobin' : roundrobin, 'RandomizedScheduler' : randomscheduler},  \n",
    "        ignore_index = True)\n",
    "#print(df.head(50))"
   ]
  },
  {
   "cell_type": "code",
   "execution_count": 19,
   "metadata": {},
   "outputs": [
    {
     "data": {
      "image/png": "[encoded data removed]",
      "text/plain": [
       "<Figure size 432x288 with 1 Axes>"
      ]
     },
     "metadata": {
      "needs_background": "light"
     },
     "output_type": "display_data"
    }
   ],
   "source": [
    "df_MRE = pd.melt(df, id_vars='LowProb', \n",
    "                 #value_vars=['RoundRobin','RandomizedScheduler','RandomizedSchedulerP']\n",
    "                 value_vars=['RoundRobin','RandomizedScheduler']\n",
    "                 \n",
    "                )\n",
    "\n",
    "df_MRE.columns = df_MRE.columns.str.replace('variable', 'Scheduler')\n",
    "df_MRE.columns = df_MRE.columns.str.replace('value', 'Stalling Steps')\n",
    "df_MRE\n",
    "\n",
    "\n",
    "\n",
    "ax = sns.lineplot(data=df_MRE, \n",
    "             x=\"LowProb\", \n",
    "             y=\"Stalling Steps\",\n",
    "             hue=\"Scheduler\",\n",
    "             lw=5)\n",
    "\n",
    "#plt.legend([],[], frameon=False)\n",
    "#ax.axhline(1, lw = 5, ls='--', color='black')\n",
    "\n",
    "ax.set_xlabel('Number of Low Probability analysts')\n",
    "ax.set_ylabel('Number of Stalling Steps')\n",
    "sns.despine()\n",
    "\n",
    "#ax.set_xticks([0.1, 0.2, 0.3, 0.4,0.5,0.6,0.7,0.8,0.9])\n",
    "#ax.set_xticks( [0.001,0.01,0.1, 0.2, 0.3, 0.4,0.5,0.6,0.7,0.8,0.9])\n",
    "#ax.set_ylim([.65, 1])\n",
    "#ax.set_xlim([.5, 1.1])\n",
    "#ax.set_yticks([1, 2, 3, 4, 5, 6, 7])\n",
    "\n",
    "artifacts_path = '/home/david/Documents/online_budgetshare/fig/'\n",
    "\n",
    "#txt=\"Run on practical workloads with t=500 trials each \\nusing Private Multiplicative Weights (Hardt 2010)\"\n",
    "#plt.figtext(0.53, -0.05, txt, wrap=True, horizontalalignment='left', fontsize=15)\n",
    "\n",
    "plt.savefig(artifacts_path + \"under_represented_line.pdf\", bbox_inches='tight')"
   ]
  },
  {
   "cell_type": "markdown",
   "metadata": {},
   "source": [
    "# Time to completion "
   ]
  },
  {
   "cell_type": "code",
   "execution_count": 20,
   "metadata": {},
   "outputs": [],
   "source": [
    "import numpy as np\n",
    "import pandas as pd\n",
    "import math\n",
    "from src.hdmm.error import expected_error, strategy_supports_workload\n",
    "from src.hdmm.matrix import EkteloMatrix\n",
    "from typing import Tuple\n",
    "import string\n",
    "import random\n",
    "from itertools import cycle, islice\n",
    "import src.hdmm.workload as workload\n",
    "import src.census_workloads as census\n",
    "from src.workload_selection import workload_selection\n",
    "import src.online.online_workloads as online_workloads\n",
    "import seaborn as sns\n",
    "import matplotlib.ticker as mtick\n",
    "\n",
    "\n",
    "\n",
    "from matplotlib import pyplot as plt\n",
    "from collections import OrderedDict\n",
    "from src.hdmm.workload import AllRange"
   ]
  },
  {
   "cell_type": "code",
   "execution_count": 106,
   "metadata": {},
   "outputs": [],
   "source": [
    "n=64\n",
    "W_name = ['identity', 'H2', 'race1', 'race2', 'race3', 'prefix_sum']#, 'total',]\n",
    "W_lst = [online_workloads.identity(n), online_workloads.H2(n), online_workloads.race1(), online_workloads.race2(), online_workloads.race3(), online_workloads.prefix_sum(n),online_workloads.custom(n),online_workloads.custom(n),online_workloads.custom(n),online_workloads.custom(n),] # online_workloads.total(n),]\n",
    "#W_name = ['identity', 'H2', 'race1', 'race2', 'race3', 'custom', 'prefix_sum']#, 'total',]\n",
    "#W_lst = [online_workloads.identity(n), online_workloads.H2(n), online_workloads.race1(), online_workloads.race2(), online_workloads.race3(), online_workloads.custom(n), online_workloads.prefix_sum(n),] # online_workloads.total(n),]\n",
    "\n",
    "analysts = ['a', 'b', 'c', 'd', 'e', 'f', 'g', 'h', 'i', 'j']\n",
    "workloads = [random.choice(W_lst) for i in analysts]\n"
   ]
  },
  {
   "cell_type": "code",
   "execution_count": 81,
   "metadata": {},
   "outputs": [],
   "source": [
    "def SeqRoundRobinComplete(analysts, sequence):\n",
    "    queue = [0]*analysts\n",
    "    stall_count = 0\n",
    "    is_stalled = False\n",
    "    timecount = 0\n",
    "    i = 0\n",
    "    for j in sequence:\n",
    "\n",
    "        queue[j]  += 1\n",
    "        #print(queue)\n",
    "        if(queue[i] > 0):\n",
    "                queue[i] -= 1\n",
    "                i = (i+1) % analysts\n",
    "        else:\n",
    "            stall_count += 1\n",
    "        #print(i)\n",
    "    #print(stall_count)\n",
    "    timecount = stall_count + len(sequence)\n",
    "    return(timecount)\n",
    "\n",
    "\n",
    "\n",
    "def SeqRandomSchedulerComplete(analysts, sequence):\n",
    "    queue = [0]*analysts\n",
    "    stall_count = 0\n",
    "    is_stalled = False\n",
    "    i = random.randint(0,analysts-1)\n",
    "    for j in sequence:\n",
    "        queue[j]  += 1\n",
    "        #print(queue)\n",
    "        if(queue[i] > 0):\n",
    "                queue[i] -= 1\n",
    "                i = random.randint(0,analysts-1)\n",
    "        else:\n",
    "            stall_count += 1\n",
    "        #print(i)\n",
    "    #print(queue)\n",
    "    #print(stall_count)\n",
    "    timecount = stall_count + len(sequence)\n",
    "    return(timecount)"
   ]
  },
  {
   "cell_type": "code",
   "execution_count": 183,
   "metadata": {},
   "outputs": [],
   "source": [
    "def SeqRoundRobinComplete2(analysts, sequence):\n",
    "    queue = [0]*analysts\n",
    "    analyst_list = list(range(analysts))\n",
    "    stall_count = 0\n",
    "    timecount = 0\n",
    "    i = 0\n",
    "    for j in range(len(sequence)):\n",
    "\n",
    "        queue[sequence[j]]  += 1\n",
    "        #print(queue)\n",
    "        if(queue[analyst_list[i]] > 0):\n",
    "                queue[analyst_list[i]] -= 1\n",
    "                if(queue[analyst_list[i]] ==0 and analyst_list[i] not in sequence[j+1:len(sequence)] and len(analyst_list)>1 ):\n",
    "                    del analyst_list[i]\n",
    "                    i = i% len(analyst_list)\n",
    "                    \n",
    "                i = (i+1) % len(analyst_list)\n",
    "        else:\n",
    "            stall_count += 1\n",
    "        #print(i)\n",
    "    #print(stall_count)\n",
    "    timecount = stall_count + len(sequence)\n",
    "    return(timecount)\n",
    "\n",
    "\n",
    "\n",
    "def SeqRandomSchedulerComplete2(analysts, sequence):\n",
    "    queue = [0]*analysts\n",
    "    analyst_list = list(range(analysts))\n",
    "    stall_count = 0\n",
    "    i = random.randint(0,len(analyst_list)-1)\n",
    "    for j in sequence:\n",
    "        queue[j]  += 1\n",
    "        #print(queue)\n",
    "        if(queue[analyst_list[i]] > 0):\n",
    "                queue[i] -= 1\n",
    "                if(queue[analyst_list[i]] ==0 and analyst_list[i] not in sequence[j+1:len(sequence)] and len(analyst_list)>1 ):\n",
    "                    del analyst_list[i]\n",
    "                i = random.randint(0,len(analyst_list)-1)\n",
    "        else:\n",
    "            stall_count += 1\n",
    "        #print(i)\n",
    "    #print(queue)\n",
    "    #print(stall_count)\n",
    "    timecount = stall_count + len(sequence)\n",
    "    return(timecount)"
   ]
  },
  {
   "cell_type": "code",
   "execution_count": 194,
   "metadata": {},
   "outputs": [
    {
     "name": "stdout",
     "output_type": "stream",
     "text": [
      "9\n",
      "6\n"
     ]
    }
   ],
   "source": [
    "print(SeqRandomSchedulerComplete(2,[0,1,1,1,1]))\n",
    "print(SeqRandomSchedulerComplete2(2,[0,1,1,1,1]))"
   ]
  },
  {
   "cell_type": "code",
   "execution_count": 185,
   "metadata": {},
   "outputs": [],
   "source": [
    "def random_scheduler(analysts: list, workloads: list, p : int = 0.1) -> Tuple: \n",
    "    \"\"\"\n",
    "    In a system with n analysts, this system schedules Alice's queries with a probability of p and \n",
    "    other analysts' queries with an equal probability of (1 - p) / (n - 1), i.e. uniform probability.\n",
    "    \n",
    "    Returns new workload of queries (2D np.array) and analyst labels (list) that label each query in the \n",
    "    new workload. \n",
    "    \n",
    "    Takes: \n",
    "    - analysts: list of analyst names\n",
    "    - workloads: list of workloads in order where analyst[i] has workloads[i]\n",
    "    - p: probability that Alice has her query answered at any given step\n",
    "    \n",
    "    Returns: \n",
    "    - W_final: final workload\n",
    "    - analyst_labels: labels the final workload where analyst_labels[i] is the analyst with query at W_final[i]\n",
    "    \n",
    "    Date: 5-27-2022\n",
    "    \"\"\"\n",
    "\n",
    "    workloads_dict = dict(zip(analysts, workloads))\n",
    "    val = 0\n",
    "    # gives alice p, all other analysts equal weight left\n",
    "    weights = [p if analyst<=val else (1-(p*val))/(len(analysts) - val) for analyst in analysts] \n",
    "    #print(weights)\n",
    "    # points the query that analyst is at, e.g., {'a': 0, 'b': 0, ...}\n",
    "    pointers = {analyst: 0 for analyst in analysts}\n",
    "\n",
    "    num_queries_left = {analyst: len(workloads_dict[analyst]) for analyst in analysts}\n",
    "\n",
    "    ordering = random.choices(analysts, weights, k=50000)\n",
    "    #print(ordering)\n",
    "    iterator = cycle(ordering)\n",
    "    \n",
    "    W = []\n",
    "    analyst_labels = []\n",
    "\n",
    "    for analyst in iterator: \n",
    "        if num_queries_left[analyst] > 0: \n",
    "            # add query to the workload\n",
    "            pointer = pointers[analyst]\n",
    "            W.append(workloads_dict[analyst][pointer])\n",
    "            analyst_labels.append(analyst)\n",
    "\n",
    "            num_queries_left[analyst] -= 1\n",
    "            pointers[analyst] += 1\n",
    "        if sum(num_queries_left.values()) == 0: # if no more queries left to ask\n",
    "            break\n",
    "\n",
    "    W_final = np.array(W)\n",
    "    #list(zip(analyst_labels, W_final))\n",
    "    return W_final, analyst_labels"
   ]
  },
  {
   "cell_type": "code",
   "execution_count": 157,
   "metadata": {},
   "outputs": [
    {
     "name": "stdout",
     "output_type": "stream",
     "text": [
      "[5, 9, 4, 5, 5, 3, 9, 8, 7, 5, 9, 5, 9, 7, 4, 9, 9, 4, 4, 3, 6, 9, 9, 5, 3, 6, 9, 7, 9, 9, 3, 7, 5, 8, 6, 6, 7, 8, 4, 7, 4, 7, 4, 4, 9, 7, 5, 8, 3, 9, 3, 4, 3, 4, 5, 9, 7, 3, 5, 7, 8, 4, 5, 6, 6, 8, 5, 7, 9, 7, 6, 3, 6, 3, 4, 7, 4, 6, 4, 7, 7, 5, 5, 7, 3, 3, 5, 3, 4, 4, 5, 3, 4, 5, 5, 5, 5, 6, 6, 3, 4, 3, 4, 7, 5, 3, 7, 9, 9, 6, 7, 5, 8, 3, 3, 9, 8, 7, 4, 8, 9, 9, 5, 9, 6, 5, 4, 3, 4, 3, 5, 4, 8, 5, 5, 3, 5, 4, 5, 5, 5, 3, 5, 3, 5, 6, 4, 6, 4, 4, 4, 6, 6, 9, 4, 4, 9, 8, 8, 3, 5, 3, 9, 8, 4, 9, 6, 5, 4, 4, 3, 7, 5, 6, 3, 5, 9, 6, 9, 7, 9, 6, 6, 6, 6, 3, 6, 8, 4, 9, 9, 5, 4, 5, 4, 8, 7, 4, 7, 8, 6, 7, 6, 9, 7, 6, 9, 4, 7, 3, 8, 3, 8, 6, 5, 4, 3, 5, 9, 3, 5, 6, 3, 5, 5, 7, 9, 6, 9, 7, 3, 6, 4, 3, 3, 4, 4, 6, 5, 8, 9, 9, 3, 3, 6, 5, 7, 3, 5, 5, 7, 9, 9, 7, 7, 4, 6, 9, 9, 3, 9, 6, 7, 8, 6, 7, 5, 6, 4, 9, 4, 7, 6, 3, 4, 4, 4, 8, 6, 3, 4, 9, 8, 4, 6, 6, 6, 9, 4, 5, 7, 4, 4, 5, 4, 7, 6, 6, 3, 6, 8, 9, 3, 8, 6, 9, 4, 5, 6, 5, 5, 7, 7, 8, 3, 8, 3, 3, 7, 9, 8, 8, 7, 5, 9, 5, 9, 8, 7, 8, 7, 5, 8, 3, 3, 4, 6, 7, 6, 4, 9, 5, 6, 9, 7, 8, 6, 4, 4, 5, 9, 5, 6, 6, 7, 8, 6, 9, 3, 9, 8, 8, 4, 3, 3, 6, 4, 3, 1, 5, 3, 5, 9, 8, 8, 3, 4, 6, 7, 9, 3, 7, 4, 4, 4, 7, 7, 5, 5, 8, 3, 7, 3, 3, 7, 7, 8, 6, 9, 7, 4, 6, 4, 3, 5, 4, 4, 7, 4, 4, 5, 7, 8, 3, 7, 3, 5, 5, 7, 9, 7, 7, 4, 3, 6, 6, 9, 8, 7, 7, 4, 8, 6, 7, 9, 7, 4, 8, 9, 9, 8, 5, 7, 3, 5, 6, 6, 8, 7, 5, 5, 0, 4, 6, 3, 4, 3, 6, 9, 9, 8, 6, 5, 7, 9, 8, 6, 9, 6, 6, 4, 3, 6, 4, 9, 0, 8, 4, 7, 4, 4, 9, 6, 5, 4, 3, 8, 6, 9, 9, 4, 3, 6, 5, 3, 6, 5, 3, 4, 7, 4, 6, 7, 6, 3, 8, 4, 7, 7, 8, 5, 4, 8, 6, 7, 9, 7, 5, 9, 8, 8, 8, 9, 7, 4, 5, 5, 9, 6, 8, 4, 5, 4, 9, 3, 9, 4, 9, 3, 3, 6, 5, 5, 9, 9, 7, 7, 9, 7, 5, 4, 5, 7, 6, 4, 3, 7, 9, 5, 4, 9, 8, 5, 8, 6, 5, 4, 9, 8, 8, 7, 7, 5, 4, 6, 3, 9, 6, 9, 3, 6, 3, 3, 3, 3, 3, 3, 6, 7, 3, 8, 6, 3, 6, 3, 4, 4, 3, 9, 5, 9, 7, 3, 5, 7, 9, 8, 6, 8, 5, 5, 9, 5, 9, 6, 4, 3, 3, 9, 6, 5, 3, 4, 7, 3, 4, 3, 5, 3, 3, 9, 4, 6, 8, 9, 6, 9, 4, 3, 5, 4, 3, 8, 3, 7, 5, 3, 8, 8, 5, 7, 7, 5, 7, 3, 6, 9, 8, 4, 7, 8, 5, 7, 9, 7, 7, 7, 4, 5, 5, 8, 3, 6, 8, 4, 9, 3, 7, 3, 7, 7, 9, 9, 9, 5, 6, 4, 4, 3, 4, 9, 7, 6, 3, 6, 4, 7, 7, 7, 7, 9, 5, 3, 6, 7, 3, 9, 4, 3, 9, 5, 5, 8, 5, 6, 3, 8, 6, 8, 5, 4, 3, 4, 5, 7, 4, 8, 3, 8, 7, 9, 8, 5, 7, 8, 7, 6, 5, 3, 3, 4, 6, 9, 9, 3, 5, 8, 6, 4, 3, 8, 3, 7, 7, 9, 8, 4, 5, 9, 3, 3, 3, 0, 4, 4, 4, 9, 4, 3, 7, 7, 3, 5, 7, 8, 4, 4, 3, 7, 5, 4, 3, 3, 9, 6, 8, 3, 9, 6, 4, 6, 7, 4, 5, 7, 8, 7, 7, 6, 5, 5, 9, 5, 7, 8, 5, 5, 8, 5, 6, 7, 5, 6, 9, 7, 6, 6, 8, 8, 6, 8, 8, 5, 6, 5, 5, 7, 8, 6, 7, 9, 9, 8, 8, 7, 6, 7, 6, 8, 9, 7, 8, 9, 9, 9, 9, 6, 9, 8, 8, 8, 8, 8, 6, 9, 6, 8, 8, 8, 6, 8, 6, 6, 6, 9, 6, 6, 8, 9, 6, 8, 8, 8, 9, 8, 8, 8, 8, 8, 8, 8, 8, 8, 8, 8, 8, 8, 8, 8, 8, 8, 8, 8, 0, 1, 0, 0, 1, 1, 1, 1, 0, 0, 2, 1, 0, 0, 0, 0, 1, 0, 0, 1, 1, 1, 1, 0, 0, 2, 1, 0, 0, 0, 0, 1, 0, 0, 1, 1, 1, 1, 0, 0, 2, 1, 0, 0, 0, 0, 1, 0, 0, 1, 1, 1, 1, 0, 0, 2, 1, 0, 0, 0, 0, 1, 0, 0, 1, 1, 1, 1, 0, 0, 2, 1, 0, 0, 0, 0, 1, 0, 0, 1, 1, 1, 1, 0, 0, 2, 1, 0, 0, 0, 0, 1, 0, 0, 1, 1, 1, 1, 0, 0, 2, 1, 0, 0, 0, 0, 1, 0, 0, 1, 1, 1, 1, 0, 0, 2, 1, 0, 0, 0, 0, 1, 0, 0, 1, 1, 1, 1, 0, 0, 2, 1, 0, 0, 0, 0, 1, 0, 0, 1, 1, 1, 1, 0, 0, 2, 1, 0, 0, 0, 0, 1, 0, 0, 1, 1, 1, 1, 0, 0, 2, 1, 0, 0, 0, 0, 1, 0, 0, 1, 1, 1, 1, 0, 0, 2, 1, 0, 0, 0, 0, 1, 0, 0, 1, 1, 1, 1, 0, 0, 2, 1, 0, 0, 0, 0, 1, 0, 0, 1, 1, 1, 1, 0, 0, 2, 1, 0, 0, 0, 0, 1, 0, 0, 1, 1, 1, 1, 0, 0, 2, 1, 0, 0, 0, 0, 1, 0, 0, 1, 1, 1, 1, 0, 2, 1, 1, 1, 1, 1, 1, 2, 1, 1, 1, 1, 1, 1, 2, 1, 1, 1, 1, 1, 1, 2, 1, 1, 1, 1, 1, 1, 2, 1, 1, 1, 1, 1, 1, 2, 1, 2, 2, 2, 2, 2, 2, 2, 2, 2, 2, 2, 2, 2, 2, 2, 2, 2, 2, 2, 2, 2, 2, 2, 2, 2, 2, 2, 2, 2, 2, 2, 2, 2, 2, 2, 2, 2, 2, 2, 2, 2, 2, 2, 2, 2, 2, 2, 2, 2, 2, 2, 2, 2, 2, 2, 2, 2, 2, 2, 2, 2, 2, 2, 2, 2, 2, 2, 2, 2, 2, 2, 2, 2, 2, 2, 2, 2, 2, 2, 2, 2, 2, 2, 2, 2, 2, 2, 2, 2, 2, 2, 2, 2, 2, 2, 2, 2, 2, 2, 2, 2, 2, 2, 2, 2, 2]\n"
     ]
    }
   ],
   "source": [
    "W, analyst_labels = random_scheduler(analysts, workloads, 0.001)\n",
    "print(analyst_labels)"
   ]
  },
  {
   "cell_type": "code",
   "execution_count": 102,
   "metadata": {},
   "outputs": [],
   "source": [
    "sns.set(font_scale=2)\n",
    "sns.set_style(\"white\")\n",
    "artifactspath = '/home/david/Documents/online_budgetshare/fig/'\n",
    "#artifactspath = \"/Users/albertsun/Projects/artifacts/algexperiments/\""
   ]
  },
  {
   "cell_type": "code",
   "execution_count": 197,
   "metadata": {},
   "outputs": [
    {
     "name": "stdout",
     "output_type": "stream",
     "text": [
      "      Ind   PMW   SCR    RS    RR\n",
      "0     640   640   640  1093  1109\n",
      "1     640   640   640  1174  1144\n",
      "2    1270  1270  1270  2238  2285\n",
      "3     640   640   640  1170  1154\n",
      "4      70    70    70   133   133\n",
      "..    ...   ...   ...   ...   ...\n",
      "495   200   200   200   335   353\n",
      "496   200   200   200   360   360\n",
      "497   640   640   640  1193  1173\n",
      "498  1270  1270  1270  2285  2305\n",
      "499  1200  1200  1200  2193  2174\n",
      "\n",
      "[500 rows x 5 columns]\n"
     ]
    },
    {
     "data": {
      "image/png": "[encoded data removed]",
      "text/plain": [
       "<Figure size 432x288 with 1 Axes>"
      ]
     },
     "metadata": {},
     "output_type": "display_data"
    }
   ],
   "source": [
    "trials = 500\n",
    "p = 0.01\n",
    "test_data = pd.DataFrame(columns = ['Ind', 'PMW', 'SCR', 'RS','RR'])\n",
    "for i in range(trials):\n",
    "    c = np.random.randint(len(W_lst))\n",
    "    analysts = [0, 1, 2, 3, 4, 5, 6, 7, 8, 9]\n",
    "    workloads = [W_lst[c] for i in analysts]\n",
    "    W, analyst_labels = random_scheduler(analysts, workloads, p)\n",
    "    test_data = test_data.append({'Ind' : len(analyst_labels), 'PMW' : len(analyst_labels),'SCR' : len(analyst_labels),'RS' : SeqRandomSchedulerComplete2(10,analyst_labels),'RR' : SeqRoundRobinComplete2(10,analyst_labels)}, \n",
    "                ignore_index = True)\n",
    "\n",
    "print(test_data)\n",
    "#test_data_1 = test_data.iloc[:,:5]\n",
    "test_data_1 = pd.DataFrame(test_data, dtype='float')\n",
    "ax = test_data_1.boxplot()\n",
    "#ax.set_ylim(0, 50)\n",
    "#plt.title('Alice gets her queries \\nanswered with p = 0.1')\n",
    "#plt.ylabel('Queries Answered')\n",
    "#ax.yaxis.set_major_formatter(mtick.PercentFormatter())\n",
    "plt.savefig(artifactspath + '0.01time.pdf', bbox_inches='tight')"
   ]
  },
  {
   "cell_type": "code",
   "execution_count": 198,
   "metadata": {},
   "outputs": [
    {
     "name": "stdout",
     "output_type": "stream",
     "text": [
      "      Ind   PMW   SCR    RS    RR\n",
      "0     640   640   640   779   754\n",
      "1      10    10    10    15    18\n",
      "2     200   200   200   253   257\n",
      "3     640   640   640   877   788\n",
      "4    1270  1270  1270  1519  1415\n",
      "..    ...   ...   ...   ...   ...\n",
      "495  1270  1270  1270  1603  1485\n",
      "496   640   640   640   856   761\n",
      "497   640   640   640   794   767\n",
      "498   640   640   640   784   767\n",
      "499   610   610   610   835   786\n",
      "\n",
      "[500 rows x 5 columns]\n"
     ]
    },
    {
     "data": {
      "image/png": "[encoded data removed]",
      "text/plain": [
       "<Figure size 432x288 with 1 Axes>"
      ]
     },
     "metadata": {},
     "output_type": "display_data"
    }
   ],
   "source": [
    "trials = 500\n",
    "p = 0.1\n",
    "test_data = pd.DataFrame(columns = ['Ind', 'PMW', 'SCR', 'RS','RR'])\n",
    "for i in range(trials):\n",
    "    c = np.random.randint(len(W_lst))\n",
    "    analysts = [0, 1, 2, 3, 4, 5, 6, 7, 8, 9]\n",
    "    workloads = [W_lst[c] for i in analysts]\n",
    "    W, analyst_labels = random_scheduler(analysts, workloads, p)\n",
    "    test_data = test_data.append({'Ind' : len(analyst_labels), 'PMW' : len(analyst_labels),'SCR' : len(analyst_labels),'RS' : SeqRandomSchedulerComplete2(10,analyst_labels),'RR' : SeqRoundRobinComplete2(10,analyst_labels)}, \n",
    "                ignore_index = True)\n",
    "\n",
    "print(test_data)\n",
    "#test_data_1 = test_data.iloc[:,:5]\n",
    "test_data_1 = pd.DataFrame(test_data, dtype='float')\n",
    "ax = test_data_1.boxplot()\n",
    "#ax.set_ylim(0, 50)\n",
    "#plt.title('Alice gets her queries \\nanswered with p = 0.1')\n",
    "#plt.ylabel('Queries Answered')\n",
    "#ax.yaxis.set_major_formatter(mtick.PercentFormatter())\n",
    "plt.savefig(artifactspath + '0.1time.pdf', bbox_inches='tight')"
   ]
  },
  {
   "cell_type": "code",
   "execution_count": 199,
   "metadata": {},
   "outputs": [
    {
     "name": "stdout",
     "output_type": "stream",
     "text": [
      "      Ind   PMW   SCR    RS    RR\n",
      "0     640   640   640   789   837\n",
      "1    1270  1270  1270  1573  1459\n",
      "2    1270  1270  1270  1597  1511\n",
      "3     640   640   640   849   792\n",
      "4      70    70    70   100   100\n",
      "..    ...   ...   ...   ...   ...\n",
      "495    10    10    10    19    18\n",
      "496   200   200   200   266   287\n",
      "497   640   640   640   862   787\n",
      "498   640   640   640   838   805\n",
      "499    70    70    70   113    95\n",
      "\n",
      "[500 rows x 5 columns]\n",
      "      Ind   PMW   SCR    RS    RR\n",
      "0     640   640   640   789   837\n",
      "1    1270  1270  1270  1573  1459\n",
      "2    1270  1270  1270  1597  1511\n",
      "3     640   640   640   849   792\n",
      "4      70    70    70   100   100\n",
      "..    ...   ...   ...   ...   ...\n",
      "495    10    10    10    19    18\n",
      "496   200   200   200   266   287\n",
      "497   640   640   640   862   787\n",
      "498   640   640   640   838   805\n",
      "499    70    70    70   113    95\n",
      "\n",
      "[500 rows x 5 columns]\n"
     ]
    },
    {
     "data": {
      "image/png": "[encoded data removed]",
      "text/plain": [
       "<Figure size 432x288 with 1 Axes>"
      ]
     },
     "metadata": {},
     "output_type": "display_data"
    }
   ],
   "source": [
    "trials = 500\n",
    "p = 0.5\n",
    "test_data = pd.DataFrame(columns = ['Ind', 'PMW', 'SCR', 'RS','RR'])\n",
    "for i in range(trials):\n",
    "    c = np.random.randint(len(W_lst))\n",
    "    analysts = [0, 1, 2, 3, 4, 5, 6, 7, 8, 9]\n",
    "    workloads = [W_lst[c] for i in analysts]\n",
    "    W, analyst_labels = random_scheduler(analysts, workloads, p)\n",
    "    test_data = test_data.append({'Ind' : len(analyst_labels), 'PMW' : len(analyst_labels),'SCR' : len(analyst_labels),'RS' : SeqRandomSchedulerComplete2(10,analyst_labels),'RR' : SeqRoundRobinComplete2(10,analyst_labels)}, \n",
    "                ignore_index = True)\n",
    "print(test_data)\n",
    "print(test_data)\n",
    "#test_data_1 = test_data.iloc[:,:5]\n",
    "test_data_1 = pd.DataFrame(test_data, dtype='float')\n",
    "ax = test_data_1.boxplot()\n",
    "#ax.set_ylim(0, 50)\n",
    "#plt.title('Alice gets her queries \\nanswered with p = 0.1')\n",
    "#plt.ylabel('Queries Answered')\n",
    "#ax.yaxis.set_major_formatter(mtick.PercentFormatter())\n",
    "plt.savefig(artifactspath + '0.5time.pdf', bbox_inches='tight')"
   ]
  },
  {
   "cell_type": "code",
   "execution_count": 200,
   "metadata": {},
   "outputs": [
    {
     "name": "stdout",
     "output_type": "stream",
     "text": [
      "      Ind   PMW   SCR    RS    RR\n",
      "0     700   700   700   888   842\n",
      "1    1270  1270  1270  1505  1483\n",
      "2     640   640   640   812   788\n",
      "3     610   610   610   823   747\n",
      "4     610   610   610   918   747\n",
      "..    ...   ...   ...   ...   ...\n",
      "495   640   640   640   798   774\n",
      "496    70    70    70   104   104\n",
      "497  1270  1270  1270  1566  1446\n",
      "498  1200  1200  1200  1511  1431\n",
      "499    10    10    10    17    15\n",
      "\n",
      "[500 rows x 5 columns]\n",
      "      Ind   PMW   SCR    RS    RR\n",
      "0     700   700   700   888   842\n",
      "1    1270  1270  1270  1505  1483\n",
      "2     640   640   640   812   788\n",
      "3     610   610   610   823   747\n",
      "4     610   610   610   918   747\n",
      "..    ...   ...   ...   ...   ...\n",
      "495   640   640   640   798   774\n",
      "496    70    70    70   104   104\n",
      "497  1270  1270  1270  1566  1446\n",
      "498  1200  1200  1200  1511  1431\n",
      "499    10    10    10    17    15\n",
      "\n",
      "[500 rows x 5 columns]\n"
     ]
    },
    {
     "data": {
      "image/png": "[encoded data removed]",
      "text/plain": [
       "<Figure size 432x288 with 1 Axes>"
      ]
     },
     "metadata": {},
     "output_type": "display_data"
    }
   ],
   "source": [
    "trials = 500\n",
    "p = 0.9\n",
    "test_data = pd.DataFrame(columns = ['Ind', 'PMW', 'SCR', 'RS','RR'])\n",
    "for i in range(trials):\n",
    "    c = np.random.randint(len(W_lst))\n",
    "    analysts = [0, 1, 2, 3, 4, 5, 6, 7, 8, 9]\n",
    "    workloads = [W_lst[c] for i in analysts]\n",
    "    W, analyst_labels = random_scheduler(analysts, workloads, p)\n",
    "    test_data = test_data.append({'Ind' : len(analyst_labels), 'PMW' : len(analyst_labels),'SCR' : len(analyst_labels),'RS' : SeqRandomSchedulerComplete2(10,analyst_labels),'RR' : SeqRoundRobinComplete2(10,analyst_labels)}, \n",
    "                ignore_index = True)\n",
    "print(test_data)\n",
    "print(test_data)\n",
    "#test_data_1 = test_data.iloc[:,:5]\n",
    "test_data_1 = pd.DataFrame(test_data, dtype='float')\n",
    "ax = test_data_1.boxplot()\n",
    "#ax.set_ylim(0, 50)\n",
    "#plt.title('Alice gets her queries \\nanswered with p = 0.1')\n",
    "#plt.ylabel('Queries Answered')\n",
    "#ax.yaxis.set_major_formatter(mtick.PercentFormatter())\n",
    "plt.savefig(artifactspath + '0.9time.pdf', bbox_inches='tight')"
   ]
  },
  {
   "cell_type": "code",
   "execution_count": null,
   "metadata": {},
   "outputs": [],
   "source": []
  },
  {
   "cell_type": "code",
   "execution_count": null,
   "metadata": {},
   "outputs": [],
   "source": []
  }
 ],
 "metadata": {
  "kernelspec": {
   "display_name": "Python 3",
   "language": "python",
   "name": "python3"
  },
  "language_info": {
   "codemirror_mode": {
    "name": "ipython",
    "version": 3
   },
   "file_extension": ".py",
   "mimetype": "text/x-python",
   "name": "python",
   "nbconvert_exporter": "python",
   "pygments_lexer": "ipython3",
   "version": "3.8.10"
  }
 },
 "nbformat": 4,
 "nbformat_minor": 4
}
