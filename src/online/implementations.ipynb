{
 "cells": [
  {
   "cell_type": "markdown",
   "id": "83cd4ab0",
   "metadata": {},
   "source": [
    "# 1 Summary\n",
    "In this document, I will write out the implementation of all the algorithms that are necesssary for the experiments. I will be doing this to ensure that the algoirthms are ready to be run experiments on for the paper. \n",
    "\n",
    "# 2 Experiment Designs\n",
    "Practical setting - page 10 of http://www.vldb.org/pvldb/vol14/p1805-pujol.pdf\n",
    "#### 2.1 Independent is still bad in online setting\n",
    "#### 2.2 Naively joining mechanisms is still bad\n",
    "#### 2.3 Round Robin Query answer enfoces sharing incentive\n",
    "#### 2.4 Distribution Sampling to show the further you get from RR, the worse sharing incentive you have\n",
    "\n",
    "\n",
    "# 3 Mechanisms\n",
    "\n",
    "#### 3.1 Simple laplace  (use laplace mechanism on every query)\n",
    "#### 3.2 PMW (Naive version, merge privacy budgets then run PMW)\n",
    "#### 3.3 PMW Independent (everyone gets an independent instance)\n",
    "#### 3.4 Split PMW ( PMW but with the split update steps)\n",
    "#### 3.4 Identity\n",
    "#### 3.5 Cache and reconstruct (probably seeded) \n",
    "\n",
    "# 4 Experiment Tools/Helper Methods\n",
    "#### 4.1 Query Generation\n",
    "#### 4.2 Round Robin Generation\n",
    "#### 4.3 Random Query Ordering \n",
    "\n",
    "\n",
    "# 5 Definition of Metrics\n",
    "#### 5.1 Maximum Ratio Error\n",
    "This is used to measure sharing incentive desiderata. However, unlike the last paper, we will be focusing on the _number_ of queries answerable given a certain accuracy threshold, not the _error_ itself. \n",
    "#### 5.2 Empirical Interference\n",
    "This is used to measure violation of the empirical interference desiderata. We will be looking for the maximum interference for any analyst among the collective. This interference is defined as the number of queries that are unanswerable among \n",
    "#### 5.3 Acceptable Threshold\n",
    "(?) What is an acceptable threshold"
   ]
  }
 ],
 "metadata": {
  "kernelspec": {
   "display_name": "Python 3.8.8 64-bit ('base': conda)",
   "language": "python",
   "name": "python388jvsc74a57bd0718e77e574b71e9f7991c7da6831896cfd7281e366db0dbf84de44e8d5f66e5a"
  },
  "language_info": {
   "codemirror_mode": {
    "name": "ipython",
    "version": 3
   },
   "file_extension": ".py",
   "mimetype": "text/x-python",
   "name": "python",
   "nbconvert_exporter": "python",
   "pygments_lexer": "ipython3",
   "version": "3.8.8"
  }
 },
 "nbformat": 4,
 "nbformat_minor": 5
}
