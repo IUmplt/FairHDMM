{
 "cells": [
  {
   "cell_type": "code",
   "execution_count": 1,
   "id": "55ffcde4",
   "metadata": {},
   "outputs": [],
   "source": [
    "import numpy as np\n",
    "import pandas as pd\n",
    "import math\n",
    "\n",
    "from typing import Tuple\n",
    "import src.hdmm.workload as workload\n",
    "import src.census_workloads as census\n",
    "from src.workload_selection import workload_selection\n",
    "import online_workloads as online_workloads"
   ]
  },
  {
   "cell_type": "code",
   "execution_count": 2,
   "id": "e2081523",
   "metadata": {},
   "outputs": [],
   "source": [
    "n=64\n",
    "W_name = ['identity', 'H2', 'race1', 'race2', 'race3', 'custom', 'prefix_sum']#, 'total',]\n",
    "W_lst = [online_workloads.identity(n), online_workloads.H2(n), online_workloads.race1(), online_workloads.race2(), online_workloads.race3(), online_workloads.custom(n), online_workloads.prefix_sum(n),] # online_workloads.total(n),]\n",
    "\n",
    "\n",
    "\n"
   ]
  },
  {
   "cell_type": "code",
   "execution_count": 3,
   "id": "6a6e3142",
   "metadata": {},
   "outputs": [],
   "source": [
    "def pmw_naive(workload, x, analyst_labels, T, eps=0.01, total_k=None, \n",
    "         show_messages=False, to_return='error', show_plot=False, show_failure_step=False, eta = None,\n",
    "             count_threshold=0.1):\n",
    "    \"\"\"\n",
    "    Implement Private Multiplicative Weights Mechanism (PMW) on a workload of\n",
    "    linear queries where analysts can run out of privacy budget if they use too much of others'. \n",
    "    \n",
    "    In other words, all analysts share from the same privacy budget. \n",
    "    \n",
    "    Last Updated: 4-23-2022\n",
    "\n",
    "    Algorithm Parameters: \n",
    "    - workload = workload of queries (M x k numpy array)\n",
    "    - x = true database (M x 1 numpy array)\n",
    "    - T = update threshold\n",
    "    - eps = privacy budget\n",
    "    - total_k = total number of update steps alloted for the entire group\n",
    "    - analyst_labels = list of analyst names corresponding to each query in the workload\n",
    "    \n",
    "    Output Controls: \n",
    "    - show_messages argument determines whether the function will print information such as \n",
    "    error scale, threshold, update steps used, etc.\n",
    "    - to_return argument determines what the function will return. \n",
    "        - if 'pd', pmw() returns pandas df with test data for each \n",
    "        query in the workload(showing query, d_t_hat, updated, algo_ans, real_ans, \n",
    "        abs_error, rel_error). \n",
    "        - if 'error', pmw() returns a dictionary for the average absolute error for each analyst\n",
    "        - if 'pct_ans', pmw() returns a dictionary for the percent of queries answered that meets\n",
    "        the accuracy threshold set by count_threshold\n",
    "    - show_plot - T/F whether the function will display a plot\n",
    "    - show_failure_step - T/F whether function prints what step failure mode is reached\n",
    "    - count_threshold - this is for the to_return = 'pct_ans' setting. It is the min error threshold \n",
    "    that a query answer for us to count the answer as \"reasonable\" as opposed to \"bot\". The default\n",
    "    is 0.1. This functions as another way to  measure the accuracy of the queries that is more similar \n",
    "    to how our other functions; i.e., cache and reconstruct either returns an accurate answer or \"bot\".\n",
    "    \"\"\" \n",
    "    \n",
    "    # initialize constants\n",
    "    m = x.size  # database len\n",
    "    n = x.sum()\n",
    "    if(eta == None):\n",
    "        eta = (math.log(m, np.e) / ((math.sqrt(n))) )\n",
    "    delta = 1 / (n * math.log(n, np.e))\n",
    "    x_norm = x / np.sum(x)\n",
    "    \n",
    "    # initialize synthetic databases at time 0 (prior to any queries)\n",
    "    x_t = np.ones(m) / m\n",
    "    y_t = np.ones(m) / m\n",
    "\n",
    "    # initialize tracker lists to construct pandas dataframe at the end \n",
    "    x_list = [x_t] # create a list of x_t synthetic database at every time step\n",
    "    update_list = []\n",
    "    update_count = 0\n",
    "    pmw_answers = []\n",
    "    update_times = [] # record times that database is updated\n",
    "    d_t_hat_list = []\n",
    "    \n",
    "    # initialize total_k, the total number of update steps if not default\n",
    "    if total_k == None:\n",
    "        total_k = round(n * math.log(math.sqrt(m)) / 770) #770\n",
    "        #print(f'{total_k=}')\n",
    "    \n",
    "    def lazy_round():\n",
    "        \"\"\"\n",
    "        \"Lazy Round\" of querying using the stored synthetic database, x_t, in list x_list.\n",
    "        \n",
    "        We call this the lazy round because it is contrasted with the updated step where we update the \n",
    "        sythetic database and answer the query using the real database.\n",
    "        \"\"\"\n",
    "        update_list.append('no')\n",
    "        answer = np.dot(query, x_list[time])\n",
    "        if answer < 0:\n",
    "            pmw_answers.append(0)\n",
    "        else: \n",
    "            pmw_answers.append(answer)\n",
    "        x_list.append(x_list[time])\n",
    "    \n",
    "    # inititate first instance of SVT with half the budget and k updates; will be reset in the main loop\n",
    "    SVTtrigger = False \n",
    "    SVTepsilon1 = ((eps/2)/2)\n",
    "    SVTepsilon2 = ((eps/2)/2)\n",
    "    rho = np.random.laplace(loc=0, scale=(1/SVTepsilon1), size=1)[0]\n",
    "    #print(rho + T)\n",
    "    \n",
    "    \n",
    "    for time, query in enumerate(workload):\n",
    "        \n",
    "        analyst = analyst_labels[time]\n",
    "        \n",
    "        # Do one round of sparse vector technique; compute noisy answer by adding Laplacian noise\n",
    "        A_t = np.random.laplace(loc=0, scale=(total_k/SVTepsilon2), size=1)[0]\n",
    "        a_t_hat = (np.dot(query, x_norm)*n ) + A_t\n",
    "        d_t_hat = a_t_hat - (n*np.dot(query, x_list[time]))\n",
    "        \n",
    "        # LAZY ROUND: QUERY USING THE SYNTHETIC DATABASE\n",
    "        if (abs(d_t_hat) <= T + rho):\n",
    "            d_t_hat_list.append(d_t_hat)\n",
    "            lazy_round()\n",
    "\n",
    "        # UPDATE ROUND: UPDATE SYNTHETIC DATABASE AND RETURN NOISY ANSWER, A_T-HAT\n",
    "        else:\n",
    "            # noise\n",
    "            A_t = np.random.laplace(loc=0, scale=(2*total_k/eps), size=1)[0]\n",
    "            \n",
    "            # noisy answer\n",
    "            a_t_hat = (np.dot(query, x_norm)*n ) + A_t\n",
    "            d_t_hat = a_t_hat - (n*np.dot(query, x_list[time]))\n",
    "            d_t_hat_list.append(d_t_hat)\n",
    "            update_times.append(time)\n",
    "            \n",
    "            # step a\n",
    "            if d_t_hat < 0:\n",
    "                r_t = query\n",
    "            else:\n",
    "                r_t = np.ones(m) - query\n",
    "            for i in range(len(y_t)):\n",
    "                y_t[i] = x_list[time][i] * math.exp(-( eta * r_t[i]))# eta is the learning rate\n",
    "            \n",
    "            # step b\n",
    "            x_t = y_t / np.sum(y_t)\n",
    "            update_count = update_list.count('yes')\n",
    "            \n",
    "            # if threshold for num updates is reached, just do a lazy round (synthetic database) answer\n",
    "            if total_k == 0: \n",
    "                if show_failure_step:\n",
    "                    print(f'Failure mode reached at query number {time}: {query}')\n",
    "                lazy_round()\n",
    "                \n",
    "            # if there are still update steps that the analyst can use, \n",
    "            # 1. update the synthetic database\n",
    "            # 2. answer the query using the noisy answer from the database itself \n",
    "            else: \n",
    "                x_list.append(x_t)\n",
    "                update_list.append('yes') # increment number of updates counter\n",
    "                answer = a_t_hat / np.sum(x)\n",
    "                \n",
    "                if answer < 0:\n",
    "                    pmw_answers.append(0)\n",
    "                else: \n",
    "                    pmw_answers.append(answer)\n",
    "                \n",
    "                total_k -= 1 # use one of the total update steps\n",
    "        \n",
    "        #print(f'{x_list[time] - x_list[time - 1]=}')\n",
    "        \n",
    "        \n",
    "    update_count = update_list.count('yes')      \n",
    "\n",
    "    # calculate error\n",
    "    real_ans = np.matmul(workload, x_norm)\n",
    "    abs_error = np.abs(pmw_answers - real_ans)\n",
    "    rel_error = np.abs(abs_error / np.where(real_ans == 0, 0.000001,\n",
    "                                                real_ans))\n",
    "    \n",
    "    if show_messages:\n",
    "        np.set_printoptions(suppress=True)\n",
    "        \"\"\"Print inputes/outputs to analyze each query\"\"\"\n",
    "        print(f'Original database: {x}\\n')\n",
    "        print(f'Synthetic Database (after) = {x_list[len(x_list) - 1] * sum(x)}\\n')\n",
    "        print(f'Normalized database: {x_norm}\\n')\n",
    "        print(f'Synthetic Database (before) = {x_list[0]}\\n')\n",
    "        print(f'Synthetic Database (after, norm) = {x_list[len(x_list) - 1]}\\n')\n",
    "        print(f'Difference btw. Final Synthetic and true database = {x_list[len(x_list) - 1] - x_norm}\\n')\n",
    "        print(f'Update Count = {update_count}\\n')\n",
    "        print(f'{T=}\\n')\n",
    "        print(f'Error Scale Query Answer= {2*((2*total_k/eps)**2)}\\n')\n",
    "        print(f'Error Scale SVT= {2*((2*total_k/SVTepsilon2)**2)}\\n')\n",
    "        print(f'Update Parameter Scale = {eta}\\n')\n",
    "        print(f'{delta=}\\n')\n",
    "        \n",
    "    if show_plot: \n",
    "        plt.title('Error across queries:')\n",
    "        rel_line, = plt.plot(rel_error, label='Relative Error')\n",
    "        abs_line, = plt.plot(abs_error, label='Absolute Error')\n",
    "        for xc in update_times:\n",
    "            plt.axvline(x=xc, color='red', label='Update Times', linestyle='dashed')\n",
    "        plt.legend(handles=[abs_line,rel_line])\n",
    "        plt.xticks(range(0, len(workload), round(len(workload)/5)))\n",
    "    \n",
    "    if to_return == \"pd\":\n",
    "        # hacky fix: remove the first synthetic database to keep length of lists consistent with the\n",
    "        # other lists that comprise of the pandas dataframe\n",
    "        x_list.pop(0).tolist() \n",
    "        d = {\n",
    "            'algo_ans': pmw_answers,\n",
    "            'real_ans': real_ans.tolist(),\n",
    "            'queries': workload.tolist(), \n",
    "            'updated': update_list,\n",
    "            'abs_error': abs_error,               \n",
    "            'rel_error': rel_error,\n",
    "            'synthetic database': x_list,\n",
    "            'analyst': analyst_labels,\n",
    "            'd_t_hat': d_t_hat_list, \n",
    "\n",
    "             }\n",
    "        test_data = pd.DataFrame(data=d)\n",
    "        #test_data = test_data.round(3)\n",
    "        return test_data\n",
    "    \n",
    "    if to_return == \"error\":\n",
    "        d = {'analyst': analyst_labels,\n",
    "             'abs_error': abs_error,               \n",
    "             'rel_error': rel_error,}\n",
    "        data = pd.DataFrame(data=d)\n",
    "        data = data.round(3)\n",
    "        \n",
    "        analyst_error = {}\n",
    "        for analyst in list(sorted(analyst_labels)):\n",
    "            analyst_error[analyst] = data[data.analyst==analyst]['abs_error'].sum()\n",
    "        return analyst_error\n",
    "    \n",
    "    if to_return == \"tse\":\n",
    "        d = {'analyst': analyst_labels,\n",
    "             'abs_error': abs_error,}\n",
    "        data = pd.DataFrame(data=d)\n",
    "        data['squared_err'] = data['abs_error'] ** 2\n",
    "        \n",
    "        analyst_error = {}\n",
    "        for analyst in list(sorted(analyst_labels)):\n",
    "            analyst_error[analyst] = data[data.analyst==analyst]['abs_error'].sum()\n",
    "        return analyst_error\n",
    "    \n",
    "    if to_return == \"pct_ans\":\n",
    "        d = {'analyst': analyst_labels,\n",
    "             'abs_error': abs_error,}\n",
    "        data = pd.DataFrame(data=d)\n",
    "        \n",
    "        pct_answered = {}\n",
    "        for analyst in sorted(list(set(analyst_labels))):\n",
    "            pct_answered[analyst] = data[(data['abs_error'] < count_threshold) & \n",
    "                                         (data.analyst==analyst)]['abs_error'].count()/len(data[data.analyst==analyst]) * 100\n",
    "        return pct_answered"
   ]
  },
  {
   "cell_type": "code",
   "execution_count": 4,
   "id": "6dfa7413",
   "metadata": {},
   "outputs": [
    {
     "data": {
      "text/plain": [
       "array([412, 333, 285, 231, 202, 174, 160, 142, 146, 149, 145, 181, 174,\n",
       "       190, 213, 287, 372, 499, 619, 715, 785, 821, 822, 816, 799, 742,\n",
       "       717, 697, 658, 593, 564, 519, 447, 403, 388, 365, 336, 306, 311,\n",
       "       289, 261, 231, 213, 196, 194, 170, 175, 168, 149, 142, 131, 119,\n",
       "       112, 118, 114, 116, 112, 114, 106, 111, 109, 112, 113, 109, 104,\n",
       "       108, 108,  94,  91,  81,  81,  72,  68,  63,  56,  46,  41,  38,\n",
       "        34,  28,  23,  22,  18,  18,  16,  41])"
      ]
     },
     "execution_count": 4,
     "metadata": {},
     "output_type": "execute_result"
    }
   ],
   "source": [
    "data_path = \"migration_tworace.csv\"\n",
    "x_race = pd.read_csv(data_path, header=None).to_numpy().T[1] # truncate to first 64\n",
    "x_race"
   ]
  },
  {
   "cell_type": "code",
   "execution_count": 5,
   "id": "3074588a",
   "metadata": {},
   "outputs": [
    {
     "name": "stdout",
     "output_type": "stream",
     "text": [
      "large_w.shape=(6400, 64)\n"
     ]
    }
   ],
   "source": [
    "n=64\n",
    "ten_identity_q = np.vstack((online_workloads.identity(n), \n",
    "                            online_workloads.identity(n),\n",
    "                            online_workloads.identity(n),\n",
    "                            online_workloads.identity(n),\n",
    "                            online_workloads.identity(n),\n",
    "                            online_workloads.identity(n),\n",
    "                            online_workloads.identity(n),\n",
    "                            online_workloads.identity(n),\n",
    "                            online_workloads.identity(n),\n",
    "                            online_workloads.identity(n)))\n",
    "\n",
    "large_w = np.vstack((ten_identity_q, \n",
    "                               ten_identity_q, \n",
    "                               ten_identity_q, \n",
    "                               ten_identity_q, \n",
    "                               ten_identity_q, \n",
    "                               ten_identity_q, \n",
    "                               ten_identity_q, \n",
    "                               ten_identity_q, \n",
    "                               ten_identity_q, \n",
    "                               ten_identity_q))\n",
    "\n",
    "print(f'{large_w.shape=}')"
   ]
  },
  {
   "cell_type": "code",
   "execution_count": 6,
   "id": "60b5df8a",
   "metadata": {},
   "outputs": [
    {
     "data": {
      "text/plain": [
       "{'A': 98.78125}"
      ]
     },
     "execution_count": 6,
     "metadata": {},
     "output_type": "execute_result"
    }
   ],
   "source": [
    "data_ex = pmw_naive(workload = large_w, \n",
    "                          x = x_race[:64], \n",
    "                          analyst_labels = ['A'] * len(large_w), \n",
    "                          eps=1, \n",
    "                          T=40, \n",
    "                          total_k = 1000, \n",
    "                          show_messages=False, to_return='pct_ans')\n",
    "\n",
    "data_ex"
   ]
  },
  {
   "cell_type": "code",
   "execution_count": 7,
   "id": "eb3dfbb1",
   "metadata": {},
   "outputs": [],
   "source": [
    "import matplotlib.pyplot as plt\n",
    "\n",
    "def plot_databases(data, y_upper=0.05):\n",
    "    \"\"\"\n",
    "    Plot True and Synthetic database side by side\n",
    "    \n",
    "    Input: \n",
    "    - data = pd.DataFrame returned from pmw()\n",
    "    - y_upper = y upperbound on the plot\n",
    "    \"\"\"\n",
    "    y_upper = 0.05\n",
    "\n",
    "    x1 = range(64)\n",
    "    y1 = x_race[:64] / sum(x_race[:64])\n",
    "\n",
    "    final_synthdb = data.iloc[len(data) - 1, 6]\n",
    "    x2 = range(64)\n",
    "    y2 = final_synthdb\n",
    "\n",
    "    plt.subplot(1, 2, 1)\n",
    "    plt.plot(x1, y1, color =\"red\")\n",
    "    plt.ylim([0, y_upper])\n",
    "    plt.title('True Database')\n",
    "\n",
    "    plt.subplot(1, 2, 2)\n",
    "    plt.plot(x2, y2, color =\"red\")\n",
    "    plt.title('A tale of 2 subplots')\n",
    "    plt.ylim([0, y_upper])\n",
    "    plt.title('Final Synthetic Database')\n",
    "\n",
    "\n",
    "    plt.subplots_adjust(left=0.1,\n",
    "                        bottom=0.1, \n",
    "                        right=0.9, \n",
    "                        top=0.9, \n",
    "                        wspace=0.4, \n",
    "                        hspace=0.4)\n",
    "    plt.show()\n"
   ]
  },
  {
   "cell_type": "markdown",
   "id": "337d82f4",
   "metadata": {},
   "source": [
    "# Scheduler"
   ]
  },
  {
   "cell_type": "code",
   "execution_count": 8,
   "id": "2c231f67",
   "metadata": {},
   "outputs": [
    {
     "data": {
      "text/plain": [
       "(array([[11, 22, 33],\n",
       "        [ 1,  2,  3],\n",
       "        [44, 55, 66],\n",
       "        [ 4,  5,  6],\n",
       "        [77, 88, 99],\n",
       "        [ 7,  8,  9]]),\n",
       " ['B', 'A', 'B', 'A', 'B', 'A'])"
      ]
     },
     "execution_count": 8,
     "metadata": {},
     "output_type": "execute_result"
    }
   ],
   "source": [
    "def skewed_scheduler(a: np.ndarray, b: np.ndarray, p: int) -> Tuple: \n",
    "    \"\"\"\n",
    "    Schedules Alice's queries with a probability of p and Bob's queries with a probability of (p - 1).\n",
    "    \n",
    "    Returns new workload of queries (2x2 np.array) and analyst labels (python list). \n",
    "    \n",
    "    p: prob of scheduling Alice's queries\n",
    "    a: alice's workload\n",
    "    b: bob's workload\n",
    "    \"\"\"\n",
    "    \n",
    "    W = []\n",
    "    analyst_labels = []\n",
    "    \n",
    "    if a.shape[1] != b.shape[1]:\n",
    "         raise TypeError(\"a and b dimensions don't match\")\n",
    "    \n",
    "    a_pointer = 0\n",
    "    b_pointer = 0\n",
    "    \n",
    "    while(a_pointer < len(a) and b_pointer < len(b)):\n",
    "        if np.random.random() < p:\n",
    "            W.append(a[a_pointer])\n",
    "            a_pointer += 1\n",
    "            analyst_labels.append('A')\n",
    "        else: \n",
    "            W.append(b[b_pointer])\n",
    "            b_pointer += 1\n",
    "            analyst_labels.append('B')\n",
    "    \n",
    "    if a_pointer == len(a):\n",
    "        W = np.vstack((W, b[b_pointer:]))\n",
    "        analyst_labels += ['B' for i in range(b_pointer, len(b))]\n",
    "    if b_pointer == len(b): \n",
    "        W = np.vstack((W, a[a_pointer:]))\n",
    "        analyst_labels += ['A' for i in range(a_pointer, len(a))]\n",
    "    \n",
    "    W = np.array(W)\n",
    "    return W, analyst_labels\n",
    "\n",
    "a_ex = np.array([[1, 2, 3],\n",
    "             [4, 5, 6],\n",
    "             [7, 8, 9]])\n",
    "\n",
    "b_ex = np.array([[11, 22, 33],\n",
    "             [44, 55, 66],\n",
    "             [77, 88, 99]])\n",
    "    \n",
    "skewed_scheduler(a_ex, b_ex, 0.5)"
   ]
  },
  {
   "cell_type": "code",
   "execution_count": 9,
   "id": "907a278f",
   "metadata": {},
   "outputs": [
    {
     "data": {
      "text/plain": [
       "(array([[ 1,  2,  3],\n",
       "        [ 4,  5,  6],\n",
       "        [ 7,  8,  9],\n",
       "        [11, 22, 33],\n",
       "        [44, 55, 66],\n",
       "        [77, 88, 99]]),\n",
       " ['A', 'A', 'A', 'B', 'B', 'B'])"
      ]
     },
     "execution_count": 9,
     "metadata": {},
     "output_type": "execute_result"
    }
   ],
   "source": [
    "skewed_scheduler(a_ex, b_ex, 1)"
   ]
  },
  {
   "cell_type": "code",
   "execution_count": 10,
   "id": "86023652",
   "metadata": {},
   "outputs": [
    {
     "data": {
      "text/plain": [
       "(array([[ 1,  2,  3],\n",
       "        [ 4,  5,  6],\n",
       "        [ 7,  8,  9],\n",
       "        [11, 22, 33],\n",
       "        [44, 55, 66],\n",
       "        [77, 88, 99]]),\n",
       " ['A', 'A', 'A', 'B', 'B', 'B'])"
      ]
     },
     "execution_count": 10,
     "metadata": {},
     "output_type": "execute_result"
    }
   ],
   "source": [
    "skewed_scheduler(a_ex, b_ex, 0.9)"
   ]
  },
  {
   "cell_type": "code",
   "execution_count": 11,
   "id": "4d91f7a8",
   "metadata": {},
   "outputs": [
    {
     "data": {
      "text/plain": [
       "(array([[11, 22, 33],\n",
       "        [44, 55, 66],\n",
       "        [ 1,  2,  3],\n",
       "        [ 4,  5,  6],\n",
       "        [77, 88, 99],\n",
       "        [ 7,  8,  9]]),\n",
       " ['B', 'B', 'A', 'A', 'B', 'A'])"
      ]
     },
     "execution_count": 11,
     "metadata": {},
     "output_type": "execute_result"
    }
   ],
   "source": [
    "skewed_scheduler(a_ex, b_ex, 0.8)"
   ]
  },
  {
   "cell_type": "code",
   "execution_count": 12,
   "id": "5c7600fb",
   "metadata": {},
   "outputs": [
    {
     "data": {
      "text/plain": [
       "(array([[ 1,  2,  3],\n",
       "        [11, 22, 33],\n",
       "        [44, 55, 66],\n",
       "        [ 4,  5,  6],\n",
       "        [77, 88, 99],\n",
       "        [ 7,  8,  9]]),\n",
       " ['A', 'B', 'B', 'A', 'B', 'A'])"
      ]
     },
     "execution_count": 12,
     "metadata": {},
     "output_type": "execute_result"
    }
   ],
   "source": [
    "skewed_scheduler(a_ex, b_ex, 0.7)"
   ]
  },
  {
   "cell_type": "code",
   "execution_count": 13,
   "id": "ccb158fc",
   "metadata": {},
   "outputs": [
    {
     "data": {
      "text/plain": [
       "(array([[11, 22, 33],\n",
       "        [ 1,  2,  3],\n",
       "        [44, 55, 66],\n",
       "        [ 4,  5,  6],\n",
       "        [ 7,  8,  9],\n",
       "        [77, 88, 99]]),\n",
       " ['B', 'A', 'B', 'A', 'A', 'B'])"
      ]
     },
     "execution_count": 13,
     "metadata": {},
     "output_type": "execute_result"
    }
   ],
   "source": [
    "skewed_scheduler(a_ex, b_ex, 0.6)"
   ]
  },
  {
   "cell_type": "code",
   "execution_count": 14,
   "id": "3910f92d",
   "metadata": {},
   "outputs": [
    {
     "data": {
      "text/plain": [
       "(array([[11, 22, 33],\n",
       "        [44, 55, 66],\n",
       "        [ 1,  2,  3],\n",
       "        [ 4,  5,  6],\n",
       "        [ 7,  8,  9],\n",
       "        [77, 88, 99]]),\n",
       " ['B', 'B', 'A', 'A', 'A', 'B'])"
      ]
     },
     "execution_count": 14,
     "metadata": {},
     "output_type": "execute_result"
    }
   ],
   "source": [
    "skewed_scheduler(a_ex, b_ex, 0.5)"
   ]
  },
  {
   "cell_type": "code",
   "execution_count": 15,
   "id": "997885ef",
   "metadata": {},
   "outputs": [
    {
     "name": "stdout",
     "output_type": "stream",
     "text": [
      "1.0\n",
      "1.0\n"
     ]
    }
   ],
   "source": [
    "# test, april 29\n",
    "df_alice_bob_pct_accurate = pd.DataFrame(columns = ['p', 'analyst', 'pct_accurate'])\n",
    "p = 1\n",
    "c = 2\n",
    "alice = W_lst[c]\n",
    "bob = W_lst[c]\n",
    "W, analyst_labels = skewed_scheduler(alice, bob, p)\n",
    "\n",
    "database = x_race[:64]\n",
    "dog = pmw_naive(W, database, analyst_labels, eps=1, T=40, to_return='pd', \n",
    "                          count_threshold=0.3)\n",
    "\n",
    "threshold = 0.3\n",
    "print(dog[(dog.abs_error < 0.01) & (dog.analyst=='A')][\"abs_error\"].count()/len(dog[(dog.analyst=='A')]))\n",
    "#dog[(dog.analyst=='A')]\n",
    "print(dog[(dog.abs_error < 0.01) & (dog.analyst=='B')][\"abs_error\"].count()/len(dog[((dog.analyst=='B'))]))"
   ]
  },
  {
   "cell_type": "markdown",
   "id": "7670ca81",
   "metadata": {},
   "source": [
    "# Motivating Experiment"
   ]
  },
  {
   "cell_type": "code",
   "execution_count": 16,
   "id": "76e0673e",
   "metadata": {},
   "outputs": [],
   "source": [
    "import warnings\n",
    "warnings.filterwarnings(\"ignore\", category=np.VisibleDeprecationWarning) "
   ]
  },
  {
   "cell_type": "code",
   "execution_count": 17,
   "id": "2b9f074b",
   "metadata": {},
   "outputs": [],
   "source": [
    "# initialize workloads\n",
    "W_lst = [online_workloads.identity(n), online_workloads.total(n), online_workloads.custom(n), online_workloads.prefix_sum(n), online_workloads.race1(), online_workloads.race2(), online_workloads.race3(),]\n",
    "W_name = ['identity', 'total', 'H2', 'custom', 'prefix_sum', 'race1', 'race2', 'race3']\n",
    "\n",
    "def motivating_exp(p, t):\n",
    "    diff_lst=[]\n",
    "    for i in range(t):\n",
    "        # generate two identical workloads\n",
    "        c = np.random.randint(len(W_lst))\n",
    "\n",
    "        alice = W_lst[c]\n",
    "        bob = W_lst[c]\n",
    "        # skewed scheduler\n",
    "        W, analyst_labels = skewed_scheduler(alice, bob, p)\n",
    "        \n",
    "        #if W_name[c] in ['race1', 'race2', 'race3']:\n",
    "        #    database = x_race\n",
    "        #else:\n",
    "        database = x_race[:64]\n",
    "        \n",
    "        \n",
    "        # PMW calculate error\n",
    "        error_dict = pmw_naive(W, database, analyst_labels, eps=1, T=40, to_return='error')\n",
    "\n",
    "        # subtract errors to get difference\n",
    "        diff =  error_dict['B'] - error_dict['A']\n",
    "        # append difference to list for this specific p\n",
    "        diff_lst.append(diff)\n",
    "\n",
    "    return diff_lst"
   ]
  },
  {
   "cell_type": "code",
   "execution_count": 18,
   "id": "86a76433",
   "metadata": {},
   "outputs": [],
   "source": [
    "df_alice_bob = pd.DataFrame(columns = ['p', 'analyst', 'error'])"
   ]
  },
  {
   "cell_type": "code",
   "execution_count": 19,
   "id": "f9a86fa1",
   "metadata": {},
   "outputs": [
    {
     "data": {
      "text/html": [
       "<div>\n",
       "<style scoped>\n",
       "    .dataframe tbody tr th:only-of-type {\n",
       "        vertical-align: middle;\n",
       "    }\n",
       "\n",
       "    .dataframe tbody tr th {\n",
       "        vertical-align: top;\n",
       "    }\n",
       "\n",
       "    .dataframe thead th {\n",
       "        text-align: right;\n",
       "    }\n",
       "</style>\n",
       "<table border=\"1\" class=\"dataframe\">\n",
       "  <thead>\n",
       "    <tr style=\"text-align: right;\">\n",
       "      <th></th>\n",
       "      <th>p</th>\n",
       "      <th>analyst</th>\n",
       "      <th>error</th>\n",
       "    </tr>\n",
       "  </thead>\n",
       "  <tbody>\n",
       "    <tr>\n",
       "      <th>0</th>\n",
       "      <td>0.5</td>\n",
       "      <td>A</td>\n",
       "      <td>0.1</td>\n",
       "    </tr>\n",
       "  </tbody>\n",
       "</table>\n",
       "</div>"
      ],
      "text/plain": [
       "     p analyst error\n",
       "0  0.5       A   0.1"
      ]
     },
     "execution_count": 19,
     "metadata": {},
     "output_type": "execute_result"
    }
   ],
   "source": [
    "def concatenate_practical(df, p, analyst, error):\n",
    "    return pd.concat([df,\n",
    "                pd.DataFrame({'p': [p], \n",
    "                              'analyst': [analyst],\n",
    "                              'error': [error]\n",
    "                             })], \n",
    "                ignore_index=True)\n",
    "\n",
    "concatenate_practical(df_alice_bob, 0.5, 'A', 0.1)"
   ]
  },
  {
   "cell_type": "code",
   "execution_count": 20,
   "id": "c1712b95",
   "metadata": {},
   "outputs": [
    {
     "data": {
      "text/plain": [
       "0    Alice\n",
       "1      Bob\n",
       "Name: analyst, dtype: object"
      ]
     },
     "execution_count": 20,
     "metadata": {},
     "output_type": "execute_result"
    }
   ],
   "source": [
    "ex = pd.DataFrame(columns = ['p', 'analyst', 'error'])\n",
    "\n",
    "def motivating_exp_nodiffs(df, p):\n",
    "    diff_lst=[]\n",
    "    # generate two identical workloads\n",
    "    c = np.random.randint(len(W_lst))\n",
    "\n",
    "    alice = W_lst[c]\n",
    "    bob = W_lst[c]\n",
    "    \n",
    "    # skewed scheduler\n",
    "    W, analyst_labels = skewed_scheduler(alice, bob, p)\n",
    "\n",
    "    database = x_race[:64]\n",
    "\n",
    "    # PMW calculate error\n",
    "    error_dict = pmw_naive(W, database, analyst_labels, eps=1, T=40, to_return='error')\n",
    "\n",
    "    df = concatenate_practical(df, p, 'A', error_dict['A'])\n",
    "    df = concatenate_practical(df, p, 'B', error_dict['B'])\n",
    "\n",
    "    return df\n",
    "\n",
    "ex = motivating_exp_nodiffs(ex, 0.1)\n",
    "#ex['analyst'] = ex['analyst'].replace({\"A\": \"Alice\", \"B\": \"Bob\"}, inplace=True)\n",
    "\n",
    "ex['analyst'].loc[(ex['analyst'] == 'A')] = 'Alice'\n",
    "ex['analyst'].loc[(ex['analyst'] == 'B')] = 'Bob'\n",
    "\n",
    "ex['analyst']"
   ]
  },
  {
   "cell_type": "code",
   "execution_count": 21,
   "id": "3c427d63",
   "metadata": {},
   "outputs": [
    {
     "data": {
      "text/html": [
       "<div>\n",
       "<style scoped>\n",
       "    .dataframe tbody tr th:only-of-type {\n",
       "        vertical-align: middle;\n",
       "    }\n",
       "\n",
       "    .dataframe tbody tr th {\n",
       "        vertical-align: top;\n",
       "    }\n",
       "\n",
       "    .dataframe thead th {\n",
       "        text-align: right;\n",
       "    }\n",
       "</style>\n",
       "<table border=\"1\" class=\"dataframe\">\n",
       "  <thead>\n",
       "    <tr style=\"text-align: right;\">\n",
       "      <th></th>\n",
       "      <th>p</th>\n",
       "      <th>analyst</th>\n",
       "      <th>error</th>\n",
       "    </tr>\n",
       "  </thead>\n",
       "  <tbody>\n",
       "    <tr>\n",
       "      <th>0</th>\n",
       "      <td>0.5</td>\n",
       "      <td>A</td>\n",
       "      <td>0.546</td>\n",
       "    </tr>\n",
       "    <tr>\n",
       "      <th>1</th>\n",
       "      <td>0.5</td>\n",
       "      <td>B</td>\n",
       "      <td>0.428</td>\n",
       "    </tr>\n",
       "    <tr>\n",
       "      <th>2</th>\n",
       "      <td>0.55</td>\n",
       "      <td>A</td>\n",
       "      <td>0.0</td>\n",
       "    </tr>\n",
       "    <tr>\n",
       "      <th>3</th>\n",
       "      <td>0.55</td>\n",
       "      <td>B</td>\n",
       "      <td>0.024</td>\n",
       "    </tr>\n",
       "    <tr>\n",
       "      <th>4</th>\n",
       "      <td>0.6</td>\n",
       "      <td>A</td>\n",
       "      <td>0.327</td>\n",
       "    </tr>\n",
       "    <tr>\n",
       "      <th>...</th>\n",
       "      <td>...</td>\n",
       "      <td>...</td>\n",
       "      <td>...</td>\n",
       "    </tr>\n",
       "    <tr>\n",
       "      <th>215</th>\n",
       "      <td>0.9</td>\n",
       "      <td>B</td>\n",
       "      <td>0.0</td>\n",
       "    </tr>\n",
       "    <tr>\n",
       "      <th>216</th>\n",
       "      <td>0.95</td>\n",
       "      <td>A</td>\n",
       "      <td>0.398</td>\n",
       "    </tr>\n",
       "    <tr>\n",
       "      <th>217</th>\n",
       "      <td>0.95</td>\n",
       "      <td>B</td>\n",
       "      <td>0.694</td>\n",
       "    </tr>\n",
       "    <tr>\n",
       "      <th>218</th>\n",
       "      <td>1.0</td>\n",
       "      <td>A</td>\n",
       "      <td>0.004</td>\n",
       "    </tr>\n",
       "    <tr>\n",
       "      <th>219</th>\n",
       "      <td>1.0</td>\n",
       "      <td>B</td>\n",
       "      <td>0.005</td>\n",
       "    </tr>\n",
       "  </tbody>\n",
       "</table>\n",
       "<p>220 rows × 3 columns</p>\n",
       "</div>"
      ],
      "text/plain": [
       "        p analyst  error\n",
       "0     0.5       A  0.546\n",
       "1     0.5       B  0.428\n",
       "2    0.55       A    0.0\n",
       "3    0.55       B  0.024\n",
       "4     0.6       A  0.327\n",
       "..    ...     ...    ...\n",
       "215   0.9       B    0.0\n",
       "216  0.95       A  0.398\n",
       "217  0.95       B  0.694\n",
       "218   1.0       A  0.004\n",
       "219   1.0       B  0.005\n",
       "\n",
       "[220 rows x 3 columns]"
      ]
     },
     "execution_count": 21,
     "metadata": {},
     "output_type": "execute_result"
    }
   ],
   "source": [
    "df_alice_bob = pd.DataFrame(columns = ['p', 'analyst', 'error'])\n",
    "\n",
    "for i in range(10):\n",
    "    if i in list(range(100, 1001, 50)): \n",
    "        print(f'{i} iterations have passed')\n",
    "    for p in [i / 100 for i in range(50, 101, 5)]:\n",
    "        df_alice_bob = motivating_exp_nodiffs(df_alice_bob, p)\n",
    "\n",
    "df_alice_bob"
   ]
  },
  {
   "cell_type": "code",
   "execution_count": 22,
   "id": "759341e4",
   "metadata": {},
   "outputs": [
    {
     "data": {
      "text/html": [
       "<div>\n",
       "<style scoped>\n",
       "    .dataframe tbody tr th:only-of-type {\n",
       "        vertical-align: middle;\n",
       "    }\n",
       "\n",
       "    .dataframe tbody tr th {\n",
       "        vertical-align: top;\n",
       "    }\n",
       "\n",
       "    .dataframe thead th {\n",
       "        text-align: right;\n",
       "    }\n",
       "</style>\n",
       "<table border=\"1\" class=\"dataframe\">\n",
       "  <thead>\n",
       "    <tr style=\"text-align: right;\">\n",
       "      <th></th>\n",
       "      <th>p</th>\n",
       "      <th>analyst</th>\n",
       "      <th>error</th>\n",
       "    </tr>\n",
       "  </thead>\n",
       "  <tbody>\n",
       "    <tr>\n",
       "      <th>0</th>\n",
       "      <td>0.5</td>\n",
       "      <td>Alice</td>\n",
       "      <td>0.546</td>\n",
       "    </tr>\n",
       "    <tr>\n",
       "      <th>1</th>\n",
       "      <td>0.5</td>\n",
       "      <td>Bob</td>\n",
       "      <td>0.428</td>\n",
       "    </tr>\n",
       "    <tr>\n",
       "      <th>2</th>\n",
       "      <td>0.55</td>\n",
       "      <td>Alice</td>\n",
       "      <td>0.0</td>\n",
       "    </tr>\n",
       "    <tr>\n",
       "      <th>3</th>\n",
       "      <td>0.55</td>\n",
       "      <td>Bob</td>\n",
       "      <td>0.024</td>\n",
       "    </tr>\n",
       "    <tr>\n",
       "      <th>4</th>\n",
       "      <td>0.6</td>\n",
       "      <td>Alice</td>\n",
       "      <td>0.327</td>\n",
       "    </tr>\n",
       "    <tr>\n",
       "      <th>...</th>\n",
       "      <td>...</td>\n",
       "      <td>...</td>\n",
       "      <td>...</td>\n",
       "    </tr>\n",
       "    <tr>\n",
       "      <th>215</th>\n",
       "      <td>0.9</td>\n",
       "      <td>Bob</td>\n",
       "      <td>0.0</td>\n",
       "    </tr>\n",
       "    <tr>\n",
       "      <th>216</th>\n",
       "      <td>0.95</td>\n",
       "      <td>Alice</td>\n",
       "      <td>0.398</td>\n",
       "    </tr>\n",
       "    <tr>\n",
       "      <th>217</th>\n",
       "      <td>0.95</td>\n",
       "      <td>Bob</td>\n",
       "      <td>0.694</td>\n",
       "    </tr>\n",
       "    <tr>\n",
       "      <th>218</th>\n",
       "      <td>1.0</td>\n",
       "      <td>Alice</td>\n",
       "      <td>0.004</td>\n",
       "    </tr>\n",
       "    <tr>\n",
       "      <th>219</th>\n",
       "      <td>1.0</td>\n",
       "      <td>Bob</td>\n",
       "      <td>0.005</td>\n",
       "    </tr>\n",
       "  </tbody>\n",
       "</table>\n",
       "<p>220 rows × 3 columns</p>\n",
       "</div>"
      ],
      "text/plain": [
       "        p analyst  error\n",
       "0     0.5   Alice  0.546\n",
       "1     0.5     Bob  0.428\n",
       "2    0.55   Alice    0.0\n",
       "3    0.55     Bob  0.024\n",
       "4     0.6   Alice  0.327\n",
       "..    ...     ...    ...\n",
       "215   0.9     Bob    0.0\n",
       "216  0.95   Alice  0.398\n",
       "217  0.95     Bob  0.694\n",
       "218   1.0   Alice  0.004\n",
       "219   1.0     Bob  0.005\n",
       "\n",
       "[220 rows x 3 columns]"
      ]
     },
     "execution_count": 22,
     "metadata": {},
     "output_type": "execute_result"
    }
   ],
   "source": [
    "df_alice_bob['analyst'].loc[(df_alice_bob['analyst'] == 'A')] = 'Alice'\n",
    "df_alice_bob['analyst'].loc[(df_alice_bob['analyst'] == 'B')] = 'Bob'\n",
    "\n",
    "df_alice_bob"
   ]
  },
  {
   "cell_type": "code",
   "execution_count": 23,
   "id": "4fa5394b",
   "metadata": {},
   "outputs": [
    {
     "data": {
      "image/png": "[encoded data removed]",
      "text/plain": [
       "<Figure size 576x432 with 1 Axes>"
      ]
     },
     "metadata": {},
     "output_type": "display_data"
    }
   ],
   "source": [
    "from matplotlib import rcParams\n",
    "import seaborn as sns\n",
    "\n",
    "sns.set(font_scale=2)\n",
    "sns.set_style(\"white\")\n",
    "\n",
    "rcParams['figure.figsize'] = 8, 6\n",
    "\n",
    "ax = sns.lineplot(data=df_alice_bob, x=\"p\", y=\"error\", hue='analyst')\n",
    "ax.set_yticks([.5, 1])\n",
    "ax.set_xticks([0.5, 0.75, 1])\n",
    "#ax.set_ylim([0, 1])\n",
    "#ax.set_xlim([.5, 1.1])\n",
    "\n",
    "plt.legend([],[], frameon=False)\n",
    "\n",
    "#ax.set_title(\"Alice receives less error than Bob with higher p\", \n",
    "#            pad=15)\n",
    "ax.set_xlabel('p')\n",
    "ax.set_ylabel('Error')\n",
    "\n",
    "artifacts_path = '/Users/albertsun/Projects/artifacts/'\n",
    "\n",
    "#txt=\"Run on practical workloads with t=500 trials each \\nusing Private Multiplicative Weights (Hardt 2010)\"\n",
    "#plt.figtext(0.53, -0.05, txt, wrap=True, horizontalalignment='left', fontsize=15)\n",
    "\n",
    "plt.savefig(artifacts_path + \"MotivatingExpError_point05.png\")"
   ]
  },
  {
   "cell_type": "markdown",
   "id": "540b9df0",
   "metadata": {},
   "source": [
    "# Compute pct queries answered with accuracy\n",
    "Apr 23"
   ]
  },
  {
   "cell_type": "code",
   "execution_count": 30,
   "id": "60a678e4",
   "metadata": {},
   "outputs": [],
   "source": [
    "analyst_lst = []\n",
    "p_lst = []\n",
    "pct_accurate = []\n",
    "def motivating_exp_pct_accurate(p):\n",
    "    \"\"\" \n",
    "    Function to run motivating experiments with measurement bineg percent of queries answered accurately\n",
    "    \"\"\"\n",
    "    diff_lst=[]\n",
    "    # generate two identical workloads\n",
    "    c = np.random.randint(len(W_lst))\n",
    "\n",
    "    alice = W_lst[c]\n",
    "    bob = W_lst[c]\n",
    "    \n",
    "    # skewed scheduler\n",
    "    W, analyst_labels = skewed_scheduler(alice, bob, p)\n",
    "\n",
    "    database = x_race[:64]\n",
    "\n",
    "    # PMW calculate error\n",
    "    pct_accurate_dict = pmw_naive(W, database, analyst_labels, eps=1, T=40, to_return='pct_ans', \n",
    "                          count_threshold=0.01)\n",
    "    #print(W)\n",
    "    #print(database)\n",
    "    \"\"\"\n",
    "    def concatenate_pct_acc(df, p, analyst, error):\n",
    "        return pd.concat([df,\n",
    "                    pd.DataFrame({'p': [p], \n",
    "                                  'analyst': [analyst],\n",
    "                                  'pct_accurate': [error]\n",
    "                                 })], \n",
    "                    ignore_index=True)\n",
    "    \n",
    "    df = concatenate_pct_acc(df, p, 'A', pct_accurate_dict['A'])\n",
    "    df = concatenate_pct_acc(df, p, 'B', pct_accurate_dict['B'])\n",
    "    \"\"\"\n",
    "    \n",
    "    analyst_lst.append('A')\n",
    "    p_lst.append(p)\n",
    "    pct_accurate.append(pct_accurate_dict['A'])\n",
    "    \n",
    "    analyst_lst.append('B')\n",
    "    p_lst.append(p)\n",
    "    pct_accurate.append(pct_accurate_dict['B'])\n",
    "\n",
    "    #return df"
   ]
  },
  {
   "cell_type": "code",
   "execution_count": 33,
   "id": "8463fb5a",
   "metadata": {},
   "outputs": [
    {
     "name": "stdout",
     "output_type": "stream",
     "text": [
      "0 iterations have passed\n",
      "50 iterations have passed\n",
      "100 iterations have passed\n",
      "150 iterations have passed\n",
      "200 iterations have passed\n",
      "250 iterations have passed\n",
      "300 iterations have passed\n",
      "350 iterations have passed\n",
      "400 iterations have passed\n",
      "450 iterations have passed\n",
      "500 iterations have passed\n",
      "550 iterations have passed\n",
      "600 iterations have passed\n",
      "650 iterations have passed\n",
      "700 iterations have passed\n",
      "750 iterations have passed\n",
      "800 iterations have passed\n",
      "850 iterations have passed\n",
      "900 iterations have passed\n",
      "950 iterations have passed\n",
      "1000 iterations have passed\n",
      "1050 iterations have passed\n",
      "1100 iterations have passed\n",
      "1150 iterations have passed\n",
      "1200 iterations have passed\n",
      "1250 iterations have passed\n",
      "1300 iterations have passed\n",
      "1350 iterations have passed\n",
      "1400 iterations have passed\n",
      "1450 iterations have passed\n",
      "1500 iterations have passed\n"
     ]
    },
    {
     "data": {
      "text/html": [
       "<div>\n",
       "<style scoped>\n",
       "    .dataframe tbody tr th:only-of-type {\n",
       "        vertical-align: middle;\n",
       "    }\n",
       "\n",
       "    .dataframe tbody tr th {\n",
       "        vertical-align: top;\n",
       "    }\n",
       "\n",
       "    .dataframe thead th {\n",
       "        text-align: right;\n",
       "    }\n",
       "</style>\n",
       "<table border=\"1\" class=\"dataframe\">\n",
       "  <thead>\n",
       "    <tr style=\"text-align: right;\">\n",
       "      <th></th>\n",
       "      <th>p</th>\n",
       "      <th>analyst</th>\n",
       "      <th>pct_accurate</th>\n",
       "    </tr>\n",
       "  </thead>\n",
       "  <tbody>\n",
       "    <tr>\n",
       "      <th>0</th>\n",
       "      <td>0.5</td>\n",
       "      <td>A</td>\n",
       "      <td>96.296296</td>\n",
       "    </tr>\n",
       "    <tr>\n",
       "      <th>1</th>\n",
       "      <td>0.5</td>\n",
       "      <td>B</td>\n",
       "      <td>100.000000</td>\n",
       "    </tr>\n",
       "    <tr>\n",
       "      <th>2</th>\n",
       "      <td>0.6</td>\n",
       "      <td>A</td>\n",
       "      <td>0.000000</td>\n",
       "    </tr>\n",
       "    <tr>\n",
       "      <th>3</th>\n",
       "      <td>0.6</td>\n",
       "      <td>B</td>\n",
       "      <td>100.000000</td>\n",
       "    </tr>\n",
       "    <tr>\n",
       "      <th>4</th>\n",
       "      <td>0.7</td>\n",
       "      <td>A</td>\n",
       "      <td>84.375000</td>\n",
       "    </tr>\n",
       "    <tr>\n",
       "      <th>...</th>\n",
       "      <td>...</td>\n",
       "      <td>...</td>\n",
       "      <td>...</td>\n",
       "    </tr>\n",
       "    <tr>\n",
       "      <th>53995</th>\n",
       "      <td>0.8</td>\n",
       "      <td>B</td>\n",
       "      <td>100.000000</td>\n",
       "    </tr>\n",
       "    <tr>\n",
       "      <th>53996</th>\n",
       "      <td>0.9</td>\n",
       "      <td>A</td>\n",
       "      <td>85.714286</td>\n",
       "    </tr>\n",
       "    <tr>\n",
       "      <th>53997</th>\n",
       "      <td>0.9</td>\n",
       "      <td>B</td>\n",
       "      <td>71.428571</td>\n",
       "    </tr>\n",
       "    <tr>\n",
       "      <th>53998</th>\n",
       "      <td>1.0</td>\n",
       "      <td>A</td>\n",
       "      <td>85.937500</td>\n",
       "    </tr>\n",
       "    <tr>\n",
       "      <th>53999</th>\n",
       "      <td>1.0</td>\n",
       "      <td>B</td>\n",
       "      <td>14.062500</td>\n",
       "    </tr>\n",
       "  </tbody>\n",
       "</table>\n",
       "<p>54000 rows × 3 columns</p>\n",
       "</div>"
      ],
      "text/plain": [
       "         p analyst  pct_accurate\n",
       "0      0.5       A     96.296296\n",
       "1      0.5       B    100.000000\n",
       "2      0.6       A      0.000000\n",
       "3      0.6       B    100.000000\n",
       "4      0.7       A     84.375000\n",
       "...    ...     ...           ...\n",
       "53995  0.8       B    100.000000\n",
       "53996  0.9       A     85.714286\n",
       "53997  0.9       B     71.428571\n",
       "53998  1.0       A     85.937500\n",
       "53999  1.0       B     14.062500\n",
       "\n",
       "[54000 rows x 3 columns]"
      ]
     },
     "execution_count": 33,
     "metadata": {},
     "output_type": "execute_result"
    }
   ],
   "source": [
    "for i in range(3000):\n",
    "    if i in list(range(0, 3001, 50)): \n",
    "        print(f'{i} iterations have passed')\n",
    "    for p in [i / 100 for i in range(50, 101, 10)]:\n",
    "        motivating_exp_pct_accurate(p)\n",
    "\n",
    "df_alice_bob_pct_accurate = pd.DataFrame(list(zip(p_lst, analyst_lst, pct_accurate)), \n",
    "                                         columns =['p', 'analyst', 'pct_accurate'])\n",
    "df_alice_bob_pct_accurate"
   ]
  },
  {
   "cell_type": "code",
   "execution_count": 91,
   "id": "66f4b0dd",
   "metadata": {},
   "outputs": [
    {
     "data": {
      "image/png": "[encoded data removed]",
      "text/plain": [
       "<Figure size 576x432 with 1 Axes>"
      ]
     },
     "metadata": {},
     "output_type": "display_data"
    }
   ],
   "source": [
    "import matplotlib.ticker as mtick\n",
    "from matplotlib.ticker import FormatStrFormatter\n",
    "from matplotlib.ticker import FuncFormatter\n",
    "\n",
    "sns.set(font_scale=3)\n",
    "sns.set_style(\"white\")\n",
    "\n",
    "ax = sns.lineplot(data=df_alice_bob_pct_accurate, x=\"p\", y=\"pct_accurate\", hue='analyst', lw=5)\n",
    "sns.despine()\n",
    "\n",
    "#ax.set_yticks([0, 50, 100])\n",
    "ax.set_xticks([0.5, 0.75, 1])\n",
    "ax.set_ylim([65, 100])\n",
    "ax.set_xlim([.5, 1.1])\n",
    "\n",
    "ax.set_xlabel('')\n",
    "ax.set_ylabel('')\n",
    "\n",
    "#ax.yaxis.set_major_formatter(FormatStrFormatter(\"%.0f\"))\n",
    "\n",
    "ax.yaxis.set_major_formatter(mtick.PercentFormatter(decimals=0))\n",
    "#ax.yaxis.set_major_formatter(FuncFormatter('{0:.0%}'.format))\n",
    "#plt.text(1, 0, \"An annotation\", horizontalalignment='left', size='medium', color='black')\n",
    "\n",
    "\n",
    "\n",
    "plt.legend([],[], frameon=False)\n",
    "\n",
    "\n",
    "#ax.set_title(\"Alice receives less error than Bob with higher p\", \n",
    "#            pad=15)\n",
    "#ax.set_xlabel('p')\n",
    "#ax.set_ylabel('% Answered Accurately')\n",
    "\n",
    "artifacts_path = '/Users/albertsun/Projects/artifacts/'\n",
    "\n",
    "#txt=\"Run on practical workloads with t=500 trials each \\nusing Private Multiplicative Weights (Hardt 2010)\"\n",
    "#plt.figtext(0.53, -0.05, txt, wrap=True, horizontalalignment='left', fontsize=15)\n",
    "\n",
    "plt.savefig(artifacts_path + \"MotivatingExpAccCount.pdf\", bbox_inches=\"tight\")"
   ]
  },
  {
   "cell_type": "code",
   "execution_count": 25,
   "id": "518bedfa",
   "metadata": {},
   "outputs": [
    {
     "name": "stdout",
     "output_type": "stream",
     "text": [
      "0 iterations have passed\n"
     ]
    },
    {
     "ename": "TypeError",
     "evalue": "motivating_exp_pct_accurate() takes 1 positional argument but 2 were given",
     "output_type": "error",
     "traceback": [
      "\u001b[0;31m---------------------------------------------------------------------------\u001b[0m",
      "\u001b[0;31mTypeError\u001b[0m                                 Traceback (most recent call last)",
      "\u001b[0;32m<ipython-input-25-5702a1a9cd8f>\u001b[0m in \u001b[0;36m<module>\u001b[0;34m\u001b[0m\n\u001b[1;32m      5\u001b[0m         \u001b[0mprint\u001b[0m\u001b[0;34m(\u001b[0m\u001b[0;34mf'{i} iterations have passed'\u001b[0m\u001b[0;34m)\u001b[0m\u001b[0;34m\u001b[0m\u001b[0;34m\u001b[0m\u001b[0m\n\u001b[1;32m      6\u001b[0m     \u001b[0;32mfor\u001b[0m \u001b[0mp\u001b[0m \u001b[0;32min\u001b[0m \u001b[0;34m[\u001b[0m\u001b[0mi\u001b[0m \u001b[0;34m/\u001b[0m \u001b[0;36m100\u001b[0m \u001b[0;32mfor\u001b[0m \u001b[0mi\u001b[0m \u001b[0;32min\u001b[0m \u001b[0mrange\u001b[0m\u001b[0;34m(\u001b[0m\u001b[0;36m50\u001b[0m\u001b[0;34m,\u001b[0m \u001b[0;36m101\u001b[0m\u001b[0;34m,\u001b[0m \u001b[0;36m5\u001b[0m\u001b[0;34m)\u001b[0m\u001b[0;34m]\u001b[0m\u001b[0;34m:\u001b[0m\u001b[0;34m\u001b[0m\u001b[0;34m\u001b[0m\u001b[0m\n\u001b[0;32m----> 7\u001b[0;31m         \u001b[0mdf_alice_bob_pct_accurate\u001b[0m \u001b[0;34m=\u001b[0m \u001b[0mmotivating_exp_pct_accurate\u001b[0m\u001b[0;34m(\u001b[0m\u001b[0mdf_alice_bob_pct_accurate\u001b[0m\u001b[0;34m,\u001b[0m \u001b[0mp\u001b[0m\u001b[0;34m)\u001b[0m\u001b[0;34m\u001b[0m\u001b[0;34m\u001b[0m\u001b[0m\n\u001b[0m\u001b[1;32m      8\u001b[0m \u001b[0;34m\u001b[0m\u001b[0m\n\u001b[1;32m      9\u001b[0m \u001b[0mdf_alice_bob_pct_accurate\u001b[0m\u001b[0;34m[\u001b[0m\u001b[0;34m'pct_accurate'\u001b[0m\u001b[0;34m]\u001b[0m \u001b[0;34m=\u001b[0m \u001b[0mdf_alice_bob_pct_accurate\u001b[0m\u001b[0;34m[\u001b[0m\u001b[0;34m'pct_accurate'\u001b[0m\u001b[0;34m]\u001b[0m \u001b[0;34m*\u001b[0m \u001b[0;36m100\u001b[0m\u001b[0;34m\u001b[0m\u001b[0;34m\u001b[0m\u001b[0m\n",
      "\u001b[0;31mTypeError\u001b[0m: motivating_exp_pct_accurate() takes 1 positional argument but 2 were given"
     ]
    }
   ],
   "source": [
    "# df_alice_bob_pct_accurate = pd.DataFrame(columns = ['p', 'analyst', 'pct_accurate'])\n",
    "\n",
    "# for i in range(1000):\n",
    "#     if i in list(range(0, 1001, 100)): \n",
    "#         print(f'{i} iterations have passed')\n",
    "#     for p in [i / 100 for i in range(50, 101, 5)]:\n",
    "#         df_alice_bob_pct_accurate = motivating_exp_pct_accurate(df_alice_bob_pct_accurate, p)\n",
    "\n",
    "# df_alice_bob_pct_accurate['pct_accurate'] = df_alice_bob_pct_accurate['pct_accurate'] * 100\n",
    "# df_alice_bob_pct_accurate"
   ]
  },
  {
   "cell_type": "markdown",
   "id": "6e69c8bc",
   "metadata": {},
   "source": [
    "# Empirical Interference: Alice with and without Bob\n",
    "4-24-2022"
   ]
  },
  {
   "cell_type": "code",
   "execution_count": 95,
   "id": "238f23ab",
   "metadata": {},
   "outputs": [],
   "source": [
    "def motivating_exp_emp_int(df, p, analyst='B'):\n",
    "    \"\"\" \n",
    "    Function to run motivating experiments with measurement being empirical interference\n",
    "    \n",
    "    4-23-2022, updated 4-24 with capabilities of looking at Alice, updated 4-26 with joint capabilities\n",
    "    \"\"\"\n",
    "    diff_lst=[]\n",
    "    # generate two identical workloads\n",
    "    c = np.random.randint(len(W_lst))\n",
    "\n",
    "    alice = W_lst[c]\n",
    "    bob = W_lst[c]\n",
    "\n",
    "    # calculate Bob's error with Alice\n",
    "    W, analyst_labels = skewed_scheduler(alice, bob, p)\n",
    "    database = x_race[:64]\n",
    "    \n",
    "    if analyst=='B':\n",
    "        BwA = pmw_naive(W, database, analyst_labels, eps=1, T=40, to_return='error', \n",
    "                              count_threshold=0.3)['B']\n",
    "\n",
    "\n",
    "        # BwoA = calculate Bob's error without Alice\n",
    "        BwoA = pmw_naive(bob, database, ['B'] * len(bob), eps=1, T=40, to_return='error', \n",
    "                              count_threshold=0.3)['B']\n",
    "\n",
    "        # prevent divide by 0 error, ignore\n",
    "        if(BwoA != 0):\n",
    "\n",
    "            # empirical interference\n",
    "            #emp_int = BwA / BwoA\n",
    "\n",
    "            # cols: p, emp_int\n",
    "\n",
    "            df = pd.concat([df,\n",
    "                            pd.DataFrame({'p': [p], \n",
    "                                          'BwA': [BwA],\n",
    "                                          'BwoA': [BwoA],\n",
    "                                          #'emp_int': [emp_int]\n",
    "                                         })], \n",
    "                            ignore_index=True)\n",
    "    elif analyst=='A':\n",
    "        AwB = pmw_naive(W, database, analyst_labels, eps=1, T=40, to_return='error', \n",
    "                              count_threshold=0.3)['A']\n",
    "\n",
    "\n",
    "        # BwoA = calculate Bob's error without Alice\n",
    "        AwoB = pmw_naive(bob, database, ['A'] * len(alice), eps=1, T=40, to_return='error', \n",
    "                              count_threshold=0.3)['A']\n",
    "\n",
    "        # prevent divide by 0 error, ignore\n",
    "        if(AwoB != 0):\n",
    "\n",
    "            # empirical interference\n",
    "            #emp_int = BwA / BwoA\n",
    "\n",
    "            # cols: p, emp_int\n",
    "\n",
    "            df = pd.concat([df,\n",
    "                            pd.DataFrame({'p': [p], \n",
    "                                          'AwB': [AwB],\n",
    "                                          'AwoB': [AwoB],\n",
    "                                          #'emp_int': [emp_int]\n",
    "                                         })], \n",
    "                            ignore_index=True)\n",
    "            \n",
    "    elif analyst=='joint':\n",
    "        BwA = pmw_naive(W, database, analyst_labels, eps=1, T=40, to_return='pct_ans', \n",
    "                              count_threshold=0.01)['B']\n",
    "\n",
    "\n",
    "        # BwoA = calculate Bob's error without Alice\n",
    "        BwoA = pmw_naive(bob, database, ['B'] * len(bob), eps=1, T=40, to_return='pct_ans', \n",
    "                              count_threshold=0.01)['B']\n",
    "        \n",
    "        AwB = pmw_naive(W, database, analyst_labels, eps=1, T=40, to_return='pct_ans', \n",
    "                              count_threshold=0.01)['A']\n",
    "\n",
    "\n",
    "        # BwoA = calculate Bob's error without Alice\n",
    "        AwoB = pmw_naive(bob, database, ['A'] * len(alice), eps=1, T=40, to_return='pct_ans', \n",
    "                              count_threshold=0.01)['A']\n",
    "\n",
    "        # prevent divide by 0 error, ignore\n",
    "        if(AwoB != 0 and BwoA != 0):\n",
    "\n",
    "            # empirical interference\n",
    "            #emp_int = BwA / BwoA\n",
    "\n",
    "            # cols: p, emp_int\n",
    "\n",
    "            df = pd.concat([df,\n",
    "                            pd.DataFrame({'p': [p], \n",
    "                                          'AwB': [AwB],\n",
    "                                          'AwoB': [AwoB],\n",
    "                                          'BwA':[BwA],\n",
    "                                          'BwoA':[BwoA]\n",
    "                                          #'emp_int': [emp_int]\n",
    "                                         })], \n",
    "                            ignore_index=True)\n",
    "        \n",
    "    \n",
    "    return df"
   ]
  },
  {
   "cell_type": "code",
   "execution_count": 96,
   "id": "e5d78cfb",
   "metadata": {},
   "outputs": [
    {
     "name": "stdout",
     "output_type": "stream",
     "text": [
      "0 iterations have passed\n",
      "25 iterations have passed\n",
      "50 iterations have passed\n"
     ]
    },
    {
     "ename": "KeyboardInterrupt",
     "evalue": "",
     "output_type": "error",
     "traceback": [
      "\u001b[0;31m---------------------------------------------------------------------------\u001b[0m",
      "\u001b[0;31mKeyboardInterrupt\u001b[0m                         Traceback (most recent call last)",
      "\u001b[0;32m<ipython-input-96-b6de35ec8839>\u001b[0m in \u001b[0;36m<module>\u001b[0;34m\u001b[0m\n\u001b[1;32m      5\u001b[0m         \u001b[0mprint\u001b[0m\u001b[0;34m(\u001b[0m\u001b[0;34mf'{i} iterations have passed'\u001b[0m\u001b[0;34m)\u001b[0m\u001b[0;34m\u001b[0m\u001b[0;34m\u001b[0m\u001b[0m\n\u001b[1;32m      6\u001b[0m     \u001b[0;32mfor\u001b[0m \u001b[0mp\u001b[0m \u001b[0;32min\u001b[0m \u001b[0;34m[\u001b[0m\u001b[0mi\u001b[0m \u001b[0;34m/\u001b[0m \u001b[0;36m100\u001b[0m \u001b[0;32mfor\u001b[0m \u001b[0mi\u001b[0m \u001b[0;32min\u001b[0m \u001b[0mrange\u001b[0m\u001b[0;34m(\u001b[0m\u001b[0;36m50\u001b[0m\u001b[0;34m,\u001b[0m \u001b[0;36m101\u001b[0m\u001b[0;34m,\u001b[0m \u001b[0;36m5\u001b[0m\u001b[0;34m)\u001b[0m\u001b[0;34m]\u001b[0m\u001b[0;34m:\u001b[0m\u001b[0;34m\u001b[0m\u001b[0;34m\u001b[0m\u001b[0m\n\u001b[0;32m----> 7\u001b[0;31m         \u001b[0mdf_emp_int_alice\u001b[0m \u001b[0;34m=\u001b[0m \u001b[0mmotivating_exp_emp_int\u001b[0m\u001b[0;34m(\u001b[0m\u001b[0mdf_emp_int_alice\u001b[0m\u001b[0;34m,\u001b[0m \u001b[0mp\u001b[0m\u001b[0;34m,\u001b[0m \u001b[0;34m'A'\u001b[0m\u001b[0;34m)\u001b[0m\u001b[0;34m\u001b[0m\u001b[0;34m\u001b[0m\u001b[0m\n\u001b[0m\u001b[1;32m      8\u001b[0m \u001b[0;34m\u001b[0m\u001b[0m\n\u001b[1;32m      9\u001b[0m \u001b[0;34m\u001b[0m\u001b[0m\n",
      "\u001b[0;32m<ipython-input-95-acef2bcda997>\u001b[0m in \u001b[0;36mmotivating_exp_emp_int\u001b[0;34m(df, p, analyst)\u001b[0m\n\u001b[1;32m     46\u001b[0m \u001b[0;34m\u001b[0m\u001b[0m\n\u001b[1;32m     47\u001b[0m         \u001b[0;31m# BwoA = calculate Bob's error without Alice\u001b[0m\u001b[0;34m\u001b[0m\u001b[0;34m\u001b[0m\u001b[0;34m\u001b[0m\u001b[0m\n\u001b[0;32m---> 48\u001b[0;31m         AwoB = pmw_naive(bob, database, ['A'] * len(alice), eps=1, T=40, to_return='error', \n\u001b[0m\u001b[1;32m     49\u001b[0m                               count_threshold=0.3)['A']\n\u001b[1;32m     50\u001b[0m \u001b[0;34m\u001b[0m\u001b[0m\n",
      "\u001b[0;32m<ipython-input-3-32457063410e>\u001b[0m in \u001b[0;36mpmw_naive\u001b[0;34m(workload, x, analyst_labels, T, eps, total_k, show_messages, to_return, show_plot, show_failure_step, eta, count_threshold)\u001b[0m\n\u001b[1;32m    207\u001b[0m         \u001b[0manalyst_error\u001b[0m \u001b[0;34m=\u001b[0m \u001b[0;34m{\u001b[0m\u001b[0;34m}\u001b[0m\u001b[0;34m\u001b[0m\u001b[0;34m\u001b[0m\u001b[0m\n\u001b[1;32m    208\u001b[0m         \u001b[0;32mfor\u001b[0m \u001b[0manalyst\u001b[0m \u001b[0;32min\u001b[0m \u001b[0mlist\u001b[0m\u001b[0;34m(\u001b[0m\u001b[0msorted\u001b[0m\u001b[0;34m(\u001b[0m\u001b[0manalyst_labels\u001b[0m\u001b[0;34m)\u001b[0m\u001b[0;34m)\u001b[0m\u001b[0;34m:\u001b[0m\u001b[0;34m\u001b[0m\u001b[0;34m\u001b[0m\u001b[0m\n\u001b[0;32m--> 209\u001b[0;31m             \u001b[0manalyst_error\u001b[0m\u001b[0;34m[\u001b[0m\u001b[0manalyst\u001b[0m\u001b[0;34m]\u001b[0m \u001b[0;34m=\u001b[0m \u001b[0mdata\u001b[0m\u001b[0;34m[\u001b[0m\u001b[0mdata\u001b[0m\u001b[0;34m.\u001b[0m\u001b[0manalyst\u001b[0m\u001b[0;34m==\u001b[0m\u001b[0manalyst\u001b[0m\u001b[0;34m]\u001b[0m\u001b[0;34m[\u001b[0m\u001b[0;34m'abs_error'\u001b[0m\u001b[0;34m]\u001b[0m\u001b[0;34m.\u001b[0m\u001b[0msum\u001b[0m\u001b[0;34m(\u001b[0m\u001b[0;34m)\u001b[0m\u001b[0;34m\u001b[0m\u001b[0;34m\u001b[0m\u001b[0m\n\u001b[0m\u001b[1;32m    210\u001b[0m         \u001b[0;32mreturn\u001b[0m \u001b[0manalyst_error\u001b[0m\u001b[0;34m\u001b[0m\u001b[0;34m\u001b[0m\u001b[0m\n\u001b[1;32m    211\u001b[0m \u001b[0;34m\u001b[0m\u001b[0m\n",
      "\u001b[0;32m~/opt/anaconda3/lib/python3.8/site-packages/pandas/core/generic.py\u001b[0m in \u001b[0;36msum\u001b[0;34m(self, axis, skipna, level, numeric_only, min_count, **kwargs)\u001b[0m\n\u001b[1;32m  11075\u001b[0m             \u001b[0;34m**\u001b[0m\u001b[0mkwargs\u001b[0m\u001b[0;34m,\u001b[0m\u001b[0;34m\u001b[0m\u001b[0;34m\u001b[0m\u001b[0m\n\u001b[1;32m  11076\u001b[0m         ):\n\u001b[0;32m> 11077\u001b[0;31m             return NDFrame.sum(\n\u001b[0m\u001b[1;32m  11078\u001b[0m                 \u001b[0mself\u001b[0m\u001b[0;34m,\u001b[0m \u001b[0maxis\u001b[0m\u001b[0;34m,\u001b[0m \u001b[0mskipna\u001b[0m\u001b[0;34m,\u001b[0m \u001b[0mlevel\u001b[0m\u001b[0;34m,\u001b[0m \u001b[0mnumeric_only\u001b[0m\u001b[0;34m,\u001b[0m \u001b[0mmin_count\u001b[0m\u001b[0;34m,\u001b[0m \u001b[0;34m**\u001b[0m\u001b[0mkwargs\u001b[0m\u001b[0;34m\u001b[0m\u001b[0;34m\u001b[0m\u001b[0m\n\u001b[1;32m  11079\u001b[0m             )\n",
      "\u001b[0;32m~/opt/anaconda3/lib/python3.8/site-packages/pandas/core/generic.py\u001b[0m in \u001b[0;36msum\u001b[0;34m(self, axis, skipna, level, numeric_only, min_count, **kwargs)\u001b[0m\n\u001b[1;32m  10795\u001b[0m         \u001b[0;34m**\u001b[0m\u001b[0mkwargs\u001b[0m\u001b[0;34m,\u001b[0m\u001b[0;34m\u001b[0m\u001b[0;34m\u001b[0m\u001b[0m\n\u001b[1;32m  10796\u001b[0m     ):\n\u001b[0;32m> 10797\u001b[0;31m         return self._min_count_stat_function(\n\u001b[0m\u001b[1;32m  10798\u001b[0m             \u001b[0;34m\"sum\"\u001b[0m\u001b[0;34m,\u001b[0m \u001b[0mnanops\u001b[0m\u001b[0;34m.\u001b[0m\u001b[0mnansum\u001b[0m\u001b[0;34m,\u001b[0m \u001b[0maxis\u001b[0m\u001b[0;34m,\u001b[0m \u001b[0mskipna\u001b[0m\u001b[0;34m,\u001b[0m \u001b[0mlevel\u001b[0m\u001b[0;34m,\u001b[0m \u001b[0mnumeric_only\u001b[0m\u001b[0;34m,\u001b[0m \u001b[0mmin_count\u001b[0m\u001b[0;34m,\u001b[0m \u001b[0;34m**\u001b[0m\u001b[0mkwargs\u001b[0m\u001b[0;34m\u001b[0m\u001b[0;34m\u001b[0m\u001b[0m\n\u001b[1;32m  10799\u001b[0m         )\n",
      "\u001b[0;32m~/opt/anaconda3/lib/python3.8/site-packages/pandas/core/generic.py\u001b[0m in \u001b[0;36m_min_count_stat_function\u001b[0;34m(self, name, func, axis, skipna, level, numeric_only, min_count, **kwargs)\u001b[0m\n\u001b[1;32m  10777\u001b[0m             )\n\u001b[1;32m  10778\u001b[0m \u001b[0;34m\u001b[0m\u001b[0m\n\u001b[0;32m> 10779\u001b[0;31m         return self._reduce(\n\u001b[0m\u001b[1;32m  10780\u001b[0m             \u001b[0mfunc\u001b[0m\u001b[0;34m,\u001b[0m\u001b[0;34m\u001b[0m\u001b[0;34m\u001b[0m\u001b[0m\n\u001b[1;32m  10781\u001b[0m             \u001b[0mname\u001b[0m\u001b[0;34m=\u001b[0m\u001b[0mname\u001b[0m\u001b[0;34m,\u001b[0m\u001b[0;34m\u001b[0m\u001b[0;34m\u001b[0m\u001b[0m\n",
      "\u001b[0;32m~/opt/anaconda3/lib/python3.8/site-packages/pandas/core/series.py\u001b[0m in \u001b[0;36m_reduce\u001b[0;34m(self, op, name, axis, skipna, numeric_only, filter_type, **kwds)\u001b[0m\n\u001b[1;32m   4469\u001b[0m                 )\n\u001b[1;32m   4470\u001b[0m             \u001b[0;32mwith\u001b[0m \u001b[0mnp\u001b[0m\u001b[0;34m.\u001b[0m\u001b[0merrstate\u001b[0m\u001b[0;34m(\u001b[0m\u001b[0mall\u001b[0m\u001b[0;34m=\u001b[0m\u001b[0;34m\"ignore\"\u001b[0m\u001b[0;34m)\u001b[0m\u001b[0;34m:\u001b[0m\u001b[0;34m\u001b[0m\u001b[0;34m\u001b[0m\u001b[0m\n\u001b[0;32m-> 4471\u001b[0;31m                 \u001b[0;32mreturn\u001b[0m \u001b[0mop\u001b[0m\u001b[0;34m(\u001b[0m\u001b[0mdelegate\u001b[0m\u001b[0;34m,\u001b[0m \u001b[0mskipna\u001b[0m\u001b[0;34m=\u001b[0m\u001b[0mskipna\u001b[0m\u001b[0;34m,\u001b[0m \u001b[0;34m**\u001b[0m\u001b[0mkwds\u001b[0m\u001b[0;34m)\u001b[0m\u001b[0;34m\u001b[0m\u001b[0;34m\u001b[0m\u001b[0m\n\u001b[0m\u001b[1;32m   4472\u001b[0m \u001b[0;34m\u001b[0m\u001b[0m\n\u001b[1;32m   4473\u001b[0m     def _reindex_indexer(\n",
      "\u001b[0;32m~/opt/anaconda3/lib/python3.8/site-packages/pandas/core/nanops.py\u001b[0m in \u001b[0;36m_f\u001b[0;34m(*args, **kwargs)\u001b[0m\n\u001b[1;32m     91\u001b[0m             \u001b[0;32mtry\u001b[0m\u001b[0;34m:\u001b[0m\u001b[0;34m\u001b[0m\u001b[0;34m\u001b[0m\u001b[0m\n\u001b[1;32m     92\u001b[0m                 \u001b[0;32mwith\u001b[0m \u001b[0mnp\u001b[0m\u001b[0;34m.\u001b[0m\u001b[0merrstate\u001b[0m\u001b[0;34m(\u001b[0m\u001b[0minvalid\u001b[0m\u001b[0;34m=\u001b[0m\u001b[0;34m\"ignore\"\u001b[0m\u001b[0;34m)\u001b[0m\u001b[0;34m:\u001b[0m\u001b[0;34m\u001b[0m\u001b[0;34m\u001b[0m\u001b[0m\n\u001b[0;32m---> 93\u001b[0;31m                     \u001b[0;32mreturn\u001b[0m \u001b[0mf\u001b[0m\u001b[0;34m(\u001b[0m\u001b[0;34m*\u001b[0m\u001b[0margs\u001b[0m\u001b[0;34m,\u001b[0m \u001b[0;34m**\u001b[0m\u001b[0mkwargs\u001b[0m\u001b[0;34m)\u001b[0m\u001b[0;34m\u001b[0m\u001b[0;34m\u001b[0m\u001b[0m\n\u001b[0m\u001b[1;32m     94\u001b[0m             \u001b[0;32mexcept\u001b[0m \u001b[0mValueError\u001b[0m \u001b[0;32mas\u001b[0m \u001b[0me\u001b[0m\u001b[0;34m:\u001b[0m\u001b[0;34m\u001b[0m\u001b[0;34m\u001b[0m\u001b[0m\n\u001b[1;32m     95\u001b[0m                 \u001b[0;31m# we want to transform an object array\u001b[0m\u001b[0;34m\u001b[0m\u001b[0;34m\u001b[0m\u001b[0;34m\u001b[0m\u001b[0m\n",
      "\u001b[0;32m~/opt/anaconda3/lib/python3.8/site-packages/pandas/core/nanops.py\u001b[0m in \u001b[0;36mnew_func\u001b[0;34m(values, axis, skipna, mask, **kwargs)\u001b[0m\n\u001b[1;32m    408\u001b[0m             \u001b[0mmask\u001b[0m \u001b[0;34m=\u001b[0m \u001b[0misna\u001b[0m\u001b[0;34m(\u001b[0m\u001b[0mvalues\u001b[0m\u001b[0;34m)\u001b[0m\u001b[0;34m\u001b[0m\u001b[0;34m\u001b[0m\u001b[0m\n\u001b[1;32m    409\u001b[0m \u001b[0;34m\u001b[0m\u001b[0m\n\u001b[0;32m--> 410\u001b[0;31m         \u001b[0mresult\u001b[0m \u001b[0;34m=\u001b[0m \u001b[0mfunc\u001b[0m\u001b[0;34m(\u001b[0m\u001b[0mvalues\u001b[0m\u001b[0;34m,\u001b[0m \u001b[0maxis\u001b[0m\u001b[0;34m=\u001b[0m\u001b[0maxis\u001b[0m\u001b[0;34m,\u001b[0m \u001b[0mskipna\u001b[0m\u001b[0;34m=\u001b[0m\u001b[0mskipna\u001b[0m\u001b[0;34m,\u001b[0m \u001b[0mmask\u001b[0m\u001b[0;34m=\u001b[0m\u001b[0mmask\u001b[0m\u001b[0;34m,\u001b[0m \u001b[0;34m**\u001b[0m\u001b[0mkwargs\u001b[0m\u001b[0;34m)\u001b[0m\u001b[0;34m\u001b[0m\u001b[0;34m\u001b[0m\u001b[0m\n\u001b[0m\u001b[1;32m    411\u001b[0m \u001b[0;34m\u001b[0m\u001b[0m\n\u001b[1;32m    412\u001b[0m         \u001b[0;32mif\u001b[0m \u001b[0mdatetimelike\u001b[0m\u001b[0;34m:\u001b[0m\u001b[0;34m\u001b[0m\u001b[0;34m\u001b[0m\u001b[0m\n",
      "\u001b[0;32m~/opt/anaconda3/lib/python3.8/site-packages/pandas/core/nanops.py\u001b[0m in \u001b[0;36mnewfunc\u001b[0;34m(values, axis, **kwargs)\u001b[0m\n\u001b[1;32m    481\u001b[0m             \u001b[0;32mreturn\u001b[0m \u001b[0mnp\u001b[0m\u001b[0;34m.\u001b[0m\u001b[0marray\u001b[0m\u001b[0;34m(\u001b[0m\u001b[0mresults\u001b[0m\u001b[0;34m)\u001b[0m\u001b[0;34m\u001b[0m\u001b[0;34m\u001b[0m\u001b[0m\n\u001b[1;32m    482\u001b[0m \u001b[0;34m\u001b[0m\u001b[0m\n\u001b[0;32m--> 483\u001b[0;31m         \u001b[0;32mreturn\u001b[0m \u001b[0mfunc\u001b[0m\u001b[0;34m(\u001b[0m\u001b[0mvalues\u001b[0m\u001b[0;34m,\u001b[0m \u001b[0maxis\u001b[0m\u001b[0;34m=\u001b[0m\u001b[0maxis\u001b[0m\u001b[0;34m,\u001b[0m \u001b[0;34m**\u001b[0m\u001b[0mkwargs\u001b[0m\u001b[0;34m)\u001b[0m\u001b[0;34m\u001b[0m\u001b[0;34m\u001b[0m\u001b[0m\n\u001b[0m\u001b[1;32m    484\u001b[0m \u001b[0;34m\u001b[0m\u001b[0m\n\u001b[1;32m    485\u001b[0m     \u001b[0;32mreturn\u001b[0m \u001b[0mcast\u001b[0m\u001b[0;34m(\u001b[0m\u001b[0mF\u001b[0m\u001b[0;34m,\u001b[0m \u001b[0mnewfunc\u001b[0m\u001b[0;34m)\u001b[0m\u001b[0;34m\u001b[0m\u001b[0;34m\u001b[0m\u001b[0m\n",
      "\u001b[0;32m~/opt/anaconda3/lib/python3.8/site-packages/pandas/core/nanops.py\u001b[0m in \u001b[0;36mnansum\u001b[0;34m(values, axis, skipna, min_count, mask)\u001b[0m\n\u001b[1;32m    621\u001b[0m         \u001b[0mdtype_sum\u001b[0m \u001b[0;34m=\u001b[0m \u001b[0mnp\u001b[0m\u001b[0;34m.\u001b[0m\u001b[0mdtype\u001b[0m\u001b[0;34m(\u001b[0m\u001b[0mnp\u001b[0m\u001b[0;34m.\u001b[0m\u001b[0mfloat64\u001b[0m\u001b[0;34m)\u001b[0m\u001b[0;34m\u001b[0m\u001b[0;34m\u001b[0m\u001b[0m\n\u001b[1;32m    622\u001b[0m \u001b[0;34m\u001b[0m\u001b[0m\n\u001b[0;32m--> 623\u001b[0;31m     \u001b[0mthe_sum\u001b[0m \u001b[0;34m=\u001b[0m \u001b[0mvalues\u001b[0m\u001b[0;34m.\u001b[0m\u001b[0msum\u001b[0m\u001b[0;34m(\u001b[0m\u001b[0maxis\u001b[0m\u001b[0;34m,\u001b[0m \u001b[0mdtype\u001b[0m\u001b[0;34m=\u001b[0m\u001b[0mdtype_sum\u001b[0m\u001b[0;34m)\u001b[0m\u001b[0;34m\u001b[0m\u001b[0;34m\u001b[0m\u001b[0m\n\u001b[0m\u001b[1;32m    624\u001b[0m     \u001b[0mthe_sum\u001b[0m \u001b[0;34m=\u001b[0m \u001b[0m_maybe_null_out\u001b[0m\u001b[0;34m(\u001b[0m\u001b[0mthe_sum\u001b[0m\u001b[0;34m,\u001b[0m \u001b[0maxis\u001b[0m\u001b[0;34m,\u001b[0m \u001b[0mmask\u001b[0m\u001b[0;34m,\u001b[0m \u001b[0mvalues\u001b[0m\u001b[0;34m.\u001b[0m\u001b[0mshape\u001b[0m\u001b[0;34m,\u001b[0m \u001b[0mmin_count\u001b[0m\u001b[0;34m=\u001b[0m\u001b[0mmin_count\u001b[0m\u001b[0;34m)\u001b[0m\u001b[0;34m\u001b[0m\u001b[0;34m\u001b[0m\u001b[0m\n\u001b[1;32m    625\u001b[0m \u001b[0;34m\u001b[0m\u001b[0m\n",
      "\u001b[0;31mKeyboardInterrupt\u001b[0m: "
     ]
    }
   ],
   "source": [
    "df_emp_int_alice = pd.DataFrame(columns = ['p', 'AwB', 'AwoB']) #'emp_int'])\n",
    "\n",
    "for i in range(1000):\n",
    "    if i in list(range(0, 1001, 25)): \n",
    "        print(f'{i} iterations have passed')\n",
    "    for p in [i / 100 for i in range(50, 101, 5)]:\n",
    "        df_emp_int_alice = motivating_exp_emp_int(df_emp_int_alice, p, 'A')\n",
    "        \n",
    "\n",
    "df_emp_int_alice"
   ]
  },
  {
   "cell_type": "raw",
   "id": "ad3e1243",
   "metadata": {},
   "source": [
    "df_emp_int_alice['emp_int'] = df_emp_int_alice['AwB'] / df_emp_int_alice['AwoB']\n",
    "df_emp_int_alice.head(50)"
   ]
  },
  {
   "cell_type": "code",
   "execution_count": null,
   "id": "2760258f",
   "metadata": {},
   "outputs": [],
   "source": [
    "import seaborn as sns\n",
    "sns.set(font_scale=2)\n",
    "sns.set_style(\"white\")\n",
    "\n",
    "ax = sns.lineplot(data=df_emp_int_alice, x=\"p\", y=\"emp_int\", lw=5)\n",
    "ax.set_yticks(range(0, 11))\n",
    "#ax.set_xticks([0.5, 0.75, 1])\n",
    "ax.set_ylim([0, 10])\n",
    "#ax.set_xlim([.5, 1.1])\n",
    "\n",
    "plt.legend([],[], frameon=False)\n",
    "ax.axhline(1, lw = 5)\n",
    "\n",
    "#ax.set_title(\"Alice receives less error than Bob with higher p\", \n",
    "#            pad=15)\n",
    "#ax.set_xlabel('p')\n",
    "#ax.set_ylabel('% Answered Accurately')\n",
    "\n",
    "artifacts_path = '/Users/albertsun/Projects/artifacts/'\n",
    "\n",
    "#txt=\"Run on practical workloads with t=500 trials each \\nusing Private Multiplicative Weights (Hardt 2010)\"\n",
    "#plt.figtext(0.53, -0.05, txt, wrap=True, horizontalalignment='left', fontsize=15)\n",
    "\n",
    "plt.savefig(artifacts_path + \"MotivatingEmpInt_Alice.png\")"
   ]
  },
  {
   "cell_type": "markdown",
   "id": "5e7cd5b9",
   "metadata": {},
   "source": [
    "# Empirical Interference Bob with and without Alice\n",
    "April 23"
   ]
  },
  {
   "cell_type": "markdown",
   "id": "82d829d5",
   "metadata": {},
   "source": [
    "- for each analyst i, the ratio of the expected error for analyst j when all analysts are included to the case when excluding analyst i\n",
    "- ratio of:\n",
    "    - Err(Alice | Yes Bob) / Err(Alice | No Bob)\n",
    "    - Err(Bob | Yes Alice) / Err(Bob | No Alice)"
   ]
  },
  {
   "cell_type": "code",
   "execution_count": null,
   "id": "8dc3242b",
   "metadata": {},
   "outputs": [],
   "source": [
    "database = x_race[:64]\n",
    "bob = W_lst[np.random.randint(len(W_lst))]\n",
    "BwoA = pmw_naive(bob, database, ['B'] * len(bob), eps=1, T=40, to_return='error', \n",
    "                          count_threshold=0.3)['B']\n",
    "BwoA"
   ]
  },
  {
   "cell_type": "code",
   "execution_count": null,
   "id": "d12d6750",
   "metadata": {},
   "outputs": [],
   "source": [
    "motivating_exp_emp_int(df, p)"
   ]
  },
  {
   "cell_type": "code",
   "execution_count": null,
   "id": "f3915f74",
   "metadata": {},
   "outputs": [],
   "source": [
    "df_emp_int = pd.DataFrame(columns = ['p', 'BwA', 'BwoA']) #'emp_int'])\n",
    "\n",
    "for i in range(1000):\n",
    "    if i in list(range(0, 1001, 25)): \n",
    "        print(f'{i} iterations have passed')\n",
    "    for p in [i / 100 for i in range(50, 101, 5)]:\n",
    "        df_emp_int = motivating_exp_emp_int(df_emp_int, p)\n",
    "\n",
    "df_emp_int"
   ]
  },
  {
   "cell_type": "code",
   "execution_count": null,
   "id": "476bef27",
   "metadata": {},
   "outputs": [],
   "source": [
    "df_emp_int_long = pd.melt(df_emp_int, id_vars='p', value_vars=['BwA', 'BwoA'])\n",
    "sns.lineplot(data=df_emp_int_long, \n",
    "             x=\"p\", \n",
    "             y=\"value\",\n",
    "             hue=\"variable\",\n",
    "             lw=5)\n",
    "plt.savefig(artifacts_path + \"MotivatingEmpInt_BwA_BwoA.png\")"
   ]
  },
  {
   "cell_type": "code",
   "execution_count": null,
   "id": "c9b3d896",
   "metadata": {},
   "outputs": [],
   "source": [
    "sns.set(font_scale=3)\n",
    "sns.set_style(\"white\")\n",
    "\n",
    "ax = sns.lineplot(data=df_emp_int, x=\"p\", y=\"emp_int\", lw=5)\n",
    "ax.set_yticks(range(0, 11))\n",
    "#ax.set_xticks([0.5, 0.75, 1])\n",
    "ax.set_ylim([0, 10])\n",
    "#ax.set_xlim([.5, 1.1])\n",
    "\n",
    "plt.legend([],[], frameon=False)\n",
    "ax.axhline(1, lw = 5)\n",
    "\n",
    "#ax.set_title(\"Alice receives less error than Bob with higher p\", \n",
    "#            pad=15)\n",
    "#ax.set_xlabel('p')\n",
    "#ax.set_ylabel('% Answered Accurately')\n",
    "\n",
    "artifacts_path = '/Users/albertsun/Projects/artifacts/'\n",
    "\n",
    "#txt=\"Run on practical workloads with t=500 trials each \\nusing Private Multiplicative Weights (Hardt 2010)\"\n",
    "#plt.figtext(0.53, -0.05, txt, wrap=True, horizontalalignment='left', fontsize=15)\n",
    "\n",
    "plt.savefig(artifacts_path + \"MotivatingEmpInt.png\")"
   ]
  },
  {
   "cell_type": "markdown",
   "id": "9056c854",
   "metadata": {},
   "source": [
    "# Empirical Interference: Joint\n",
    "4-26"
   ]
  },
  {
   "cell_type": "code",
   "execution_count": 19,
   "id": "aa2809ee",
   "metadata": {},
   "outputs": [],
   "source": [
    "database = x_race[:64]"
   ]
  },
  {
   "cell_type": "code",
   "execution_count": 20,
   "id": "a7deea71",
   "metadata": {},
   "outputs": [
    {
     "name": "stdout",
     "output_type": "stream",
     "text": [
      "0 iterations have passed\n"
     ]
    },
    {
     "ename": "NameError",
     "evalue": "name 'motivating_exp_emp_int' is not defined",
     "output_type": "error",
     "traceback": [
      "\u001b[0;31m---------------------------------------------------------------------------\u001b[0m",
      "\u001b[0;31mNameError\u001b[0m                                 Traceback (most recent call last)",
      "\u001b[0;32m<ipython-input-20-3fe6e076bda9>\u001b[0m in \u001b[0;36m<module>\u001b[0;34m\u001b[0m\n\u001b[1;32m      5\u001b[0m         \u001b[0mprint\u001b[0m\u001b[0;34m(\u001b[0m\u001b[0;34mf'{i} iterations have passed'\u001b[0m\u001b[0;34m)\u001b[0m\u001b[0;34m\u001b[0m\u001b[0;34m\u001b[0m\u001b[0m\n\u001b[1;32m      6\u001b[0m     \u001b[0;32mfor\u001b[0m \u001b[0mp\u001b[0m \u001b[0;32min\u001b[0m \u001b[0;34m[\u001b[0m\u001b[0mi\u001b[0m \u001b[0;34m/\u001b[0m \u001b[0;36m100\u001b[0m \u001b[0;32mfor\u001b[0m \u001b[0mi\u001b[0m \u001b[0;32min\u001b[0m \u001b[0mrange\u001b[0m\u001b[0;34m(\u001b[0m\u001b[0;36m50\u001b[0m\u001b[0;34m,\u001b[0m \u001b[0;36m101\u001b[0m\u001b[0;34m,\u001b[0m \u001b[0;36m5\u001b[0m\u001b[0;34m)\u001b[0m\u001b[0;34m]\u001b[0m\u001b[0;34m:\u001b[0m\u001b[0;34m\u001b[0m\u001b[0;34m\u001b[0m\u001b[0m\n\u001b[0;32m----> 7\u001b[0;31m         \u001b[0mdf_emp_int_joint\u001b[0m \u001b[0;34m=\u001b[0m \u001b[0mmotivating_exp_emp_int\u001b[0m\u001b[0;34m(\u001b[0m\u001b[0mdf_emp_int_joint\u001b[0m\u001b[0;34m,\u001b[0m \u001b[0mp\u001b[0m\u001b[0;34m,\u001b[0m \u001b[0;34m'joint'\u001b[0m\u001b[0;34m)\u001b[0m\u001b[0;34m\u001b[0m\u001b[0;34m\u001b[0m\u001b[0m\n\u001b[0m\u001b[1;32m      8\u001b[0m \u001b[0;34m\u001b[0m\u001b[0m\n\u001b[1;32m      9\u001b[0m \u001b[0;34m\u001b[0m\u001b[0m\n",
      "\u001b[0;31mNameError\u001b[0m: name 'motivating_exp_emp_int' is not defined"
     ]
    }
   ],
   "source": [
    "df_emp_int_joint = pd.DataFrame(columns = ['p', 'AwB', 'AwoB', 'BwA', 'BwoA']) #'emp_int'])\n",
    "\n",
    "for i in range(500):\n",
    "    if i in list(range(0, 1001, 25)): \n",
    "        print(f'{i} iterations have passed')\n",
    "    for p in [i / 100 for i in range(50, 101, 5)]:\n",
    "        df_emp_int_joint = motivating_exp_emp_int(df_emp_int_joint, p, 'joint')\n",
    "        \n",
    "\n",
    "df_emp_int_joint"
   ]
  },
  {
   "cell_type": "code",
   "execution_count": null,
   "id": "8fed4e12",
   "metadata": {},
   "outputs": [],
   "source": [
    "df_emp_int_joint['A_empint'] = df_emp_int_joint['AwB'] / df_emp_int_joint['AwoB'] \n",
    "df_emp_int_joint['B_empint'] = df_emp_int_joint['BwA'] / df_emp_int_joint['BwoA'] \n",
    "df_emp_int_joint"
   ]
  },
  {
   "cell_type": "code",
   "execution_count": null,
   "id": "1bad722e",
   "metadata": {},
   "outputs": [],
   "source": [
    "import seaborn as sns\n",
    "sns.set(font_scale=2)\n",
    "sns.set_style(\"white\")\n",
    "\n",
    "df_emp_int_joint_long = pd.melt(df_emp_int_joint, id_vars='p', value_vars=['A_empint', 'B_empint'])\n",
    "#df_emp_int_joint_long\n",
    "\n",
    "ax = sns.lineplot(data=df_emp_int_joint_long, \n",
    "            x=\"p\", \n",
    "             y=\"value\",\n",
    "             hue=\"variable\",\n",
    "             lw=5)\n",
    "\n",
    "ax.set_xlim([.5, 1.1])\n",
    "ax.set_ylabel('')\n",
    "plt.legend([],[], frameon=False)\n",
    "ax.set_xticks([0.5, 0.75, 1])\n",
    "ax.axhline(1, \n",
    "           lw = 5,\n",
    "          #xmin=0,\n",
    "          #xmax=0.83,\n",
    "          color='black')\n",
    "artifacts_path = '/Users/albertsun/Projects/artifacts/'\n",
    "plt.savefig(artifacts_path + \"MotivatingEmpInt_joint_pctqueries.png\")"
   ]
  },
  {
   "cell_type": "markdown",
   "id": "9362b175",
   "metadata": {},
   "source": [
    "# Joint, Efficient Max Ratio\n",
    "May 1"
   ]
  },
  {
   "cell_type": "code",
   "execution_count": 75,
   "id": "8d6d5a16",
   "metadata": {},
   "outputs": [
    {
     "data": {
      "text/plain": [
       "array([412, 333, 285, 231, 202, 174, 160, 142, 146, 149, 145, 181, 174,\n",
       "       190, 213, 287, 372, 499, 619, 715, 785, 821, 822, 816, 799, 742,\n",
       "       717, 697, 658, 593, 564, 519, 412, 333, 285, 231, 202, 174, 160,\n",
       "       142, 146, 149, 145, 181, 174, 190, 213, 287, 372, 499, 619, 715,\n",
       "       785, 821, 822, 816, 799, 742, 717, 697, 658, 593, 564, 519])"
      ]
     },
     "execution_count": 75,
     "metadata": {},
     "output_type": "execute_result"
    }
   ],
   "source": []
  },
  {
   "cell_type": "code",
   "execution_count": 152,
   "id": "af0e983d",
   "metadata": {},
   "outputs": [],
   "source": [
    "def get_max_ratio_df(version='practical', iterations=3000, input_thresh = 0.05, mode='utility'):\n",
    "    \"\"\"\n",
    "    Run experiments using calc_max_ratio\n",
    "    \n",
    "    date: may-1\n",
    "    \"\"\"\n",
    "    BwA_lst = []\n",
    "    BwoA_lst = []\n",
    "    AwB_lst = []\n",
    "    AwoB_lst = []\n",
    "    max_ratio_p_lst = []\n",
    "    \n",
    "    def calc_max_ratio(p, thresh = input_thresh, workload='practical'):\n",
    "        \"\"\"\n",
    "        Calculate max ratio using appending to lists. \n",
    "\n",
    "        May 1\n",
    "        \"\"\"\n",
    "\n",
    "        #database = x_race[:64]\n",
    "        database = np.concatenate([x_race[:32], x_race[:32]])\n",
    "\n",
    "        if workload=='practical':\n",
    "            c = np.random.randint(len(W_lst))\n",
    "\n",
    "            alice = W_lst[c]\n",
    "            bob = W_lst[c]\n",
    "\n",
    "        elif workload=='disjoint':\n",
    "            random_array = np.random.randint(2, size=(100,32))\n",
    "            zero_array = np.zeros((100,32))\n",
    "            alice = np.hstack((random_array, zero_array))\n",
    "            bob = np.hstack((zero_array, random_array))\n",
    "\n",
    "        # skewed scheduler\n",
    "        W, analyst_labels = skewed_scheduler(alice, bob, p)\n",
    "\n",
    "        BwA = pmw_naive(W, database, analyst_labels, eps=1, T=40, to_return='pct_ans', count_threshold=thresh)['B']\n",
    "\n",
    "        AwB = pmw_naive(W, database, analyst_labels, eps=1, T=40, to_return='pct_ans', count_threshold=thresh)['A']\n",
    "\n",
    "        # bob ind\n",
    "        BwoA = pmw_naive(bob, database, ['B'] * len(bob), eps=0.5, T=40, to_return='pct_ans', count_threshold=thresh)['B']\n",
    "        \n",
    "        # alice ind\n",
    "        AwoB = pmw_naive(bob, database, ['A'] * len(alice), eps=0.5, T=40, to_return='pct_ans', count_threshold=thresh)['A']\n",
    "        if(AwoB != 0 and BwoA != 0):\n",
    "            if mode=='utility':        \n",
    "                # prevent divide by 0 error, ignore\n",
    "                max_ratio_p_lst.append(p)\n",
    "                BwA_lst.append(BwA)\n",
    "                BwoA_lst.append(BwoA)\n",
    "                AwB_lst.append(AwB)\n",
    "                AwoB_lst.append(AwoB)\n",
    "            if mode=='error':        \n",
    "                # prevent divide by 0 error, ignore\n",
    "                max_ratio_p_lst.append(p)\n",
    "                BwA_lst.append(100 - BwA)\n",
    "                BwoA_lst.append(100 - BwoA)\n",
    "                AwB_lst.append(100 - AwB)\n",
    "                AwoB_lst.append(100 - AwoB)\n",
    "\n",
    "    for i in range(iterations):\n",
    "        if i in list(range(0, 3001, 50)): \n",
    "            print(f'{i} iterations have passed')\n",
    "        for p in [i / 100 for i in range(50, 101, 10)]:\n",
    "            calc_max_ratio(p, thresh=0.03, workload=version)\n",
    "\n",
    "    df_max_ratio = pd.DataFrame(list(zip(max_ratio_p_lst, BwA_lst, BwoA_lst, AwB_lst, AwoB_lst)), \n",
    "                                             columns =['p', 'BwA', 'BwoA', 'AwB', 'AwoB'])\n",
    "    return df_max_ratio"
   ]
  },
  {
   "cell_type": "code",
   "execution_count": 104,
   "id": "5f9322c0",
   "metadata": {},
   "outputs": [
    {
     "data": {
      "text/plain": [
       "count    200.000000\n",
       "mean       0.017400\n",
       "std        0.017258\n",
       "min        0.000020\n",
       "25%        0.003430\n",
       "50%        0.012456\n",
       "75%        0.026982\n",
       "max        0.083684\n",
       "Name: abs_error, dtype: float64"
      ]
     },
     "execution_count": 104,
     "metadata": {},
     "output_type": "execute_result"
    }
   ],
   "source": [
    "# test\n",
    "\n",
    "database = x_race[:64]\n",
    "\n",
    "random_array = np.random.randint(2, size=(100,32))\n",
    "zero_array = np.zeros((100,32))\n",
    "alice = np.hstack((random_array, zero_array))\n",
    "bob = np.hstack((zero_array, random_array))\n",
    "\n",
    "W, analyst_labels = skewed_scheduler(alice, bob, 0.5)\n",
    "\n",
    "pmw_naive(W, database, analyst_labels, eps=1, T=40, to_return = 'pd', count_threshold=0.01)['abs_error'].describe()"
   ]
  },
  {
   "cell_type": "code",
   "execution_count": 23,
   "id": "661f2d37",
   "metadata": {},
   "outputs": [
    {
     "data": {
      "text/plain": [
       "64"
      ]
     },
     "execution_count": 23,
     "metadata": {},
     "output_type": "execute_result"
    }
   ],
   "source": [
    "len(database)"
   ]
  },
  {
   "cell_type": "code",
   "execution_count": 69,
   "id": "5bf7c07c",
   "metadata": {},
   "outputs": [
    {
     "data": {
      "text/plain": [
       "14162"
      ]
     },
     "execution_count": 69,
     "metadata": {},
     "output_type": "execute_result"
    }
   ],
   "source": [
    "sum(database[0:32])"
   ]
  },
  {
   "cell_type": "code",
   "execution_count": 70,
   "id": "c0a196ef",
   "metadata": {},
   "outputs": [
    {
     "data": {
      "text/plain": [
       "6340"
      ]
     },
     "execution_count": 70,
     "metadata": {},
     "output_type": "execute_result"
    }
   ],
   "source": [
    "sum(database[32:])"
   ]
  },
  {
   "cell_type": "code",
   "execution_count": null,
   "id": "651d5d27",
   "metadata": {},
   "outputs": [],
   "source": []
  },
  {
   "cell_type": "markdown",
   "id": "d260dfa9",
   "metadata": {},
   "source": [
    "Do Alice and Bob have the same max ratio error at 0.5 ? "
   ]
  },
  {
   "cell_type": "code",
   "execution_count": 25,
   "id": "dd85467f",
   "metadata": {},
   "outputs": [
    {
     "name": "stdout",
     "output_type": "stream",
     "text": [
      "0 iterations have passed\n",
      "50 iterations have passed\n",
      "100 iterations have passed\n",
      "150 iterations have passed\n",
      "200 iterations have passed\n",
      "250 iterations have passed\n",
      "300 iterations have passed\n",
      "350 iterations have passed\n",
      "400 iterations have passed\n",
      "450 iterations have passed\n",
      "500 iterations have passed\n",
      "550 iterations have passed\n",
      "600 iterations have passed\n",
      "650 iterations have passed\n",
      "700 iterations have passed\n"
     ]
    },
    {
     "ename": "KeyboardInterrupt",
     "evalue": "",
     "output_type": "error",
     "traceback": [
      "\u001b[0;31m---------------------------------------------------------------------------\u001b[0m",
      "\u001b[0;31mKeyboardInterrupt\u001b[0m                         Traceback (most recent call last)",
      "\u001b[0;32m<ipython-input-25-3595bd547174>\u001b[0m in \u001b[0;36m<module>\u001b[0;34m\u001b[0m\n\u001b[0;32m----> 1\u001b[0;31m \u001b[0mdf_max_ratio_practical\u001b[0m \u001b[0;34m=\u001b[0m \u001b[0mget_max_ratio_df\u001b[0m\u001b[0;34m(\u001b[0m\u001b[0;34m'practical'\u001b[0m\u001b[0;34m)\u001b[0m\u001b[0;34m\u001b[0m\u001b[0;34m\u001b[0m\u001b[0m\n\u001b[0m\u001b[1;32m      2\u001b[0m \u001b[0mdf_max_ratio_practical\u001b[0m\u001b[0;34m\u001b[0m\u001b[0;34m\u001b[0m\u001b[0m\n",
      "\u001b[0;32m<ipython-input-21-fff575ad7dcc>\u001b[0m in \u001b[0;36mget_max_ratio_df\u001b[0;34m(version, iterations, input_thresh)\u001b[0m\n\u001b[1;32m     58\u001b[0m             \u001b[0mprint\u001b[0m\u001b[0;34m(\u001b[0m\u001b[0;34mf'{i} iterations have passed'\u001b[0m\u001b[0;34m)\u001b[0m\u001b[0;34m\u001b[0m\u001b[0;34m\u001b[0m\u001b[0m\n\u001b[1;32m     59\u001b[0m         \u001b[0;32mfor\u001b[0m \u001b[0mp\u001b[0m \u001b[0;32min\u001b[0m \u001b[0;34m[\u001b[0m\u001b[0mi\u001b[0m \u001b[0;34m/\u001b[0m \u001b[0;36m100\u001b[0m \u001b[0;32mfor\u001b[0m \u001b[0mi\u001b[0m \u001b[0;32min\u001b[0m \u001b[0mrange\u001b[0m\u001b[0;34m(\u001b[0m\u001b[0;36m50\u001b[0m\u001b[0;34m,\u001b[0m \u001b[0;36m101\u001b[0m\u001b[0;34m,\u001b[0m \u001b[0;36m10\u001b[0m\u001b[0;34m)\u001b[0m\u001b[0;34m]\u001b[0m\u001b[0;34m:\u001b[0m\u001b[0;34m\u001b[0m\u001b[0;34m\u001b[0m\u001b[0m\n\u001b[0;32m---> 60\u001b[0;31m             \u001b[0mcalc_max_ratio\u001b[0m\u001b[0;34m(\u001b[0m\u001b[0mp\u001b[0m\u001b[0;34m,\u001b[0m \u001b[0mthresh\u001b[0m\u001b[0;34m=\u001b[0m\u001b[0;36m0.03\u001b[0m\u001b[0;34m,\u001b[0m \u001b[0mworkload\u001b[0m\u001b[0;34m=\u001b[0m\u001b[0mversion\u001b[0m\u001b[0;34m)\u001b[0m\u001b[0;34m\u001b[0m\u001b[0;34m\u001b[0m\u001b[0m\n\u001b[0m\u001b[1;32m     61\u001b[0m \u001b[0;34m\u001b[0m\u001b[0m\n\u001b[1;32m     62\u001b[0m     df_max_ratio = pd.DataFrame(list(zip(max_ratio_p_lst, BwA_lst, BwoA_lst, AwB_lst, AwoB_lst)), \n",
      "\u001b[0;32m<ipython-input-21-fff575ad7dcc>\u001b[0m in \u001b[0;36mcalc_max_ratio\u001b[0;34m(p, thresh, workload)\u001b[0m\n\u001b[1;32m     44\u001b[0m \u001b[0;34m\u001b[0m\u001b[0m\n\u001b[1;32m     45\u001b[0m         \u001b[0;31m# alice ind\u001b[0m\u001b[0;34m\u001b[0m\u001b[0;34m\u001b[0m\u001b[0;34m\u001b[0m\u001b[0m\n\u001b[0;32m---> 46\u001b[0;31m         \u001b[0mAwoB\u001b[0m \u001b[0;34m=\u001b[0m \u001b[0mpmw_naive\u001b[0m\u001b[0;34m(\u001b[0m\u001b[0mbob\u001b[0m\u001b[0;34m,\u001b[0m \u001b[0mdatabase\u001b[0m\u001b[0;34m,\u001b[0m \u001b[0;34m[\u001b[0m\u001b[0;34m'A'\u001b[0m\u001b[0;34m]\u001b[0m \u001b[0;34m*\u001b[0m \u001b[0mlen\u001b[0m\u001b[0;34m(\u001b[0m\u001b[0malice\u001b[0m\u001b[0;34m)\u001b[0m\u001b[0;34m,\u001b[0m \u001b[0meps\u001b[0m\u001b[0;34m=\u001b[0m\u001b[0;36m0.5\u001b[0m\u001b[0;34m,\u001b[0m \u001b[0mT\u001b[0m\u001b[0;34m=\u001b[0m\u001b[0;36m40\u001b[0m\u001b[0;34m,\u001b[0m \u001b[0mto_return\u001b[0m\u001b[0;34m=\u001b[0m\u001b[0;34m'pct_ans'\u001b[0m\u001b[0;34m,\u001b[0m \u001b[0mcount_threshold\u001b[0m\u001b[0;34m=\u001b[0m\u001b[0mthresh\u001b[0m\u001b[0;34m)\u001b[0m\u001b[0;34m[\u001b[0m\u001b[0;34m'A'\u001b[0m\u001b[0;34m]\u001b[0m\u001b[0;34m\u001b[0m\u001b[0;34m\u001b[0m\u001b[0m\n\u001b[0m\u001b[1;32m     47\u001b[0m \u001b[0;34m\u001b[0m\u001b[0m\n\u001b[1;32m     48\u001b[0m         \u001b[0;31m# prevent divide by 0 error, ignore\u001b[0m\u001b[0;34m\u001b[0m\u001b[0;34m\u001b[0m\u001b[0;34m\u001b[0m\u001b[0m\n",
      "\u001b[0;32m<ipython-input-3-32457063410e>\u001b[0m in \u001b[0;36mpmw_naive\u001b[0;34m(workload, x, analyst_labels, T, eps, total_k, show_messages, to_return, show_plot, show_failure_step, eta, count_threshold)\u001b[0m\n\u001b[1;32m    118\u001b[0m \u001b[0;34m\u001b[0m\u001b[0m\n\u001b[1;32m    119\u001b[0m             \u001b[0;31m# step b\u001b[0m\u001b[0;34m\u001b[0m\u001b[0;34m\u001b[0m\u001b[0;34m\u001b[0m\u001b[0m\n\u001b[0;32m--> 120\u001b[0;31m             \u001b[0mx_t\u001b[0m \u001b[0;34m=\u001b[0m \u001b[0my_t\u001b[0m \u001b[0;34m/\u001b[0m \u001b[0mnp\u001b[0m\u001b[0;34m.\u001b[0m\u001b[0msum\u001b[0m\u001b[0;34m(\u001b[0m\u001b[0my_t\u001b[0m\u001b[0;34m)\u001b[0m\u001b[0;34m\u001b[0m\u001b[0;34m\u001b[0m\u001b[0m\n\u001b[0m\u001b[1;32m    121\u001b[0m             \u001b[0mupdate_count\u001b[0m \u001b[0;34m=\u001b[0m \u001b[0mupdate_list\u001b[0m\u001b[0;34m.\u001b[0m\u001b[0mcount\u001b[0m\u001b[0;34m(\u001b[0m\u001b[0;34m'yes'\u001b[0m\u001b[0;34m)\u001b[0m\u001b[0;34m\u001b[0m\u001b[0;34m\u001b[0m\u001b[0m\n\u001b[1;32m    122\u001b[0m \u001b[0;34m\u001b[0m\u001b[0m\n",
      "\u001b[0;32m<__array_function__ internals>\u001b[0m in \u001b[0;36msum\u001b[0;34m(*args, **kwargs)\u001b[0m\n",
      "\u001b[0;32m~/opt/anaconda3/lib/python3.8/site-packages/numpy/core/fromnumeric.py\u001b[0m in \u001b[0;36msum\u001b[0;34m(a, axis, dtype, out, keepdims, initial, where)\u001b[0m\n\u001b[1;32m   2245\u001b[0m         \u001b[0;32mreturn\u001b[0m \u001b[0mres\u001b[0m\u001b[0;34m\u001b[0m\u001b[0;34m\u001b[0m\u001b[0m\n\u001b[1;32m   2246\u001b[0m \u001b[0;34m\u001b[0m\u001b[0m\n\u001b[0;32m-> 2247\u001b[0;31m     return _wrapreduction(a, np.add, 'sum', axis, dtype, out, keepdims=keepdims,\n\u001b[0m\u001b[1;32m   2248\u001b[0m                           initial=initial, where=where)\n\u001b[1;32m   2249\u001b[0m \u001b[0;34m\u001b[0m\u001b[0m\n",
      "\u001b[0;32m~/opt/anaconda3/lib/python3.8/site-packages/numpy/core/fromnumeric.py\u001b[0m in \u001b[0;36m_wrapreduction\u001b[0;34m(obj, ufunc, method, axis, dtype, out, **kwargs)\u001b[0m\n\u001b[1;32m     85\u001b[0m                 \u001b[0;32mreturn\u001b[0m \u001b[0mreduction\u001b[0m\u001b[0;34m(\u001b[0m\u001b[0maxis\u001b[0m\u001b[0;34m=\u001b[0m\u001b[0maxis\u001b[0m\u001b[0;34m,\u001b[0m \u001b[0mout\u001b[0m\u001b[0;34m=\u001b[0m\u001b[0mout\u001b[0m\u001b[0;34m,\u001b[0m \u001b[0;34m**\u001b[0m\u001b[0mpasskwargs\u001b[0m\u001b[0;34m)\u001b[0m\u001b[0;34m\u001b[0m\u001b[0;34m\u001b[0m\u001b[0m\n\u001b[1;32m     86\u001b[0m \u001b[0;34m\u001b[0m\u001b[0m\n\u001b[0;32m---> 87\u001b[0;31m     \u001b[0;32mreturn\u001b[0m \u001b[0mufunc\u001b[0m\u001b[0;34m.\u001b[0m\u001b[0mreduce\u001b[0m\u001b[0;34m(\u001b[0m\u001b[0mobj\u001b[0m\u001b[0;34m,\u001b[0m \u001b[0maxis\u001b[0m\u001b[0;34m,\u001b[0m \u001b[0mdtype\u001b[0m\u001b[0;34m,\u001b[0m \u001b[0mout\u001b[0m\u001b[0;34m,\u001b[0m \u001b[0;34m**\u001b[0m\u001b[0mpasskwargs\u001b[0m\u001b[0;34m)\u001b[0m\u001b[0;34m\u001b[0m\u001b[0;34m\u001b[0m\u001b[0m\n\u001b[0m\u001b[1;32m     88\u001b[0m \u001b[0;34m\u001b[0m\u001b[0m\n\u001b[1;32m     89\u001b[0m \u001b[0;34m\u001b[0m\u001b[0m\n",
      "\u001b[0;31mKeyboardInterrupt\u001b[0m: "
     ]
    }
   ],
   "source": [
    "df_max_ratio_practical = get_max_ratio_df('practical')\n",
    "df_max_ratio_practical"
   ]
  },
  {
   "cell_type": "code",
   "execution_count": 152,
   "id": "fee6d050",
   "metadata": {},
   "outputs": [
    {
     "data": {
      "image/png": "[encoded data removed]",
      "text/plain": [
       "<Figure size 576x432 with 1 Axes>"
      ]
     },
     "metadata": {},
     "output_type": "display_data"
    }
   ],
   "source": [
    "df_max_ratio_long_B = pd.melt(df_max_ratio_practical, id_vars='p', value_vars=['BwA', 'BwoA'])\n",
    "sns.lineplot(data=df_max_ratio_long_B, \n",
    "             x=\"p\", \n",
    "             y=\"value\",\n",
    "             hue=\"variable\",\n",
    "             lw=5)\n",
    "plt.savefig(artifacts_path + \"max_ratio_error_B.pdf\")"
   ]
  },
  {
   "cell_type": "code",
   "execution_count": 153,
   "id": "145f2945",
   "metadata": {},
   "outputs": [
    {
     "data": {
      "image/png": "[encoded data removed]",
      "text/plain": [
       "<Figure size 576x432 with 1 Axes>"
      ]
     },
     "metadata": {},
     "output_type": "display_data"
    }
   ],
   "source": [
    "df_max_ratio_long_A = pd.melt(df_max_ratio_practical, id_vars='p', value_vars=['AwB', 'AwoB'])\n",
    "sns.lineplot(data=df_max_ratio_long_A, \n",
    "             x=\"p\", \n",
    "             y=\"value\",\n",
    "             hue=\"variable\",\n",
    "             lw=5)\n",
    "plt.savefig(artifacts_path + \"max_ratio_error_A.pdf\")"
   ]
  },
  {
   "cell_type": "markdown",
   "id": "042c21f1",
   "metadata": {},
   "source": [
    "# Disjoint Max Ratio Error\n",
    "May 1, 2022"
   ]
  },
  {
   "cell_type": "code",
   "execution_count": 194,
   "id": "98658ce7",
   "metadata": {},
   "outputs": [
    {
     "name": "stdout",
     "output_type": "stream",
     "text": [
      "0 iterations have passed\n",
      "50 iterations have passed\n",
      "100 iterations have passed\n",
      "150 iterations have passed\n",
      "200 iterations have passed\n",
      "250 iterations have passed\n",
      "300 iterations have passed\n",
      "350 iterations have passed\n",
      "400 iterations have passed\n",
      "450 iterations have passed\n",
      "500 iterations have passed\n",
      "550 iterations have passed\n",
      "600 iterations have passed\n",
      "650 iterations have passed\n",
      "700 iterations have passed\n",
      "750 iterations have passed\n",
      "800 iterations have passed\n",
      "850 iterations have passed\n",
      "900 iterations have passed\n",
      "950 iterations have passed\n"
     ]
    }
   ],
   "source": [
    "df_max_ratio_disjoint = get_max_ratio_df(version='disjoint', \n",
    "                                         iterations=1000, \n",
    "                                         input_thresh = 0.3, \n",
    "                                         mode='error')"
   ]
  },
  {
   "cell_type": "markdown",
   "id": "6edb994b",
   "metadata": {},
   "source": [
    "### MRE"
   ]
  },
  {
   "cell_type": "code",
   "execution_count": 204,
   "id": "6caca098",
   "metadata": {},
   "outputs": [
    {
     "data": {
      "text/html": [
       "<div>\n",
       "<style scoped>\n",
       "    .dataframe tbody tr th:only-of-type {\n",
       "        vertical-align: middle;\n",
       "    }\n",
       "\n",
       "    .dataframe tbody tr th {\n",
       "        vertical-align: top;\n",
       "    }\n",
       "\n",
       "    .dataframe thead th {\n",
       "        text-align: right;\n",
       "    }\n",
       "</style>\n",
       "<table border=\"1\" class=\"dataframe\">\n",
       "  <thead>\n",
       "    <tr style=\"text-align: right;\">\n",
       "      <th></th>\n",
       "      <th>p</th>\n",
       "      <th>variable</th>\n",
       "      <th>value</th>\n",
       "    </tr>\n",
       "  </thead>\n",
       "  <tbody>\n",
       "    <tr>\n",
       "      <th>0</th>\n",
       "      <td>0.5</td>\n",
       "      <td>A_MRE</td>\n",
       "      <td>1.600000</td>\n",
       "    </tr>\n",
       "    <tr>\n",
       "      <th>1</th>\n",
       "      <td>0.6</td>\n",
       "      <td>A_MRE</td>\n",
       "      <td>0.250000</td>\n",
       "    </tr>\n",
       "    <tr>\n",
       "      <th>2</th>\n",
       "      <td>0.7</td>\n",
       "      <td>A_MRE</td>\n",
       "      <td>1.000000</td>\n",
       "    </tr>\n",
       "    <tr>\n",
       "      <th>3</th>\n",
       "      <td>0.8</td>\n",
       "      <td>A_MRE</td>\n",
       "      <td>0.250000</td>\n",
       "    </tr>\n",
       "    <tr>\n",
       "      <th>4</th>\n",
       "      <td>0.9</td>\n",
       "      <td>A_MRE</td>\n",
       "      <td>0.300000</td>\n",
       "    </tr>\n",
       "    <tr>\n",
       "      <th>...</th>\n",
       "      <td>...</td>\n",
       "      <td>...</td>\n",
       "      <td>...</td>\n",
       "    </tr>\n",
       "    <tr>\n",
       "      <th>11569</th>\n",
       "      <td>0.6</td>\n",
       "      <td>B_MRE</td>\n",
       "      <td>0.500000</td>\n",
       "    </tr>\n",
       "    <tr>\n",
       "      <th>11570</th>\n",
       "      <td>0.7</td>\n",
       "      <td>B_MRE</td>\n",
       "      <td>0.700000</td>\n",
       "    </tr>\n",
       "    <tr>\n",
       "      <th>11571</th>\n",
       "      <td>0.8</td>\n",
       "      <td>B_MRE</td>\n",
       "      <td>3.200000</td>\n",
       "    </tr>\n",
       "    <tr>\n",
       "      <th>11572</th>\n",
       "      <td>0.9</td>\n",
       "      <td>B_MRE</td>\n",
       "      <td>0.628571</td>\n",
       "    </tr>\n",
       "    <tr>\n",
       "      <th>11573</th>\n",
       "      <td>1.0</td>\n",
       "      <td>B_MRE</td>\n",
       "      <td>1.000000</td>\n",
       "    </tr>\n",
       "  </tbody>\n",
       "</table>\n",
       "<p>11574 rows × 3 columns</p>\n",
       "</div>"
      ],
      "text/plain": [
       "         p variable     value\n",
       "0      0.5    A_MRE  1.600000\n",
       "1      0.6    A_MRE  0.250000\n",
       "2      0.7    A_MRE  1.000000\n",
       "3      0.8    A_MRE  0.250000\n",
       "4      0.9    A_MRE  0.300000\n",
       "...    ...      ...       ...\n",
       "11569  0.6    B_MRE  0.500000\n",
       "11570  0.7    B_MRE  0.700000\n",
       "11571  0.8    B_MRE  3.200000\n",
       "11572  0.9    B_MRE  0.628571\n",
       "11573  1.0    B_MRE  1.000000\n",
       "\n",
       "[11574 rows x 3 columns]"
      ]
     },
     "execution_count": 204,
     "metadata": {},
     "output_type": "execute_result"
    }
   ],
   "source": [
    "import seaborn as sns\n",
    "sns.set(font_scale=2)\n",
    "sns.set_style(\"white\")\n",
    "\n",
    "# remove zeros\n",
    "df_max_ratio_disjoint = df_max_ratio_disjoint[(df_max_ratio_disjoint != 0).all(1)]\n",
    "\n",
    "df_max_ratio_disjoint['A_MRE'] = df_max_ratio_disjoint['AwB'] / df_max_ratio_disjoint['AwoB'] / 5\n",
    "df_max_ratio_disjoint['B_MRE'] = df_max_ratio_disjoint['BwA'] / df_max_ratio_disjoint['BwoA'] / 5\n",
    "\n",
    "df_MRE = pd.melt(df_max_ratio_disjoint, id_vars='p', \n",
    "                 value_vars=['A_MRE','B_MRE'])\n",
    "\n",
    "df_MRE"
   ]
  },
  {
   "cell_type": "code",
   "execution_count": 205,
   "id": "68199d70",
   "metadata": {},
   "outputs": [
    {
     "data": {
      "image/png": "[encoded data removed]",
      "text/plain": [
       "<Figure size 432x288 with 1 Axes>"
      ]
     },
     "metadata": {},
     "output_type": "display_data"
    }
   ],
   "source": [
    "ax = sns.lineplot(data=df_MRE, \n",
    "             x=\"p\", \n",
    "             y=\"value\",\n",
    "             hue=\"variable\",\n",
    "             lw=5)\n",
    "\n",
    "#plt.legend([],[], frameon=False)\n",
    "ax.axhline(1, lw = 5, ls='--', color='black')\n",
    "\n",
    "ax.set_xlabel('')\n",
    "ax.set_ylabel('')\n",
    "sns.despine()\n",
    "\n",
    "ax.set_xticks([0.5, 0.75, 1])\n",
    "#ax.set_ylim([.65, 1])\n",
    "ax.set_xlim([.5, 1.1])\n",
    "#ax.set_yticks([1, 2, 3, 4, 5, 6, 7])\n",
    "\n",
    "artifacts_path = '/Users/albertsun/Projects/artifacts/'\n",
    "\n",
    "#txt=\"Run on practical workloads with t=500 trials each \\nusing Private Multiplicative Weights (Hardt 2010)\"\n",
    "#plt.figtext(0.53, -0.05, txt, wrap=True, horizontalalignment='left', fontsize=15)\n",
    "\n",
    "plt.savefig(artifacts_path + \"MotivatingMRE_05.pdf\", bbox_inches='tight')"
   ]
  },
  {
   "cell_type": "markdown",
   "id": "eb665c07",
   "metadata": {},
   "source": [
    "### Individual Error"
   ]
  },
  {
   "cell_type": "code",
   "execution_count": 168,
   "id": "fe48e247",
   "metadata": {},
   "outputs": [
    {
     "data": {
      "image/png": "[encoded data removed]",
      "text/plain": [
       "<Figure size 576x432 with 1 Axes>"
      ]
     },
     "metadata": {},
     "output_type": "display_data"
    }
   ],
   "source": [
    "df_max_ratio_long_B_d = pd.melt(df_max_ratio_disjoint, id_vars='p', value_vars=['BwA', 'BwoA'])\n",
    "sns.lineplot(data=df_max_ratio_long_B_d, \n",
    "             x=\"p\", \n",
    "             y=\"value\",\n",
    "             hue=\"variable\",\n",
    "             lw=5)\n",
    "plt.savefig(artifacts_path + \"max_ratio_error_B.pdf\")"
   ]
  },
  {
   "cell_type": "code",
   "execution_count": 169,
   "id": "af3161e3",
   "metadata": {},
   "outputs": [
    {
     "data": {
      "image/png": "[encoded data removed]",
      "text/plain": [
       "<Figure size 576x432 with 1 Axes>"
      ]
     },
     "metadata": {},
     "output_type": "display_data"
    }
   ],
   "source": [
    "df_max_ratio_long_A_d = pd.melt(df_max_ratio_disjoint, id_vars='p', value_vars=['AwB', 'AwoB'])\n",
    "sns.lineplot(data=df_max_ratio_long_A_d, \n",
    "             x=\"p\", \n",
    "             y=\"value\",\n",
    "             hue=\"variable\",\n",
    "             lw=5)\n",
    "plt.savefig(artifacts_path + \"max_ratio_error_A.pdf\")"
   ]
  },
  {
   "cell_type": "markdown",
   "id": "f95fc0d3",
   "metadata": {},
   "source": [
    "# Old Stuff"
   ]
  },
  {
   "cell_type": "code",
   "execution_count": null,
   "id": "ea514775",
   "metadata": {},
   "outputs": [],
   "source": []
  },
  {
   "cell_type": "code",
   "execution_count": null,
   "id": "3afc97ed",
   "metadata": {},
   "outputs": [],
   "source": []
  },
  {
   "cell_type": "code",
   "execution_count": null,
   "id": "b2b819d0",
   "metadata": {},
   "outputs": [],
   "source": []
  },
  {
   "cell_type": "code",
   "execution_count": null,
   "id": "ed3e6053",
   "metadata": {},
   "outputs": [],
   "source": [
    "means = {}\n",
    "for p in [0.5, 0.55, 0.6, 0.65, 0.7, 0.75, 0.8, 0.85, 0.9, 0.95, 1]:\n",
    "    print(f'calc means for {p}')\n",
    "    \n",
    "    list_diffs = motivating_exp(p, 100)\n",
    "    means[p] = sum(list_diffs) / len(list_diffs)"
   ]
  },
  {
   "cell_type": "code",
   "execution_count": null,
   "id": "1239cd7a",
   "metadata": {},
   "outputs": [],
   "source": []
  },
  {
   "cell_type": "code",
   "execution_count": null,
   "id": "c489f364",
   "metadata": {},
   "outputs": [],
   "source": [
    "df_means = pd.DataFrame.from_dict(means, \n",
    "                      orient='index')\n",
    "df_means = df_means.reset_index()\n",
    "df_means = df_means.rename(columns={0:'Practical'})"
   ]
  },
  {
   "cell_type": "code",
   "execution_count": null,
   "id": "909d03fd",
   "metadata": {},
   "outputs": [],
   "source": [
    "import seaborn as sns\n",
    "from matplotlib import rcParams\n",
    "import matplotlib as mpl\n",
    "\n",
    "# size\n",
    "rcParams['figure.figsize'] = 12, 8\n",
    "\n",
    "\n",
    "# figure size in inches\n",
    "#sns.set_context(\"journal\")\n",
    "#sns.set_context(\"notebook\")\n",
    "\n",
    "# font size\n",
    "sns.set(font_scale = 2)\n",
    "\n",
    "#theme\n",
    "sns.set_style(\"ticks\")\n",
    "\n",
    "#sns.set_theme()\n",
    "\n",
    "# plot and labels\n",
    "ax = sns.lineplot(data=df_means, x=\"index\", y=\"Practical\")\n",
    "ax.set_ylim([-1, 1])\n",
    "ax.set_title(\"Alice receives greater accuracy compared to Bob\\nthe earlier her queries are answered\", \n",
    "            pad=15)\n",
    "ax.set_xlabel('P(Alice asks a query)')\n",
    "ax.set_ylabel('TotalErr(Bob) - TotalErr(Alice)')\n",
    "\n",
    "# alice and bob annottaions\n",
    "ticklabelpad = mpl.rcParams['xtick.major.pad']\n",
    "ax.annotate('Alice', xy=(-0.15,1.1), xytext=(5, -ticklabelpad), ha='left', va='top',\n",
    "            xycoords='axes fraction', textcoords='offset points')\n",
    "ax.annotate('Bob', xy=(-0.15,-0.05), xytext=(5, -ticklabelpad), ha='left', va='top',\n",
    "            xycoords='axes fraction', textcoords='offset points')\n",
    "\n",
    "artifacts_path = '/Users/albertsun/Projects/artifacts/'\n",
    "\n",
    "txt=\"Run on practical workloads with t=500 trials each \\nusing Private Multiplicative Weights (Hardt 2010)\"\n",
    "plt.figtext(0.53, -0.05, txt, wrap=True, horizontalalignment='left', fontsize=15)\n",
    "\n",
    "plt.savefig(artifacts_path + \"MotivatingExp.png\")\n",
    "\n"
   ]
  },
  {
   "cell_type": "code",
   "execution_count": null,
   "id": "282f4649",
   "metadata": {},
   "outputs": [],
   "source": [
    "random_array = np.random.randint(2, size=(100,32))\n",
    "zero_array = np.zeros((100,32))\n",
    "disjoint_alice_q = np.hstack((random_array, zero_array))\n",
    "disjoint_bob_q = np.hstack((zero_array, random_array))\n",
    "\n",
    "disjoint_alice_q"
   ]
  },
  {
   "cell_type": "code",
   "execution_count": null,
   "id": "600f2d43",
   "metadata": {},
   "outputs": [],
   "source": [
    "def disjoint_motivating_exp(p, t):\n",
    "    diff_lst=[]\n",
    "    database = x_race[:64]\n",
    "    for i in range(t):\n",
    "        # generate disjoint workloads\n",
    "        random_array = np.random.randint(2, size=(100,32))\n",
    "        zero_array = np.zeros((100,32))\n",
    "        disjoint_alice = np.hstack((random_array, zero_array))\n",
    "        disjoint_bob = np.hstack((zero_array, random_array))\n",
    "        \n",
    "        # Shuffle and generate workload/analyst labels using Skewed Scheduler()\n",
    "        W, analyst_labels = skewed_scheduler(disjoint_alice, disjoint_bob, p)\n",
    "            \n",
    "        # PMW calculate error\n",
    "        error_dict = pmw_naive(W, database, analyst_labels, eps=1, T=40, to_return='error')\n",
    "\n",
    "        # subtract errors to get difference\n",
    "        diff =  error_dict['B'] - error_dict['A']\n",
    "        # append difference to list for this specific p\n",
    "        diff_lst.append(diff)\n",
    "\n",
    "    return diff_lst"
   ]
  },
  {
   "cell_type": "code",
   "execution_count": null,
   "id": "9227f62d",
   "metadata": {},
   "outputs": [],
   "source": [
    "random_array = np.random.randint(2, size=(100,32))\n",
    "zero_array = np.zeros((100,32))\n",
    "disjoint_alice = np.hstack((random_array, zero_array))\n",
    "disjoint_bob = np.hstack((zero_array, random_array))\n",
    "\n",
    "W, analyst_labels = skewed_scheduler(disjoint_alice, disjoint_bob, p)\n",
    "\n"
   ]
  },
  {
   "cell_type": "code",
   "execution_count": null,
   "id": "b85546fb",
   "metadata": {},
   "outputs": [],
   "source": [
    "disjoint_means = {}\n",
    "for p in [0.5, 0.55, 0.6, 0.65, 0.7, 0.75, 0.8, 0.85, 0.9, 0.95, 1]:\n",
    "    print(f'calc means for {p}')\n",
    "    list_diffs = disjoint_motivating_exp(p, 100)\n",
    "    disjoint_means[p] = sum(list_diffs) / len(list_diffs)"
   ]
  },
  {
   "cell_type": "code",
   "execution_count": null,
   "id": "8c3c0198",
   "metadata": {},
   "outputs": [],
   "source": [
    "df_disjoint_means = pd.DataFrame.from_dict(disjoint_means, \n",
    "                      orient='index')\n",
    "df_disjoint_means = df_disjoint_means.reset_index()\n",
    "df_disjoint_means = df_disjoint_means.rename(columns={0: 'Disjoint'})\n",
    "\n",
    "df_disjoint_means"
   ]
  },
  {
   "cell_type": "code",
   "execution_count": null,
   "id": "7f1a9fe7",
   "metadata": {},
   "outputs": [],
   "source": [
    "merged = pd.merge(df_means, df_disjoint_means, on='index')\n",
    "merged = merged.rename(columns={'index':'p'}).set_index('p')\n",
    "merged"
   ]
  },
  {
   "cell_type": "code",
   "execution_count": null,
   "id": "d9b85f24",
   "metadata": {},
   "outputs": [],
   "source": [
    "disjoint_alice_q"
   ]
  },
  {
   "cell_type": "code",
   "execution_count": null,
   "id": "4edbc239",
   "metadata": {},
   "outputs": [],
   "source": [
    "disjoint_bob_q"
   ]
  },
  {
   "cell_type": "code",
   "execution_count": null,
   "id": "0f7a49e6",
   "metadata": {},
   "outputs": [],
   "source": [
    "# plot and labels\n",
    "ax = sns.lineplot(data=merged)\n",
    "ax.set_ylim([-1.5, 1.5])\n",
    "ax.set_title(\"Alice receives less error the earlier her queries are answered\", \n",
    "            pad=15)\n",
    "ax.set_xlabel('P(Alice asks a query)')\n",
    "ax.set_ylabel('Err(Bob) - Err(Alice)')\n",
    "\n",
    "# alice and bob annottaions\n",
    "ticklabelpad = mpl.rcParams['xtick.major.pad']\n",
    "ax.annotate('Alice', xy=(-0.15,1.1), xytext=(5, -ticklabelpad), ha='left', va='top',\n",
    "            xycoords='axes fraction', textcoords='offset points')\n",
    "ax.annotate('Bob', xy=(-0.15,-0.05), xytext=(5, -ticklabelpad), ha='left', va='top',\n",
    "            xycoords='axes fraction', textcoords='offset points')\n",
    "\n",
    "artifacts_path = '/Users/albertsun/Projects/artifacts/'\n",
    "\n",
    "txt=\"Run on practical workloads with t=500 trials each \\nusing Private Multiplicative Weights (Hardt 2010)\"\n",
    "plt.figtext(0.53, -0.05, txt, wrap=True, horizontalalignment='left', fontsize=15)\n",
    "\n",
    "plt.savefig(artifacts_path + \"BothMotivatingExp.png\")\n",
    "\n"
   ]
  },
  {
   "cell_type": "code",
   "execution_count": null,
   "id": "c890d8e2",
   "metadata": {},
   "outputs": [],
   "source": []
  },
  {
   "cell_type": "code",
   "execution_count": null,
   "id": "593374ad",
   "metadata": {},
   "outputs": [],
   "source": []
  },
  {
   "cell_type": "code",
   "execution_count": null,
   "id": "46385104",
   "metadata": {},
   "outputs": [],
   "source": [
    "means_dic={}"
   ]
  },
  {
   "cell_type": "code",
   "execution_count": null,
   "id": "c3d4c4c9",
   "metadata": {},
   "outputs": [],
   "source": [
    "diff_pointfive = motivating_exp(0.5, t=100)"
   ]
  },
  {
   "cell_type": "code",
   "execution_count": null,
   "id": "4b74c9c4",
   "metadata": {},
   "outputs": [],
   "source": [
    "plt.hist(diff_pointfive)\n",
    "plt.title(\"Err(Bob) - Err(Alice) when p = 0.5\")\n",
    "plt.show()\n",
    "print(f'Mean = {sum(diff_pointfive) / len(diff_pointfive)}')"
   ]
  },
  {
   "cell_type": "code",
   "execution_count": null,
   "id": "f161efe2",
   "metadata": {},
   "outputs": [],
   "source": [
    "diff_pointsevenfive = motivating_exp(0.75, t=100)"
   ]
  },
  {
   "cell_type": "code",
   "execution_count": null,
   "id": "6be36421",
   "metadata": {},
   "outputs": [],
   "source": [
    "plt.hist(diff_pointsevenfive)\n",
    "plt.title(\"Err(Bob) - Err(Alice) when p = 0.75\")\n",
    "plt.show()\n",
    "print(f'Mean = {sum(diff_pointsevenfive) / len(diff_pointsevenfive)}')"
   ]
  },
  {
   "cell_type": "code",
   "execution_count": null,
   "id": "0d2d3901",
   "metadata": {},
   "outputs": [],
   "source": [
    "diff_one = motivating_exp(1, t=100)"
   ]
  },
  {
   "cell_type": "code",
   "execution_count": null,
   "id": "d1eedecd",
   "metadata": {},
   "outputs": [],
   "source": [
    "plt.hist(diff_one)\n",
    "plt.title(\"Err(Bob) - Err(Alice) when when p = 1\")\n",
    "plt.show()\n",
    "print(f'Mean = {sum(diff_one) / len(diff_one)}')"
   ]
  },
  {
   "cell_type": "markdown",
   "id": "f1744643",
   "metadata": {},
   "source": [
    "As p increases, Alice gets to answer more of her queries earlier, resulting in her having less and less error compared to Bob. \n",
    "\n",
    "As you can see, \n",
    "\n",
    "- in the p=0.5 setting, Bob has 0.016169999999999983 more error than Alice.\n",
    "- in the p=0.75 setting, Bob has 0.3576099999999998 more error than Alice. \n",
    "- in the p=1 setting, Bob has 0.43591 more error than Alice. "
   ]
  },
  {
   "cell_type": "code",
   "execution_count": null,
   "id": "0f39cebc",
   "metadata": {},
   "outputs": [],
   "source": []
  },
  {
   "cell_type": "code",
   "execution_count": null,
   "id": "c849bfa5",
   "metadata": {},
   "outputs": [],
   "source": []
  },
  {
   "cell_type": "code",
   "execution_count": null,
   "id": "a2a9114e",
   "metadata": {},
   "outputs": [],
   "source": []
  },
  {
   "cell_type": "code",
   "execution_count": null,
   "id": "91f4d7a6",
   "metadata": {},
   "outputs": [],
   "source": []
  },
  {
   "cell_type": "code",
   "execution_count": null,
   "id": "428abe3b",
   "metadata": {},
   "outputs": [],
   "source": []
  },
  {
   "cell_type": "code",
   "execution_count": null,
   "id": "b9804697",
   "metadata": {},
   "outputs": [],
   "source": []
  },
  {
   "cell_type": "code",
   "execution_count": null,
   "id": "a4300cc8",
   "metadata": {},
   "outputs": [],
   "source": []
  },
  {
   "cell_type": "code",
   "execution_count": null,
   "id": "cacad98f",
   "metadata": {},
   "outputs": [],
   "source": []
  },
  {
   "cell_type": "code",
   "execution_count": null,
   "id": "c87d77db",
   "metadata": {},
   "outputs": [],
   "source": []
  },
  {
   "cell_type": "code",
   "execution_count": null,
   "id": "fbb7147a",
   "metadata": {},
   "outputs": [],
   "source": []
  },
  {
   "cell_type": "code",
   "execution_count": null,
   "id": "8c921005",
   "metadata": {},
   "outputs": [],
   "source": []
  },
  {
   "cell_type": "code",
   "execution_count": null,
   "id": "71d175c3",
   "metadata": {},
   "outputs": [],
   "source": []
  },
  {
   "cell_type": "markdown",
   "id": "5d39b194",
   "metadata": {},
   "source": [
    "# Workload Constructor (WIP)"
   ]
  },
  {
   "cell_type": "code",
   "execution_count": null,
   "id": "f35c4251",
   "metadata": {},
   "outputs": [],
   "source": [
    "# WIP: 4-12-2022\n",
    "\n",
    "import string\n",
    "alphabet = list(string.ascii_lowercase)\n",
    "alphabet\n",
    "\n",
    "W_lst = [online_workloads.identity(n), online_workloads.total(n), online_workloads.race1(), online_workloads.race2(), online_workloads.race3(), online_workloads.custom(n), online_workloads.prefix_sum(n)]\n",
    "\n",
    "\n",
    "W_lst = [online_workloads.identity(n)]\n",
    "W_name = ['identity']\n",
    "\n",
    "def workload_selection(W_lst, W_name, k, analyst_names=None):\n",
    "    \"\"\"\n",
    "    Create a workload\n",
    "    \n",
    "    W_lst = Workload list\n",
    "    W_name = Workload name\n",
    "    k = number of analysts\n",
    "    analyst_names = Analyst names, default = lowercase alphabet letters (i.e. analysts 'a', 'b', etc.)\n",
    "    \"\"\"\n",
    "    \n",
    "    if analyst_names == None:\n",
    "        #if analyst_names: \n",
    "        #    raise TypeError(\"a and b dimensions don't match\")\n",
    "        #else: \n",
    "        analyst_names = alphabet[:k]\n",
    "    \n",
    "    Wn = []\n",
    "    analyst_labels = []\n",
    "    \n",
    "    c = np.random.randint(len(W_lst))\n",
    "    Ws = W_lst[c]\n",
    "    Wn.append(W_name[c])\n",
    "    \n",
    "    #for i in range(len(analyst_names) - 1):\n",
    "    #    c = np.random.randint(len(W_lst))\n",
    "    #    Ws = Ws.vstack(Ws, W_lst[c])\n",
    "    #    Wn.append(W_name[c])\n",
    "    return Ws, Wn, analyst_labels\n",
    "\n",
    "workload_selection(W_lst, W_name, 2)\n",
    "\n",
    "\n",
    "# other WIP attemps: \n",
    "\n",
    "\n",
    "n=64\n",
    "W_name = ['identity', 'total', 'H2', 'race1', 'race2', 'race3', 'custom', 'prefix_sum']\n",
    "W_lst = [online_workloads.identity(n), online_workloads.total(n), online_workloads.H2(n), online_workloads.race1(), online_workloads.race2(), online_workloads.race3(), online_workloads.custom(n), online_workloads.prefix_sum(n)]\n",
    "\n",
    "c = np.random.randint(len(W_lst))\n",
    "final_W = W_lst[c] \n",
    "\n",
    "t = 10\n",
    "for i in range(t): \n",
    "    c = np.random.randint(len(W_lst))\n",
    "    print(c)\n",
    "    final_W = np.vstack((final_W, W_lst[c]))\n",
    "    \n",
    "print(len(final_W))\n",
    "\n",
    "final_W\n",
    "\n"
   ]
  },
  {
   "cell_type": "code",
   "execution_count": null,
   "id": "4612db3a",
   "metadata": {},
   "outputs": [],
   "source": [
    "# initialize databases\n",
    "\n",
    "import pandas as pd\n",
    "data_path = \"migration_tworace.csv\"\n",
    "#x_race = pd.read_csv(data_path, header=None).iloc[:, 1].to_numpy()\n",
    "n = x_race.shape[0]\n",
    "x_race\n",
    "\n",
    "x_example = np.array([1000, 2000, 3000, 4000, 5000])\n",
    "new_x = np.array([.1, .15, .2, .25, .3]) * 1500"
   ]
  },
  {
   "cell_type": "code",
   "execution_count": null,
   "id": "cf07287b",
   "metadata": {},
   "outputs": [],
   "source": [
    "x_race_first_ten = x_race[:10]\n",
    "\n",
    "# try identity on the race database\n",
    "data = pmw_naive(hundred_identity_q, x_race_first_ten, ['A'] * 1000, eps=10, T=40, total_k = 100, \n",
    "          show_messages=True, to_return = 'pd')#to_return='tse')\n",
    "data\n",
    "data['abs_error'].sum() / len(data)"
   ]
  }
 ],
 "metadata": {
  "kernelspec": {
   "display_name": "Python 3",
   "language": "python",
   "name": "python3"
  },
  "language_info": {
   "codemirror_mode": {
    "name": "ipython",
    "version": 3
   },
   "file_extension": ".py",
   "mimetype": "text/x-python",
   "name": "python",
   "nbconvert_exporter": "python",
   "pygments_lexer": "ipython3",
   "version": "3.8.8"
  }
 },
 "nbformat": 4,
 "nbformat_minor": 5
}
