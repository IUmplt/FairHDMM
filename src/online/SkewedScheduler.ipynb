{
 "cells": [
  {
   "cell_type": "code",
   "execution_count": 1,
   "id": "55ffcde4",
   "metadata": {},
   "outputs": [],
   "source": [
    "import numpy as np\n",
    "import pandas as pd\n",
    "import math\n",
    "\n",
    "from typing import Tuple\n",
    "import src.hdmm.workload as workload\n",
    "import src.census_workloads as census\n",
    "from src.workload_selection import workload_selection\n",
    "import online_workloads as online_workloads"
   ]
  },
  {
   "cell_type": "code",
   "execution_count": 2,
   "id": "6a6e3142",
   "metadata": {},
   "outputs": [],
   "source": [
    "def pmw_naive(workload, x, analyst_labels, T, eps=0.01, total_k=None, \n",
    "         show_messages=False, to_return='error', show_plot=False, show_failure_step=False, eta = None):\n",
    "    \"\"\"\n",
    "    Implement Private Multiplicative Weights Mechanism (PMW) on a workload of\n",
    "    linear queries where analysts can run out of privacy budget if they use too much of others'. \n",
    "    \n",
    "    In other words, all analysts share from the same privacy budget. \n",
    "    \n",
    "    Last Updated: 4-10-2022\n",
    "\n",
    "    Algorithm Parameters: \n",
    "    - workload = workload of queries (M x k numpy array)\n",
    "    - x = true database (M x 1 numpy array)\n",
    "    - T = update threshold\n",
    "    - eps = privacy budget\n",
    "    - total_k = total number of update steps alloted for the entire group\n",
    "    - analyst_labels = list of analyst names corresponding to each query in the workload\n",
    "    \n",
    "    Output Controls: \n",
    "    - show_messages argument determines whether the function will print information such as \n",
    "    error scale, threshold, update steps used, etc.\n",
    "    - to_return argument determines what the function will return. \n",
    "        - if 'pd', pmw() returns pandas df with test data for each \n",
    "        query in the workload(showing query, d_t_hat, updated, algo_ans, real_ans, \n",
    "        abs_error, rel_error). \n",
    "        - if 'update_count', pmw() returns the update count for the total\n",
    "        amount of queries.\n",
    "    - show_plot - T/F whether the function will display a plot\n",
    "    - show_failure_step - T/F whether function prints what step failure mode is reached\n",
    "    \"\"\" \n",
    "    \n",
    "    # initialize constants\n",
    "    m = x.size  # database len\n",
    "    n = x.sum()\n",
    "    if(eta == None):\n",
    "        eta = (math.log(m, np.e) / ((math.sqrt(n))) )\n",
    "    delta = 1 / (n * math.log(n, np.e))\n",
    "    x_norm = x / np.sum(x)\n",
    "    \n",
    "    # initialize synthetic databases at time 0 (prior to any queries)\n",
    "    x_t = np.ones(m) / m\n",
    "    y_t = np.ones(m) / m\n",
    "\n",
    "    # initialize tracker lists to construct pandas dataframe at the end \n",
    "    x_list = [x_t] # create a list of x_t synthetic database at every time step\n",
    "    update_list = []\n",
    "    update_count = 0\n",
    "    pmw_answers = []\n",
    "    update_times = [] # record times that database is updated\n",
    "    d_t_hat_list = []\n",
    "    \n",
    "    # initialize total_k, the total number of update steps if not default\n",
    "    if total_k == None:\n",
    "        total_k = round(n * math.log(math.sqrt(m)) / 770) #770\n",
    "        #print(f'{total_k=}')\n",
    "    \n",
    "    def lazy_round():\n",
    "        \"\"\"\n",
    "        \"Lazy Round\" of querying using the stored synthetic database, x_t, in list x_list.\n",
    "        \n",
    "        We call this the lazy round because it is contrasted with the updated step where we update the \n",
    "        sythetic database and answer the query using the real database.\n",
    "        \"\"\"\n",
    "        update_list.append('no')\n",
    "        answer = np.dot(query, x_list[time])\n",
    "        if answer < 0:\n",
    "            pmw_answers.append(0)\n",
    "        else: \n",
    "            pmw_answers.append(answer)\n",
    "        x_list.append(x_list[time])\n",
    "    \n",
    "    # inititate first instance of SVT with half the budget and k updates; will be reset in the main loop\n",
    "    SVTtrigger = False \n",
    "    SVTepsilon1 = ((eps/2)/2)\n",
    "    SVTepsilon2 = ((eps/2)/2)\n",
    "    rho = np.random.laplace(loc=0, scale=(1/SVTepsilon1), size=1)[0]\n",
    "    #print(rho + T)\n",
    "    \n",
    "    \n",
    "    for time, query in enumerate(workload):\n",
    "        \n",
    "        analyst = analyst_labels[time]\n",
    "        \n",
    "        # Do one round of sparse vector technique; compute noisy answer by adding Laplacian noise\n",
    "        A_t = np.random.laplace(loc=0, scale=(total_k/SVTepsilon2), size=1)[0]\n",
    "        a_t_hat = (np.dot(query, x_norm)*n ) + A_t\n",
    "        d_t_hat = a_t_hat - (n*np.dot(query, x_list[time]))\n",
    "        \n",
    "        # LAZY ROUND: QUERY USING THE SYNTHETIC DATABASE\n",
    "        if (abs(d_t_hat) <= T + rho):\n",
    "            d_t_hat_list.append(d_t_hat)\n",
    "            lazy_round()\n",
    "\n",
    "        # UPDATE ROUND: UPDATE SYNTHETIC DATABASE AND RETURN NOISY ANSWER, A_T-HAT\n",
    "        else:\n",
    "            # noise\n",
    "            A_t = np.random.laplace(loc=0, scale=(2*total_k/eps), size=1)[0]\n",
    "            \n",
    "            # noisy answer\n",
    "            a_t_hat = (np.dot(query, x_norm)*n ) + A_t\n",
    "            d_t_hat = a_t_hat - (n*np.dot(query, x_list[time]))\n",
    "            d_t_hat_list.append(d_t_hat)\n",
    "            update_times.append(time)\n",
    "            \n",
    "            # step a\n",
    "            if d_t_hat < 0:\n",
    "                r_t = query\n",
    "            else:\n",
    "                r_t = np.ones(m) - query\n",
    "            for i in range(len(y_t)):\n",
    "                y_t[i] = x_list[time][i] * math.exp(-( eta * r_t[i]))# eta is the learning rate\n",
    "            \n",
    "            # step b\n",
    "            x_t = y_t / np.sum(y_t)\n",
    "            update_count = update_list.count('yes')\n",
    "            \n",
    "            # if threshold for num updates is reached, just do a lazy round (synthetic database) answer\n",
    "            if total_k == 0: \n",
    "                if show_failure_step:\n",
    "                    print(f'Failure mode reached at query number {time}: {query}')\n",
    "                lazy_round()\n",
    "                \n",
    "            # if there are still update steps that the analyst can use, \n",
    "            # 1. update the synthetic database\n",
    "            # 2. answer the query using the noisy answer from the database itself \n",
    "            else: \n",
    "                x_list.append(x_t)\n",
    "                update_list.append('yes') # increment number of updates counter\n",
    "                answer = a_t_hat / np.sum(x)\n",
    "                \n",
    "                if answer < 0:\n",
    "                    pmw_answers.append(0)\n",
    "                else: \n",
    "                    pmw_answers.append(answer)\n",
    "                \n",
    "                total_k -= 1 # use one of the total update steps\n",
    "        \n",
    "        #print(f'{x_list[time] - x_list[time - 1]=}')\n",
    "        \n",
    "        \n",
    "    update_count = update_list.count('yes')      \n",
    "\n",
    "    # calculate error\n",
    "    real_ans = np.matmul(workload, x_norm)\n",
    "    abs_error = np.abs(pmw_answers - real_ans)\n",
    "    rel_error = np.abs(abs_error / np.where(real_ans == 0, 0.000001,\n",
    "                                                real_ans))\n",
    "    \n",
    "    if show_messages:\n",
    "        np.set_printoptions(suppress=True)\n",
    "        \"\"\"Print inputes/outputs to analyze each query\"\"\"\n",
    "        print(f'Original database: {x}\\n')\n",
    "        print(f'Synthetic Database (after) = {x_list[len(x_list) - 1] * sum(x)}\\n')\n",
    "        print(f'Normalized database: {x_norm}\\n')\n",
    "        print(f'Synthetic Database (before) = {x_list[0]}\\n')\n",
    "        print(f'Synthetic Database (after, norm) = {x_list[len(x_list) - 1]}\\n')\n",
    "        print(f'Difference btw. Final Synthetic and true database = {x_list[len(x_list) - 1] - x_norm}\\n')\n",
    "        print(f'Update Count = {update_count}\\n')\n",
    "        print(f'{T=}\\n')\n",
    "        print(f'Error Scale Query Answer= {2*((2*total_k/eps)**2)}\\n')\n",
    "        print(f'Error Scale SVT= {2*((2*total_k/SVTepsilon2)**2)}\\n')\n",
    "        print(f'Update Parameter Scale = {eta}\\n')\n",
    "        print(f'{delta=}\\n')\n",
    "        \n",
    "    if show_plot: \n",
    "        plt.title('Error across queries:')\n",
    "        rel_line, = plt.plot(rel_error, label='Relative Error')\n",
    "        abs_line, = plt.plot(abs_error, label='Absolute Error')\n",
    "        for xc in update_times:\n",
    "            plt.axvline(x=xc, color='red', label='Update Times', linestyle='dashed')\n",
    "        plt.legend(handles=[abs_line,rel_line])\n",
    "        plt.xticks(range(0, len(workload), round(len(workload)/5)))\n",
    "    \n",
    "    if to_return == \"pd\":\n",
    "        # hacky fix: remove the first synthetic database to keep length of lists consistent with the\n",
    "        # other lists that comprise of the pandas dataframe\n",
    "        x_list.pop(0).tolist() \n",
    "        d = {\n",
    "            'algo_ans': pmw_answers,\n",
    "            'real_ans': real_ans.tolist(),\n",
    "            'queries': workload.tolist(), \n",
    "            'updated': update_list,\n",
    "            'abs_error': abs_error,               \n",
    "            'rel_error': rel_error,\n",
    "            'synthetic database': x_list,\n",
    "            'analyst': analyst_labels,\n",
    "            'd_t_hat': d_t_hat_list, \n",
    "\n",
    "             }\n",
    "        test_data = pd.DataFrame(data=d)\n",
    "        #test_data = test_data.round(3)\n",
    "        return test_data\n",
    "    \n",
    "    if to_return == \"error\":\n",
    "        d = {'analyst': analyst_labels,\n",
    "             'abs_error': abs_error,               \n",
    "             'rel_error': rel_error,}\n",
    "        data = pd.DataFrame(data=d)\n",
    "        data = data.round(3)\n",
    "        \n",
    "        analyst_error = {}\n",
    "        for analyst in list(sorted(analyst_labels)):\n",
    "            analyst_error[analyst] = data[data.analyst==analyst]['abs_error'].sum()\n",
    "        return analyst_error\n",
    "    \n",
    "    if to_return == \"tse\":\n",
    "        d = {'analyst': analyst_labels,\n",
    "             'abs_error': abs_error,}\n",
    "        data = pd.DataFrame(data=d)\n",
    "        data['squared_err'] = data['abs_error'] ** 2\n",
    "        \n",
    "        analyst_error = {}\n",
    "        for analyst in list(sorted(analyst_labels)):\n",
    "            analyst_error[analyst] = data[data.analyst==analyst]['abs_error'].sum()\n",
    "        return analyst_error"
   ]
  },
  {
   "cell_type": "code",
   "execution_count": 3,
   "id": "eb3dfbb1",
   "metadata": {},
   "outputs": [],
   "source": [
    "import matplotlib.pyplot as plt\n",
    "\n",
    "def plot_databases(data, y_upper=0.05):\n",
    "    \"\"\"\n",
    "    Plot True and Synthetic database side by side\n",
    "    \n",
    "    Input: \n",
    "    - data = pd.DataFrame returned from pmw()\n",
    "    - y_upper = y upperbound on the plot\n",
    "    \"\"\"\n",
    "    y_upper = 0.05\n",
    "\n",
    "    x1 = range(64)\n",
    "    y1 = x_race[:64] / sum(x_race[:64])\n",
    "\n",
    "    final_synthdb = data.iloc[len(data) - 1, 6]\n",
    "    x2 = range(64)\n",
    "    y2 = final_synthdb\n",
    "\n",
    "    plt.subplot(1, 2, 1)\n",
    "    plt.plot(x1, y1, color =\"red\")\n",
    "    plt.ylim([0, y_upper])\n",
    "    plt.title('True Database')\n",
    "\n",
    "    plt.subplot(1, 2, 2)\n",
    "    plt.plot(x2, y2, color =\"red\")\n",
    "    plt.title('A tale of 2 subplots')\n",
    "    plt.ylim([0, y_upper])\n",
    "    plt.title('Final Synthetic Database')\n",
    "\n",
    "\n",
    "    plt.subplots_adjust(left=0.1,\n",
    "                        bottom=0.1, \n",
    "                        right=0.9, \n",
    "                        top=0.9, \n",
    "                        wspace=0.4, \n",
    "                        hspace=0.4)\n",
    "    plt.show()\n"
   ]
  },
  {
   "cell_type": "code",
   "execution_count": 4,
   "id": "3074588a",
   "metadata": {},
   "outputs": [
    {
     "name": "stdout",
     "output_type": "stream",
     "text": [
      "large_w.shape=(6400, 64)\n"
     ]
    }
   ],
   "source": [
    "n=64\n",
    "ten_identity_q = np.vstack((online_workloads.identity(n), \n",
    "                            online_workloads.identity(n),\n",
    "                            online_workloads.identity(n),\n",
    "                            online_workloads.identity(n),\n",
    "                            online_workloads.identity(n),\n",
    "                            online_workloads.identity(n),\n",
    "                            online_workloads.identity(n),\n",
    "                            online_workloads.identity(n),\n",
    "                            online_workloads.identity(n),\n",
    "                            online_workloads.identity(n)))\n",
    "\n",
    "large_w = np.vstack((ten_identity_q, \n",
    "                               ten_identity_q, \n",
    "                               ten_identity_q, \n",
    "                               ten_identity_q, \n",
    "                               ten_identity_q, \n",
    "                               ten_identity_q, \n",
    "                               ten_identity_q, \n",
    "                               ten_identity_q, \n",
    "                               ten_identity_q, \n",
    "                               ten_identity_q))\n",
    "\n",
    "print(f'{large_w.shape=}')"
   ]
  },
  {
   "cell_type": "code",
   "execution_count": 5,
   "id": "6dfa7413",
   "metadata": {},
   "outputs": [
    {
     "data": {
      "text/plain": [
       "array([412, 333, 285, 231, 202, 174, 160, 142, 146, 149, 145, 181, 174,\n",
       "       190, 213, 287, 372, 499, 619, 715, 785, 821, 822, 816, 799, 742,\n",
       "       717, 697, 658, 593, 564, 519, 447, 403, 388, 365, 336, 306, 311,\n",
       "       289, 261, 231, 213, 196, 194, 170, 175, 168, 149, 142, 131, 119,\n",
       "       112, 118, 114, 116, 112, 114, 106, 111, 109, 112, 113, 109])"
      ]
     },
     "execution_count": 5,
     "metadata": {},
     "output_type": "execute_result"
    }
   ],
   "source": [
    "data_path = \"migration_tworace.csv\"\n",
    "x_race = pd.read_csv(data_path, header=None).to_numpy().T[1][:64] # truncate to first 64\n",
    "x_race"
   ]
  },
  {
   "cell_type": "code",
   "execution_count": 6,
   "id": "3a70838c",
   "metadata": {},
   "outputs": [
    {
     "name": "stdout",
     "output_type": "stream",
     "text": [
      "Original database: [412 333 285 231 202 174 160 142 146 149 145 181 174 190 213 287 372 499\n",
      " 619 715 785 821 822 816 799 742 717 697 658 593 564 519 447 403 388 365\n",
      " 336 306 311 289 261 231 213 196 194 170 175 168 149 142 131 119 112 118\n",
      " 114 116 112 114 106 111 109 112 113 109]\n",
      "\n",
      "Synthetic Database (after) = [349.92291984 381.78184115 293.95891292 254.2231927  330.17470914\n",
      " 277.36908064 330.17470914 277.36908064 269.42863708 302.62229846\n",
      " 285.54354033 320.72256098 285.54354033 311.54100625 302.62229846\n",
      " 320.72256098 302.62229846 370.85229862 404.61674653 381.78184115\n",
      " 393.03349279 416.54137517 381.78184115 428.81743951 381.78184115\n",
      " 370.85229862 404.61674653 428.81743951 360.23564394 393.03349279\n",
      " 360.23564394 360.23564394 404.61674653 302.62229846 360.23564394\n",
      " 381.78184115 360.23564394 330.17470914 311.54100625 269.42863708\n",
      " 293.95891292 285.54354033 339.90542549 302.62229846 269.42863708\n",
      " 311.54100625 311.54100625 320.72256098 254.2231927  277.36908064\n",
      " 233.00878222 277.36908064 269.42863708 254.2231927  269.42863708\n",
      " 311.54100625 302.62229846 269.42863708 269.42863708 261.71551028\n",
      " 254.2231927  261.71551028 269.42863708 277.36908064]\n",
      "\n",
      "Normalized database: [0.0200956  0.01624232 0.01390108 0.01126719 0.0098527  0.00848698\n",
      " 0.00780412 0.00692615 0.00712126 0.00726758 0.00707248 0.00882841\n",
      " 0.00848698 0.00926739 0.01038923 0.01399863 0.01814457 0.02433909\n",
      " 0.03019218 0.03487465 0.03828895 0.04004487 0.04009365 0.039801\n",
      " 0.03897181 0.03619159 0.0349722  0.03399668 0.03209443 0.02892401\n",
      " 0.02750951 0.0253146  0.02180275 0.01965662 0.01892498 0.01780314\n",
      " 0.01638865 0.01492537 0.01516925 0.01409619 0.01273047 0.01126719\n",
      " 0.01038923 0.00956004 0.00946249 0.00829187 0.00853575 0.00819432\n",
      " 0.00726758 0.00692615 0.00638962 0.00580431 0.00546288 0.00575554\n",
      " 0.00556043 0.00565798 0.00546288 0.00556043 0.00517023 0.00541411\n",
      " 0.00531655 0.00546288 0.00551166 0.00531655]\n",
      "\n",
      "Synthetic Database (before) = [0.015625 0.015625 0.015625 0.015625 0.015625 0.015625 0.015625 0.015625\n",
      " 0.015625 0.015625 0.015625 0.015625 0.015625 0.015625 0.015625 0.015625\n",
      " 0.015625 0.015625 0.015625 0.015625 0.015625 0.015625 0.015625 0.015625\n",
      " 0.015625 0.015625 0.015625 0.015625 0.015625 0.015625 0.015625 0.015625\n",
      " 0.015625 0.015625 0.015625 0.015625 0.015625 0.015625 0.015625 0.015625\n",
      " 0.015625 0.015625 0.015625 0.015625 0.015625 0.015625 0.015625 0.015625\n",
      " 0.015625 0.015625 0.015625 0.015625 0.015625 0.015625 0.015625 0.015625\n",
      " 0.015625 0.015625 0.015625 0.015625 0.015625 0.015625 0.015625 0.015625]\n",
      "\n",
      "Synthetic Database (after, norm) = [0.01706775 0.01862169 0.01433806 0.01239992 0.01610451 0.01352888\n",
      " 0.01610451 0.01352888 0.01314158 0.01476062 0.01392759 0.01564348\n",
      " 0.01392759 0.01519564 0.01476062 0.01564348 0.01476062 0.01808859\n",
      " 0.01973548 0.01862169 0.0191705  0.02031711 0.01862169 0.02091588\n",
      " 0.01862169 0.01808859 0.01973548 0.02091588 0.01757076 0.0191705\n",
      " 0.01757076 0.01757076 0.01973548 0.01476062 0.01757076 0.01862169\n",
      " 0.01757076 0.01610451 0.01519564 0.01314158 0.01433806 0.01392759\n",
      " 0.01657913 0.01476062 0.01314158 0.01519564 0.01519564 0.01564348\n",
      " 0.01239992 0.01352888 0.01136517 0.01352888 0.01314158 0.01239992\n",
      " 0.01314158 0.01519564 0.01476062 0.01314158 0.01314158 0.01276536\n",
      " 0.01239992 0.01276536 0.01314158 0.01352888]\n",
      "\n",
      "Difference btw. Final Synthetic and true database = [-0.00302785  0.00237937  0.00043698  0.00113273  0.00625181  0.0050419\n",
      "  0.0083004   0.00660273  0.00602032  0.00749304  0.00685511  0.00681507\n",
      "  0.00544062  0.00592825  0.00437139  0.00164484 -0.00338395 -0.0062505\n",
      " -0.0104567  -0.01625296 -0.01911845 -0.01972776 -0.02147196 -0.01888511\n",
      " -0.02035012 -0.018103   -0.01523672 -0.0130808  -0.01452367 -0.00975351\n",
      " -0.00993876 -0.00774385 -0.00206727 -0.004896   -0.00135423  0.00081855\n",
      "  0.00118211  0.00117914  0.00002639 -0.00095461  0.0016076   0.0026604\n",
      "  0.0061899   0.00520058  0.00367909  0.00690377  0.00665989  0.00744915\n",
      "  0.00513234  0.00660273  0.00497555  0.00772457  0.0076787   0.00664439\n",
      "  0.00758115  0.00953766  0.00929774  0.00758115  0.00797135  0.00735126\n",
      "  0.00708337  0.00730248  0.00762992  0.00821232]\n",
      "\n",
      "Update Count = 1000\n",
      "\n",
      "T=40\n",
      "\n",
      "Error Scale Query Answer= 0.0\n",
      "\n",
      "Error Scale SVT= 0.0\n",
      "\n",
      "Update Parameter Scale = 0.029045482601565774\n",
      "\n",
      "delta=4.912808703194887e-06\n",
      "\n"
     ]
    },
    {
     "data": {
      "text/html": [
       "<div>\n",
       "<style scoped>\n",
       "    .dataframe tbody tr th:only-of-type {\n",
       "        vertical-align: middle;\n",
       "    }\n",
       "\n",
       "    .dataframe tbody tr th {\n",
       "        vertical-align: top;\n",
       "    }\n",
       "\n",
       "    .dataframe thead th {\n",
       "        text-align: right;\n",
       "    }\n",
       "</style>\n",
       "<table border=\"1\" class=\"dataframe\">\n",
       "  <thead>\n",
       "    <tr style=\"text-align: right;\">\n",
       "      <th></th>\n",
       "      <th>algo_ans</th>\n",
       "      <th>real_ans</th>\n",
       "      <th>queries</th>\n",
       "      <th>updated</th>\n",
       "      <th>abs_error</th>\n",
       "      <th>rel_error</th>\n",
       "      <th>synthetic database</th>\n",
       "      <th>analyst</th>\n",
       "      <th>d_t_hat</th>\n",
       "    </tr>\n",
       "  </thead>\n",
       "  <tbody>\n",
       "    <tr>\n",
       "      <th>0</th>\n",
       "      <td>0.077526</td>\n",
       "      <td>0.020096</td>\n",
       "      <td>[1.0, 0.0, 0.0, 0.0, 0.0, 0.0, 0.0, 0.0, 0.0, ...</td>\n",
       "      <td>yes</td>\n",
       "      <td>0.057431</td>\n",
       "      <td>2.857877</td>\n",
       "      <td>[0.016078087069513525, 0.015617808141753755, 0...</td>\n",
       "      <td>A</td>\n",
       "      <td>1269.101451</td>\n",
       "    </tr>\n",
       "    <tr>\n",
       "      <th>1</th>\n",
       "      <td>0.080665</td>\n",
       "      <td>0.016242</td>\n",
       "      <td>[0.0, 1.0, 0.0, 0.0, 0.0, 0.0, 0.0, 0.0, 0.0, ...</td>\n",
       "      <td>yes</td>\n",
       "      <td>0.064423</td>\n",
       "      <td>3.966367</td>\n",
       "      <td>[0.016070690069519965, 0.016070690069519965, 0...</td>\n",
       "      <td>A</td>\n",
       "      <td>1333.603923</td>\n",
       "    </tr>\n",
       "    <tr>\n",
       "      <th>2</th>\n",
       "      <td>0.000000</td>\n",
       "      <td>0.013901</td>\n",
       "      <td>[0.0, 0.0, 1.0, 0.0, 0.0, 0.0, 0.0, 0.0, 0.0, ...</td>\n",
       "      <td>yes</td>\n",
       "      <td>0.013901</td>\n",
       "      <td>1.000000</td>\n",
       "      <td>[0.016077875215613727, 0.016077875215613727, 0...</td>\n",
       "      <td>A</td>\n",
       "      <td>-4639.868416</td>\n",
       "    </tr>\n",
       "    <tr>\n",
       "      <th>3</th>\n",
       "      <td>0.000000</td>\n",
       "      <td>0.011267</td>\n",
       "      <td>[0.0, 0.0, 0.0, 1.0, 0.0, 0.0, 0.0, 0.0, 0.0, ...</td>\n",
       "      <td>yes</td>\n",
       "      <td>0.011267</td>\n",
       "      <td>1.000000</td>\n",
       "      <td>[0.016085066789485812, 0.016085066789485812, 0...</td>\n",
       "      <td>A</td>\n",
       "      <td>-1175.000139</td>\n",
       "    </tr>\n",
       "    <tr>\n",
       "      <th>4</th>\n",
       "      <td>0.064163</td>\n",
       "      <td>0.009853</td>\n",
       "      <td>[0.0, 0.0, 0.0, 0.0, 1.0, 0.0, 0.0, 0.0, 0.0, ...</td>\n",
       "      <td>yes</td>\n",
       "      <td>0.054311</td>\n",
       "      <td>5.512262</td>\n",
       "      <td>[0.016077663367296862, 0.016077663367296862, 0...</td>\n",
       "      <td>A</td>\n",
       "      <td>995.141562</td>\n",
       "    </tr>\n",
       "    <tr>\n",
       "      <th>...</th>\n",
       "      <td>...</td>\n",
       "      <td>...</td>\n",
       "      <td>...</td>\n",
       "      <td>...</td>\n",
       "      <td>...</td>\n",
       "      <td>...</td>\n",
       "      <td>...</td>\n",
       "      <td>...</td>\n",
       "      <td>...</td>\n",
       "    </tr>\n",
       "    <tr>\n",
       "      <th>6395</th>\n",
       "      <td>0.012765</td>\n",
       "      <td>0.005414</td>\n",
       "      <td>[0.0, 0.0, 0.0, 0.0, 0.0, 0.0, 0.0, 0.0, 0.0, ...</td>\n",
       "      <td>no</td>\n",
       "      <td>0.007351</td>\n",
       "      <td>1.357797</td>\n",
       "      <td>[0.01706774557813242, 0.018621687696525512, 0....</td>\n",
       "      <td>A</td>\n",
       "      <td>-150.715510</td>\n",
       "    </tr>\n",
       "    <tr>\n",
       "      <th>6396</th>\n",
       "      <td>0.012400</td>\n",
       "      <td>0.005317</td>\n",
       "      <td>[0.0, 0.0, 0.0, 0.0, 0.0, 0.0, 0.0, 0.0, 0.0, ...</td>\n",
       "      <td>no</td>\n",
       "      <td>0.007083</td>\n",
       "      <td>1.332323</td>\n",
       "      <td>[0.01706774557813242, 0.018621687696525512, 0....</td>\n",
       "      <td>A</td>\n",
       "      <td>-145.223193</td>\n",
       "    </tr>\n",
       "    <tr>\n",
       "      <th>6397</th>\n",
       "      <td>0.012765</td>\n",
       "      <td>0.005463</td>\n",
       "      <td>[0.0, 0.0, 0.0, 0.0, 0.0, 0.0, 0.0, 0.0, 0.0, ...</td>\n",
       "      <td>no</td>\n",
       "      <td>0.007302</td>\n",
       "      <td>1.336746</td>\n",
       "      <td>[0.01706774557813242, 0.018621687696525512, 0....</td>\n",
       "      <td>A</td>\n",
       "      <td>-149.715510</td>\n",
       "    </tr>\n",
       "    <tr>\n",
       "      <th>6398</th>\n",
       "      <td>0.013142</td>\n",
       "      <td>0.005512</td>\n",
       "      <td>[0.0, 0.0, 0.0, 0.0, 0.0, 0.0, 0.0, 0.0, 0.0, ...</td>\n",
       "      <td>no</td>\n",
       "      <td>0.007630</td>\n",
       "      <td>1.384324</td>\n",
       "      <td>[0.01706774557813242, 0.018621687696525512, 0....</td>\n",
       "      <td>A</td>\n",
       "      <td>-156.428637</td>\n",
       "    </tr>\n",
       "    <tr>\n",
       "      <th>6399</th>\n",
       "      <td>0.013529</td>\n",
       "      <td>0.005317</td>\n",
       "      <td>[0.0, 0.0, 0.0, 0.0, 0.0, 0.0, 0.0, 0.0, 0.0, ...</td>\n",
       "      <td>no</td>\n",
       "      <td>0.008212</td>\n",
       "      <td>1.544670</td>\n",
       "      <td>[0.01706774557813242, 0.018621687696525512, 0....</td>\n",
       "      <td>A</td>\n",
       "      <td>-168.369081</td>\n",
       "    </tr>\n",
       "  </tbody>\n",
       "</table>\n",
       "<p>6400 rows × 9 columns</p>\n",
       "</div>"
      ],
      "text/plain": [
       "      algo_ans  real_ans                                            queries  \\\n",
       "0     0.077526  0.020096  [1.0, 0.0, 0.0, 0.0, 0.0, 0.0, 0.0, 0.0, 0.0, ...   \n",
       "1     0.080665  0.016242  [0.0, 1.0, 0.0, 0.0, 0.0, 0.0, 0.0, 0.0, 0.0, ...   \n",
       "2     0.000000  0.013901  [0.0, 0.0, 1.0, 0.0, 0.0, 0.0, 0.0, 0.0, 0.0, ...   \n",
       "3     0.000000  0.011267  [0.0, 0.0, 0.0, 1.0, 0.0, 0.0, 0.0, 0.0, 0.0, ...   \n",
       "4     0.064163  0.009853  [0.0, 0.0, 0.0, 0.0, 1.0, 0.0, 0.0, 0.0, 0.0, ...   \n",
       "...        ...       ...                                                ...   \n",
       "6395  0.012765  0.005414  [0.0, 0.0, 0.0, 0.0, 0.0, 0.0, 0.0, 0.0, 0.0, ...   \n",
       "6396  0.012400  0.005317  [0.0, 0.0, 0.0, 0.0, 0.0, 0.0, 0.0, 0.0, 0.0, ...   \n",
       "6397  0.012765  0.005463  [0.0, 0.0, 0.0, 0.0, 0.0, 0.0, 0.0, 0.0, 0.0, ...   \n",
       "6398  0.013142  0.005512  [0.0, 0.0, 0.0, 0.0, 0.0, 0.0, 0.0, 0.0, 0.0, ...   \n",
       "6399  0.013529  0.005317  [0.0, 0.0, 0.0, 0.0, 0.0, 0.0, 0.0, 0.0, 0.0, ...   \n",
       "\n",
       "     updated  abs_error  rel_error  \\\n",
       "0        yes   0.057431   2.857877   \n",
       "1        yes   0.064423   3.966367   \n",
       "2        yes   0.013901   1.000000   \n",
       "3        yes   0.011267   1.000000   \n",
       "4        yes   0.054311   5.512262   \n",
       "...      ...        ...        ...   \n",
       "6395      no   0.007351   1.357797   \n",
       "6396      no   0.007083   1.332323   \n",
       "6397      no   0.007302   1.336746   \n",
       "6398      no   0.007630   1.384324   \n",
       "6399      no   0.008212   1.544670   \n",
       "\n",
       "                                     synthetic database analyst      d_t_hat  \n",
       "0     [0.016078087069513525, 0.015617808141753755, 0...       A  1269.101451  \n",
       "1     [0.016070690069519965, 0.016070690069519965, 0...       A  1333.603923  \n",
       "2     [0.016077875215613727, 0.016077875215613727, 0...       A -4639.868416  \n",
       "3     [0.016085066789485812, 0.016085066789485812, 0...       A -1175.000139  \n",
       "4     [0.016077663367296862, 0.016077663367296862, 0...       A   995.141562  \n",
       "...                                                 ...     ...          ...  \n",
       "6395  [0.01706774557813242, 0.018621687696525512, 0....       A  -150.715510  \n",
       "6396  [0.01706774557813242, 0.018621687696525512, 0....       A  -145.223193  \n",
       "6397  [0.01706774557813242, 0.018621687696525512, 0....       A  -149.715510  \n",
       "6398  [0.01706774557813242, 0.018621687696525512, 0....       A  -156.428637  \n",
       "6399  [0.01706774557813242, 0.018621687696525512, 0....       A  -168.369081  \n",
       "\n",
       "[6400 rows x 9 columns]"
      ]
     },
     "execution_count": 6,
     "metadata": {},
     "output_type": "execute_result"
    }
   ],
   "source": [
    "n=64\n",
    "W_name = ['identity', 'total', 'H2', 'race1', 'race2', 'race3', 'custom', 'prefix_sum']\n",
    "W_lst = [online_workloads.identity(n), online_workloads.total(n), online_workloads.H2(n), online_workloads.race1(), online_workloads.race2(), online_workloads.race3(), online_workloads.custom(n), online_workloads.prefix_sum(n)]\n",
    "\n",
    "c = np.random.randint(len(W_lst))\n",
    "final_W = W_lst[c] \n",
    "\n",
    "data_test = pmw_naive(workload = large_w, \n",
    "                          x = x_race[:64], \n",
    "                          analyst_labels = ['A'] * len(large_w), \n",
    "                          eps=1, \n",
    "                          T=40, \n",
    "                          total_k = 1000, \n",
    "                          show_messages=True, to_return='pd')\n",
    "data_test"
   ]
  },
  {
   "cell_type": "code",
   "execution_count": 7,
   "id": "eb85ef13",
   "metadata": {},
   "outputs": [
    {
     "data": {
      "image/png": "[encoded data removed]",
      "text/plain": [
       "<Figure size 432x288 with 2 Axes>"
      ]
     },
     "metadata": {
      "needs_background": "light"
     },
     "output_type": "display_data"
    }
   ],
   "source": [
    "plot_databases(data_test)"
   ]
  },
  {
   "cell_type": "markdown",
   "id": "337d82f4",
   "metadata": {},
   "source": [
    "# Scheduler"
   ]
  },
  {
   "cell_type": "code",
   "execution_count": 8,
   "id": "2c231f67",
   "metadata": {},
   "outputs": [
    {
     "data": {
      "text/plain": [
       "(array([[ 1,  2,  3],\n",
       "        [11, 22, 33],\n",
       "        [44, 55, 66],\n",
       "        [ 4,  5,  6],\n",
       "        [ 7,  8,  9],\n",
       "        [77, 88, 99]]),\n",
       " ['A', 'B', 'B', 'A', 'A', 'B'])"
      ]
     },
     "execution_count": 8,
     "metadata": {},
     "output_type": "execute_result"
    }
   ],
   "source": [
    "def skewed_scheduler(a: np.ndarray, b: np.ndarray, p: int) -> Tuple: \n",
    "    \"\"\"\n",
    "    Schedules Alice's queries with a probability of p and Bob's queries with a probability of (p - 1).\n",
    "    \n",
    "    Returns new workload of queries (2x2 np.array) and analyst labels (python list). \n",
    "    \n",
    "    p: prob of scheduling Alice's queries\n",
    "    a: alice's workload\n",
    "    b: bob's workload\n",
    "    \"\"\"\n",
    "    \n",
    "    W = []\n",
    "    analyst_labels = []\n",
    "    \n",
    "    if a.shape[1] != b.shape[1]:\n",
    "         raise TypeError(\"a and b dimensions don't match\")\n",
    "    \n",
    "    a_pointer = 0\n",
    "    b_pointer = 0\n",
    "    \n",
    "    while(a_pointer < len(a) and b_pointer < len(b)):\n",
    "        if np.random.random() < p:\n",
    "            W.append(a[a_pointer])\n",
    "            a_pointer += 1\n",
    "            analyst_labels.append('A')\n",
    "        else: \n",
    "            W.append(b[b_pointer])\n",
    "            b_pointer += 1\n",
    "            analyst_labels.append('B')\n",
    "    \n",
    "    if a_pointer == len(a):\n",
    "        W = np.vstack((W, b[b_pointer:]))\n",
    "        analyst_labels += ['B' for i in range(b_pointer, len(b))]\n",
    "    if b_pointer == len(b): \n",
    "        W = np.vstack((W, a[a_pointer:]))\n",
    "        analyst_labels += ['A' for i in range(a_pointer, len(a))]\n",
    "    \n",
    "    W = np.array(W)\n",
    "    return W, analyst_labels\n",
    "\n",
    "a_ex = np.array([[1, 2, 3],\n",
    "             [4, 5, 6],\n",
    "             [7, 8, 9]])\n",
    "\n",
    "b_ex = np.array([[11, 22, 33],\n",
    "             [44, 55, 66],\n",
    "             [77, 88, 99]])\n",
    "    \n",
    "skewed_scheduler(a_ex, b_ex, 0.5)"
   ]
  },
  {
   "cell_type": "code",
   "execution_count": 9,
   "id": "907a278f",
   "metadata": {},
   "outputs": [
    {
     "data": {
      "text/plain": [
       "(array([[ 1,  2,  3],\n",
       "        [ 4,  5,  6],\n",
       "        [ 7,  8,  9],\n",
       "        [11, 22, 33],\n",
       "        [44, 55, 66],\n",
       "        [77, 88, 99]]),\n",
       " ['A', 'A', 'A', 'B', 'B', 'B'])"
      ]
     },
     "execution_count": 9,
     "metadata": {},
     "output_type": "execute_result"
    }
   ],
   "source": [
    "skewed_scheduler(a_ex, b_ex, 1)"
   ]
  },
  {
   "cell_type": "code",
   "execution_count": 10,
   "id": "86023652",
   "metadata": {},
   "outputs": [
    {
     "data": {
      "text/plain": [
       "(array([[ 1,  2,  3],\n",
       "        [ 4,  5,  6],\n",
       "        [ 7,  8,  9],\n",
       "        [11, 22, 33],\n",
       "        [44, 55, 66],\n",
       "        [77, 88, 99]]),\n",
       " ['A', 'A', 'A', 'B', 'B', 'B'])"
      ]
     },
     "execution_count": 10,
     "metadata": {},
     "output_type": "execute_result"
    }
   ],
   "source": [
    "skewed_scheduler(a_ex, b_ex, 0.9)"
   ]
  },
  {
   "cell_type": "code",
   "execution_count": 11,
   "id": "4d91f7a8",
   "metadata": {},
   "outputs": [
    {
     "data": {
      "text/plain": [
       "(array([[11, 22, 33],\n",
       "        [ 1,  2,  3],\n",
       "        [ 4,  5,  6],\n",
       "        [ 7,  8,  9],\n",
       "        [44, 55, 66],\n",
       "        [77, 88, 99]]),\n",
       " ['B', 'A', 'A', 'A', 'B', 'B'])"
      ]
     },
     "execution_count": 11,
     "metadata": {},
     "output_type": "execute_result"
    }
   ],
   "source": [
    "skewed_scheduler(a_ex, b_ex, 0.8)"
   ]
  },
  {
   "cell_type": "code",
   "execution_count": 12,
   "id": "5c7600fb",
   "metadata": {},
   "outputs": [
    {
     "data": {
      "text/plain": [
       "(array([[ 1,  2,  3],\n",
       "        [ 4,  5,  6],\n",
       "        [ 7,  8,  9],\n",
       "        [11, 22, 33],\n",
       "        [44, 55, 66],\n",
       "        [77, 88, 99]]),\n",
       " ['A', 'A', 'A', 'B', 'B', 'B'])"
      ]
     },
     "execution_count": 12,
     "metadata": {},
     "output_type": "execute_result"
    }
   ],
   "source": [
    "skewed_scheduler(a_ex, b_ex, 0.7)"
   ]
  },
  {
   "cell_type": "code",
   "execution_count": 13,
   "id": "ccb158fc",
   "metadata": {},
   "outputs": [
    {
     "data": {
      "text/plain": [
       "(array([[11, 22, 33],\n",
       "        [ 1,  2,  3],\n",
       "        [ 4,  5,  6],\n",
       "        [ 7,  8,  9],\n",
       "        [44, 55, 66],\n",
       "        [77, 88, 99]]),\n",
       " ['B', 'A', 'A', 'A', 'B', 'B'])"
      ]
     },
     "execution_count": 13,
     "metadata": {},
     "output_type": "execute_result"
    }
   ],
   "source": [
    "skewed_scheduler(a_ex, b_ex, 0.6)"
   ]
  },
  {
   "cell_type": "code",
   "execution_count": 14,
   "id": "3910f92d",
   "metadata": {},
   "outputs": [
    {
     "data": {
      "text/plain": [
       "(array([[11, 22, 33],\n",
       "        [ 1,  2,  3],\n",
       "        [ 4,  5,  6],\n",
       "        [ 7,  8,  9],\n",
       "        [44, 55, 66],\n",
       "        [77, 88, 99]]),\n",
       " ['B', 'A', 'A', 'A', 'B', 'B'])"
      ]
     },
     "execution_count": 14,
     "metadata": {},
     "output_type": "execute_result"
    }
   ],
   "source": [
    "skewed_scheduler(a_ex, b_ex, 0.5)"
   ]
  },
  {
   "cell_type": "markdown",
   "id": "7670ca81",
   "metadata": {},
   "source": [
    "# Motivating Experiment"
   ]
  },
  {
   "cell_type": "code",
   "execution_count": 15,
   "id": "76e0673e",
   "metadata": {},
   "outputs": [],
   "source": [
    "import warnings\n",
    "warnings.filterwarnings(\"ignore\", category=np.VisibleDeprecationWarning) "
   ]
  },
  {
   "cell_type": "code",
   "execution_count": 16,
   "id": "2b9f074b",
   "metadata": {},
   "outputs": [],
   "source": [
    "# initialize workloads\n",
    "W_lst = [online_workloads.identity(n), online_workloads.total(n), online_workloads.custom(n), online_workloads.prefix_sum(n)] #online_workloads.race1(), online_workloads.race2(), online_workloads.race3(),\n",
    "W_name = ['identity', 'total', 'H2', 'custom', 'prefix_sum'] #, 'race1', 'race2', 'race3'\n",
    "\n",
    "def motivating_exp(p, t):\n",
    "    diff_lst=[]\n",
    "    for i in range(t):\n",
    "        # generate two identical workloads\n",
    "        c = np.random.randint(len(W_lst))\n",
    "\n",
    "        alice = W_lst[c]\n",
    "        bob = W_lst[c]\n",
    "        # skewed scheduler\n",
    "        W, analyst_labels = skewed_scheduler(alice, bob, p)\n",
    "\n",
    "        # PMW calculate error\n",
    "        error_dict = pmw_naive(W, x_race, analyst_labels, eps=1, T=40, to_return='error')\n",
    "\n",
    "        # subtract errors to get difference\n",
    "        diff = error_dict['A'] - error_dict['B']\n",
    "        # append difference to list for this specific p\n",
    "        diff_lst.append(diff)\n",
    "\n",
    "    return diff_lst"
   ]
  },
  {
   "cell_type": "code",
   "execution_count": 26,
   "id": "c3d4c4c9",
   "metadata": {},
   "outputs": [],
   "source": [
    "diff_pointfive = motivating_exp(0.5, t=100)"
   ]
  },
  {
   "cell_type": "code",
   "execution_count": 41,
   "id": "4b74c9c4",
   "metadata": {},
   "outputs": [
    {
     "data": {
      "image/png": "[encoded data removed]",
      "text/plain": [
       "<Figure size 432x288 with 1 Axes>"
      ]
     },
     "metadata": {
      "needs_background": "light"
     },
     "output_type": "display_data"
    },
    {
     "name": "stdout",
     "output_type": "stream",
     "text": [
      "Mean = 0.0009399999999999653\n"
     ]
    }
   ],
   "source": [
    "plt.hist(diff_pointfive)\n",
    "plt.title(\"Difference between Alice and Bob's error when p = 0.5\")\n",
    "plt.show()\n",
    "print(f'Mean = {sum(diff_pointfive) / len(diff_pointfive)}')"
   ]
  },
  {
   "cell_type": "code",
   "execution_count": 28,
   "id": "f161efe2",
   "metadata": {},
   "outputs": [],
   "source": [
    "diff_pointsevenfive = motivating_exp(0.75, t=100)"
   ]
  },
  {
   "cell_type": "code",
   "execution_count": 39,
   "id": "6be36421",
   "metadata": {},
   "outputs": [
    {
     "data": {
      "image/png": "[encoded data removed]",
      "text/plain": [
       "<Figure size 432x288 with 1 Axes>"
      ]
     },
     "metadata": {
      "needs_background": "light"
     },
     "output_type": "display_data"
    },
    {
     "name": "stdout",
     "output_type": "stream",
     "text": [
      "Mean = -0.5941300000000002\n"
     ]
    }
   ],
   "source": [
    "plt.hist(diff_pointsevenfive)\n",
    "plt.title(\"Difference between Alice and Bob's error when p = 0.75\")\n",
    "plt.show()\n",
    "print(f'Mean = {sum(diff_pointsevenfive) / len(diff_pointsevenfive)}')"
   ]
  },
  {
   "cell_type": "code",
   "execution_count": 30,
   "id": "0d2d3901",
   "metadata": {},
   "outputs": [],
   "source": [
    "diff_one = motivating_exp(1, t=100)"
   ]
  },
  {
   "cell_type": "code",
   "execution_count": 40,
   "id": "d1eedecd",
   "metadata": {},
   "outputs": [
    {
     "data": {
      "image/png": "[encoded data removed]",
      "text/plain": [
       "<Figure size 432x288 with 1 Axes>"
      ]
     },
     "metadata": {
      "needs_background": "light"
     },
     "output_type": "display_data"
    },
    {
     "name": "stdout",
     "output_type": "stream",
     "text": [
      "Mean = -0.6710899999999999\n"
     ]
    }
   ],
   "source": [
    "plt.hist(diff_one)\n",
    "plt.title(\"Difference between Alice and Bob's error when p = 1\")\n",
    "plt.show()\n",
    "print(f'Mean = {sum(diff_one) / len(diff_one)}')"
   ]
  },
  {
   "cell_type": "markdown",
   "id": "f1744643",
   "metadata": {},
   "source": [
    "This seems to be accurate. As p increases, Alice gets to answer more of her queries earlier, resulting in her having less and less error compared to Bob. \n",
    "\n",
    "As you can see, \n",
    "\n",
    "- in the p=0.5 setting, she has 0.0009399999999999653 less error than Bob\n",
    "- in the p=0.75 setting, she has 0.594 less error than Bob\n",
    "- in the p=1 setting, she has 0.67 less error than Bob. "
   ]
  },
  {
   "cell_type": "code",
   "execution_count": null,
   "id": "0f39cebc",
   "metadata": {},
   "outputs": [],
   "source": []
  },
  {
   "cell_type": "code",
   "execution_count": null,
   "id": "c849bfa5",
   "metadata": {},
   "outputs": [],
   "source": []
  },
  {
   "cell_type": "code",
   "execution_count": null,
   "id": "a2a9114e",
   "metadata": {},
   "outputs": [],
   "source": []
  },
  {
   "cell_type": "code",
   "execution_count": null,
   "id": "91f4d7a6",
   "metadata": {},
   "outputs": [],
   "source": []
  },
  {
   "cell_type": "code",
   "execution_count": null,
   "id": "428abe3b",
   "metadata": {},
   "outputs": [],
   "source": []
  },
  {
   "cell_type": "code",
   "execution_count": null,
   "id": "b9804697",
   "metadata": {},
   "outputs": [],
   "source": []
  },
  {
   "cell_type": "code",
   "execution_count": null,
   "id": "a4300cc8",
   "metadata": {},
   "outputs": [],
   "source": []
  },
  {
   "cell_type": "code",
   "execution_count": null,
   "id": "cacad98f",
   "metadata": {},
   "outputs": [],
   "source": []
  },
  {
   "cell_type": "code",
   "execution_count": null,
   "id": "c87d77db",
   "metadata": {},
   "outputs": [],
   "source": []
  },
  {
   "cell_type": "code",
   "execution_count": null,
   "id": "fbb7147a",
   "metadata": {},
   "outputs": [],
   "source": []
  },
  {
   "cell_type": "code",
   "execution_count": null,
   "id": "8c921005",
   "metadata": {},
   "outputs": [],
   "source": []
  },
  {
   "cell_type": "code",
   "execution_count": null,
   "id": "71d175c3",
   "metadata": {},
   "outputs": [],
   "source": []
  },
  {
   "cell_type": "markdown",
   "id": "5d39b194",
   "metadata": {},
   "source": [
    "# Workload Constructor (WIP)"
   ]
  },
  {
   "cell_type": "code",
   "execution_count": 20,
   "id": "f35c4251",
   "metadata": {},
   "outputs": [
    {
     "name": "stdout",
     "output_type": "stream",
     "text": [
      "5\n",
      "3\n",
      "4\n",
      "2\n",
      "6\n",
      "0\n",
      "6\n",
      "1\n",
      "4\n",
      "3\n",
      "509\n"
     ]
    },
    {
     "data": {
      "text/plain": [
       "array([[1., 0., 0., ..., 0., 0., 0.],\n",
       "       [1., 1., 0., ..., 0., 0., 0.],\n",
       "       [1., 1., 1., ..., 0., 0., 0.],\n",
       "       ...,\n",
       "       [0., 0., 0., ..., 0., 0., 0.],\n",
       "       [0., 0., 0., ..., 0., 0., 0.],\n",
       "       [1., 0., 0., ..., 1., 1., 1.]])"
      ]
     },
     "execution_count": 20,
     "metadata": {},
     "output_type": "execute_result"
    }
   ],
   "source": [
    "# WIP: 4-12-2022\n",
    "\n",
    "import string\n",
    "alphabet = list(string.ascii_lowercase)\n",
    "alphabet\n",
    "\n",
    "W_lst = [online_workloads.identity(n), online_workloads.total(n), online_workloads.race1(), online_workloads.race2(), online_workloads.race3(), online_workloads.custom(n), online_workloads.prefix_sum(n)]\n",
    "\n",
    "\n",
    "W_lst = [online_workloads.identity(n)]\n",
    "W_name = ['identity']\n",
    "\n",
    "def workload_selection(W_lst, W_name, k, analyst_names=None):\n",
    "    \"\"\"\n",
    "    Create a workload\n",
    "    \n",
    "    W_lst = Workload list\n",
    "    W_name = Workload name\n",
    "    k = number of analysts\n",
    "    analyst_names = Analyst names, default = lowercase alphabet letters (i.e. analysts 'a', 'b', etc.)\n",
    "    \"\"\"\n",
    "    \n",
    "    if analyst_names == None:\n",
    "        #if analyst_names: \n",
    "        #    raise TypeError(\"a and b dimensions don't match\")\n",
    "        #else: \n",
    "        analyst_names = alphabet[:k]\n",
    "    \n",
    "    Wn = []\n",
    "    analyst_labels = []\n",
    "    \n",
    "    c = np.random.randint(len(W_lst))\n",
    "    Ws = W_lst[c]\n",
    "    Wn.append(W_name[c])\n",
    "    \n",
    "    #for i in range(len(analyst_names) - 1):\n",
    "    #    c = np.random.randint(len(W_lst))\n",
    "    #    Ws = Ws.vstack(Ws, W_lst[c])\n",
    "    #    Wn.append(W_name[c])\n",
    "    return Ws, Wn, analyst_labels\n",
    "\n",
    "workload_selection(W_lst, W_name, 2)\n",
    "\n",
    "\n",
    "# other WIP attemps: \n",
    "\n",
    "\n",
    "n=64\n",
    "W_name = ['identity', 'total', 'H2', 'race1', 'race2', 'race3', 'custom', 'prefix_sum']\n",
    "W_lst = [online_workloads.identity(n), online_workloads.total(n), online_workloads.H2(n), online_workloads.race1(), online_workloads.race2(), online_workloads.race3(), online_workloads.custom(n), online_workloads.prefix_sum(n)]\n",
    "\n",
    "c = np.random.randint(len(W_lst))\n",
    "final_W = W_lst[c] \n",
    "\n",
    "t = 10\n",
    "for i in range(t): \n",
    "    c = np.random.randint(len(W_lst))\n",
    "    print(c)\n",
    "    final_W = np.vstack((final_W, W_lst[c]))\n",
    "    \n",
    "print(len(final_W))\n",
    "\n",
    "final_W\n",
    "\n"
   ]
  },
  {
   "cell_type": "code",
   "execution_count": 21,
   "id": "4612db3a",
   "metadata": {},
   "outputs": [],
   "source": [
    "# initialize databases\n",
    "\n",
    "import pandas as pd\n",
    "data_path = \"migration_tworace.csv\"\n",
    "#x_race = pd.read_csv(data_path, header=None).iloc[:, 1].to_numpy()\n",
    "n = x_race.shape[0]\n",
    "x_race\n",
    "\n",
    "x_example = np.array([1000, 2000, 3000, 4000, 5000])\n",
    "new_x = np.array([.1, .15, .2, .25, .3]) * 1500"
   ]
  },
  {
   "cell_type": "code",
   "execution_count": 22,
   "id": "cf07287b",
   "metadata": {},
   "outputs": [
    {
     "ename": "NameError",
     "evalue": "name 'hundred_identity_q' is not defined",
     "output_type": "error",
     "traceback": [
      "\u001b[0;31m---------------------------------------------------------------------------\u001b[0m",
      "\u001b[0;31mNameError\u001b[0m                                 Traceback (most recent call last)",
      "\u001b[0;32m<ipython-input-22-93c683e8160f>\u001b[0m in \u001b[0;36m<module>\u001b[0;34m\u001b[0m\n\u001b[1;32m      2\u001b[0m \u001b[0;34m\u001b[0m\u001b[0m\n\u001b[1;32m      3\u001b[0m \u001b[0;31m# try identity on the race database\u001b[0m\u001b[0;34m\u001b[0m\u001b[0;34m\u001b[0m\u001b[0;34m\u001b[0m\u001b[0m\n\u001b[0;32m----> 4\u001b[0;31m data = pmw_naive(hundred_identity_q, x_race_first_ten, ['A'] * 1000, eps=10, T=40, total_k = 100, \n\u001b[0m\u001b[1;32m      5\u001b[0m           show_messages=True, to_return = 'pd')#to_return='tse')\n\u001b[1;32m      6\u001b[0m \u001b[0mdata\u001b[0m\u001b[0;34m\u001b[0m\u001b[0;34m\u001b[0m\u001b[0m\n",
      "\u001b[0;31mNameError\u001b[0m: name 'hundred_identity_q' is not defined"
     ]
    }
   ],
   "source": [
    "x_race_first_ten = x_race[:10]\n",
    "\n",
    "# try identity on the race database\n",
    "data = pmw_naive(hundred_identity_q, x_race_first_ten, ['A'] * 1000, eps=10, T=40, total_k = 100, \n",
    "          show_messages=True, to_return = 'pd')#to_return='tse')\n",
    "data\n",
    "data['abs_error'].sum() / len(data)"
   ]
  }
 ],
 "metadata": {
  "kernelspec": {
   "display_name": "Python 3",
   "language": "python",
   "name": "python3"
  },
  "language_info": {
   "codemirror_mode": {
    "name": "ipython",
    "version": 3
   },
   "file_extension": ".py",
   "mimetype": "text/x-python",
   "name": "python",
   "nbconvert_exporter": "python",
   "pygments_lexer": "ipython3",
   "version": "3.8.8"
  }
 },
 "nbformat": 4,
 "nbformat_minor": 5
}
