{
 "cells": [
  {
   "attachments": {},
   "cell_type": "markdown",
   "id": "45774f05",
   "metadata": {},
   "source": [
    "# VLDB Experiments\n",
    "In this Jupyter Notebook, I wish to conduct the following experiments for VLDB.\n",
    "\n",
    "Edited: May 23, 2022"
   ]
  },
  {
   "cell_type": "code",
   "execution_count": null,
   "id": "20c1de5a",
   "metadata": {},
   "outputs": [],
   "source": [
    "import numpy as np\n",
    "import pandas as pd\n",
    "import math\n",
    "from src.hdmm.error import expected_error, strategy_supports_workload\n",
    "from src.hdmm.matrix import EkteloMatrix\n",
    "\n",
    "from matplotlib import pyplot as plt\n",
    "from collections import OrderedDict\n",
    "from src.hdmm.workload import AllRange"
   ]
  },
  {
   "cell_type": "markdown",
   "id": "e45b1490",
   "metadata": {},
   "source": [
    "Let's design the experiments we're going to use for VLDB: \n",
    "- p = 0.5, 0.75, 1\n",
    "- Algos = PMW, PMW (random scheduler), PMW, PMW (Round Robin) and Seeded C&R\n",
    "- Measures = Total Utility, Max Ratio, Empirical Interference"
   ]
  },
  {
   "cell_type": "markdown",
   "id": "e8bbc979",
   "metadata": {},
   "source": [
    "# Algorithms\n",
    "The following are the algorithms that we wish to implement. They are Private Multiplicative Weights and Cache and Reconstruct. "
   ]
  },
  {
   "cell_type": "markdown",
   "id": "890aa3b8",
   "metadata": {},
   "source": [
    "### PMW"
   ]
  },
  {
   "cell_type": "markdown",
   "id": "cb914b48",
   "metadata": {},
   "source": [
    "### Cache and Reconstruct"
   ]
  },
  {
   "cell_type": "markdown",
   "id": "5465e607",
   "metadata": {},
   "source": [
    "# Schedulers"
   ]
  },
  {
   "cell_type": "markdown",
   "id": "8104913d",
   "metadata": {},
   "source": [
    "### Random Scheduler"
   ]
  },
  {
   "cell_type": "markdown",
   "id": "d5447f1f",
   "metadata": {},
   "source": [
    "### Round Robin"
   ]
  },
  {
   "cell_type": "markdown",
   "id": "1defec70",
   "metadata": {},
   "source": [
    "# 5-23 (Top Left Corner)\n",
    "\n",
    "First, let's start doing one box (the top left corner). For p = 0.5, let's find the total utility for PMW, PMW (random scheduler), PMW, PMW (Round Robin) and Seeded C&R. "
   ]
  },
  {
   "cell_type": "code",
   "execution_count": null,
   "id": "6a3425d4",
   "metadata": {},
   "outputs": [],
   "source": []
  }
 ],
 "metadata": {
  "kernelspec": {
   "display_name": "Python 3.8.8 64-bit ('base': conda)",
   "language": "python",
   "name": "python388jvsc74a57bd0718e77e574b71e9f7991c7da6831896cfd7281e366db0dbf84de44e8d5f66e5a"
  },
  "language_info": {
   "codemirror_mode": {
    "name": "ipython",
    "version": 3
   },
   "file_extension": ".py",
   "mimetype": "text/x-python",
   "name": "python",
   "nbconvert_exporter": "python",
   "pygments_lexer": "ipython3",
   "version": "3.8.8"
  }
 },
 "nbformat": 4,
 "nbformat_minor": 5
}
