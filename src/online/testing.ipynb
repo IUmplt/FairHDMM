{
 "cells": [
  {
   "cell_type": "markdown",
   "id": "bf51873e",
   "metadata": {},
   "source": [
    "Import statements:"
   ]
  },
  {
   "cell_type": "code",
   "execution_count": 8,
   "id": "4c95599c",
   "metadata": {},
   "outputs": [],
   "source": [
    "import random\n",
    "import src.hdmm.workload as workload"
   ]
  },
  {
   "cell_type": "markdown",
   "id": "6ea5389a",
   "metadata": {},
   "source": [
    "First, let's generate the number of analysts `k`. "
   ]
  },
  {
   "cell_type": "code",
   "execution_count": 2,
   "id": "7f180958",
   "metadata": {},
   "outputs": [],
   "source": [
    "import random\n",
    "k_max=20\n",
    "k = random.randint(2, k_max)"
   ]
  },
  {
   "cell_type": "markdown",
   "id": "fb2f3be5",
   "metadata": {},
   "source": [
    "Now, let's choose workload uniformly sampled from a set of 8 workloads. "
   ]
  },
  {
   "cell_type": "code",
   "execution_count": 3,
   "id": "253896e8",
   "metadata": {},
   "outputs": [
    {
     "data": {
      "text/plain": [
       "{}"
      ]
     },
     "execution_count": 3,
     "metadata": {},
     "output_type": "execute_result"
    }
   ],
   "source": [
    "import random\n",
    "mylist = ['a', 'b', 'c']\n",
    "\n",
    "\n",
    "rec = {}\n",
    "\"\"\"\n",
    "for i in range(100000000):\n",
    "    \n",
    "    x = random.choice(mylist)\n",
    "    if x not in rec: \n",
    "        rec[x] = 0\n",
    "    rec[x] += 1\n",
    "\"\"\"\n",
    "rec"
   ]
  },
  {
   "cell_type": "code",
   "execution_count": 4,
   "id": "b0c0e8da",
   "metadata": {},
   "outputs": [
    {
     "name": "stdout",
     "output_type": "stream",
     "text": [
      "prefix_sum\n",
      "custom\n",
      "custom\n",
      "prefix_sum\n",
      "prefix_sum\n",
      "identity\n",
      "race3\n",
      "identity\n",
      "prefix_sum\n",
      "identity\n"
     ]
    }
   ],
   "source": [
    "def identity():\n",
    "    print(\"identity\")\n",
    "\n",
    "def total():\n",
    "    print(\"total\")\n",
    "\n",
    "def prefix_sum():\n",
    "    print(\"prefix_sum\")\n",
    "    \n",
    "def H2():\n",
    "    print(\"H2\")\n",
    "    \n",
    "def custom():\n",
    "    print(\"custom\")\n",
    "    \n",
    "def race1():\n",
    "    print(\"race1\")\n",
    "    \n",
    "def race2():\n",
    "    print(\"race2\")\n",
    "    \n",
    "def race3():\n",
    "    print(\"race3\")\n",
    "    \n",
    "switcher = {\n",
    "    \"identity\": identity,\n",
    "    \"total\": total,\n",
    "    \"prefix_sum\": prefix_sum,\n",
    "    \"H2\": H2,\n",
    "    \"custom\": custom,\n",
    "    \"race1\": race1,\n",
    "    \"race2\": race2,\n",
    "    \"race3\": race3,\n",
    "}\n",
    "\n",
    "for i in range(10):\n",
    "    mode = random.choice(list(switcher.keys()))\n",
    "    switcher[mode]()"
   ]
  },
  {
   "cell_type": "code",
   "execution_count": 5,
   "id": "ece60c6e",
   "metadata": {},
   "outputs": [
    {
     "ename": "SyntaxError",
     "evalue": "invalid syntax (<ipython-input-5-180b89b69893>, line 3)",
     "output_type": "error",
     "traceback": [
      "\u001b[0;36m  File \u001b[0;32m\"<ipython-input-5-180b89b69893>\"\u001b[0;36m, line \u001b[0;32m3\u001b[0m\n\u001b[0;31m    ''}\u001b[0m\n\u001b[0m      ^\u001b[0m\n\u001b[0;31mSyntaxError\u001b[0m\u001b[0;31m:\u001b[0m invalid syntax\n"
     ]
    }
   ],
   "source": [
    "n = 5\n",
    "switcher = {'all_range': workload.AllRange(n),\n",
    "           ''}\n",
    "switcher['all_range'](n).dense_matrix()"
   ]
  },
  {
   "cell_type": "markdown",
   "id": "f42c414f",
   "metadata": {},
   "source": [
    "https://github.com/yikai-wu/Multi-Analyst-DP/blob/master/src/workload_selection.py"
   ]
  },
  {
   "cell_type": "markdown",
   "id": "1bbf97cc",
   "metadata": {},
   "source": [
    "# Let's test out using the data file."
   ]
  },
  {
   "cell_type": "code",
   "execution_count": 5,
   "id": "f5d27b30",
   "metadata": {
    "scrolled": true
   },
   "outputs": [
    {
     "data": {
      "text/plain": [
       "array([[1., 0., 0., ..., 0., 0., 0.],\n",
       "       [1., 1., 0., ..., 0., 0., 0.],\n",
       "       [1., 1., 1., ..., 0., 0., 0.],\n",
       "       ...,\n",
       "       [1., 1., 1., ..., 1., 0., 0.],\n",
       "       [1., 1., 1., ..., 1., 1., 0.],\n",
       "       [1., 1., 1., ..., 1., 1., 1.]])"
      ]
     },
     "execution_count": 5,
     "metadata": {},
     "output_type": "execute_result"
    }
   ],
   "source": [
    "import pandas as pd\n",
    "data_path = \"migration_tworace.csv\"\n",
    "x_data = pd.read_csv(data_path, header=None).to_numpy()\n",
    "n = x_data.shape[0]\n",
    "\n",
    "from src.hdmm import workload\n",
    "workload.Prefix(n).dense_matrix()"
   ]
  },
  {
   "cell_type": "code",
   "execution_count": 6,
   "id": "4055bda6",
   "metadata": {},
   "outputs": [
    {
     "name": "stderr",
     "output_type": "stream",
     "text": [
      "usage: ipykernel_launcher.py [-h] [-k K] [-run RUN] [-t T] [-eps EPS]\n",
      "                             [-rep REP] [-seed SEED] [-x X] [-tol TOL]\n",
      "                             [-sam SAM]\n",
      "ipykernel_launcher.py: error: unrecognized arguments: -f /Users/albertsun/Library/Jupyter/runtime/kernel-b35c1fb1-c038-48d6-be82-ae34dfe8737d.json\n"
     ]
    },
    {
     "ename": "SystemExit",
     "evalue": "2",
     "output_type": "error",
     "traceback": [
      "An exception has occurred, use %tb to see the full traceback.\n",
      "\u001b[0;31mSystemExit\u001b[0m\u001b[0;31m:\u001b[0m 2\n"
     ]
    },
    {
     "name": "stderr",
     "output_type": "stream",
     "text": [
      "/Users/albertsun/opt/anaconda3/lib/python3.8/site-packages/IPython/core/interactiveshell.py:3445: UserWarning: To exit: use 'exit', 'quit', or Ctrl-D.\n",
      "  warn(\"To exit: use 'exit', 'quit', or Ctrl-D.\", stacklevel=1)\n"
     ]
    }
   ],
   "source": []
  },
  {
   "cell_type": "code",
   "execution_count": 6,
   "id": "64ba08cd",
   "metadata": {
    "scrolled": true
   },
   "outputs": [
    {
     "name": "stderr",
     "output_type": "stream",
     "text": [
      "usage: ipykernel_launcher.py [-h] [-k K] [-run RUN] [-t T] [-eps EPS]\n",
      "                             [-rep REP] [-seed SEED] [-x X] [-tol TOL]\n",
      "                             [-sam SAM]\n",
      "ipykernel_launcher.py: error: unrecognized arguments: -f /Users/albertsun/Library/Jupyter/runtime/kernel-b35c1fb1-c038-48d6-be82-ae34dfe8737d.json\n"
     ]
    },
    {
     "ename": "SystemExit",
     "evalue": "2",
     "output_type": "error",
     "traceback": [
      "An exception has occurred, use %tb to see the full traceback.\n",
      "\u001b[0;31mSystemExit\u001b[0m\u001b[0;31m:\u001b[0m 2\n"
     ]
    },
    {
     "name": "stderr",
     "output_type": "stream",
     "text": [
      "/Users/albertsun/opt/anaconda3/lib/python3.8/site-packages/IPython/core/interactiveshell.py:3445: UserWarning: To exit: use 'exit', 'quit', or Ctrl-D.\n",
      "  warn(\"To exit: use 'exit', 'quit', or Ctrl-D.\", stacklevel=1)\n"
     ]
    }
   ],
   "source": []
  }
 ],
 "metadata": {
  "kernelspec": {
   "display_name": "Python 3.8.8 64-bit ('base': conda)",
   "language": "python",
   "name": "python388jvsc74a57bd0718e77e574b71e9f7991c7da6831896cfd7281e366db0dbf84de44e8d5f66e5a"
  },
  "language_info": {
   "codemirror_mode": {
    "name": "ipython",
    "version": 3
   },
   "file_extension": ".py",
   "mimetype": "text/x-python",
   "name": "python",
   "nbconvert_exporter": "python",
   "pygments_lexer": "ipython3",
   "version": "3.8.8"
  }
 },
 "nbformat": 4,
 "nbformat_minor": 5
}
