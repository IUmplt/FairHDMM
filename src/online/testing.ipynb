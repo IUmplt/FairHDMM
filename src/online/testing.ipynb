{
 "cells": [
  {
   "cell_type": "markdown",
   "id": "bf51873e",
   "metadata": {},
   "source": [
    "Import statements:"
   ]
  },
  {
   "cell_type": "code",
   "execution_count": 32,
   "id": "4c95599c",
   "metadata": {},
   "outputs": [],
   "source": [
    "import random\n",
    "import src.hdmm.workload as workload"
   ]
  },
  {
   "cell_type": "markdown",
   "id": "6ea5389a",
   "metadata": {},
   "source": [
    "First, let's generate the number of analysts `k`. "
   ]
  },
  {
   "cell_type": "code",
   "execution_count": 29,
   "id": "7f180958",
   "metadata": {},
   "outputs": [],
   "source": [
    "import random\n",
    "k_max=20\n",
    "k = random.randint(2, k_max)"
   ]
  },
  {
   "cell_type": "markdown",
   "id": "fb2f3be5",
   "metadata": {},
   "source": [
    "Now, let's choose workload uniformly sampled from a set of 8 workloads. "
   ]
  },
  {
   "cell_type": "code",
   "execution_count": 59,
   "id": "b0c0e8da",
   "metadata": {},
   "outputs": [
    {
     "name": "stdout",
     "output_type": "stream",
     "text": [
      "identity\n"
     ]
    }
   ],
   "source": [
    "def identity():\n",
    "    print(\"identity\")\n",
    "\n",
    "def total():\n",
    "    whatever\n",
    "\n",
    "def prefix_sum():\n",
    "    whatever\n",
    "    \n",
    "def H2():\n",
    "    whatever\n",
    "    \n",
    "def custom():\n",
    "    whatever\n",
    "    \n",
    "def race1():\n",
    "    whatever\n",
    "    \n",
    "def race2():\n",
    "    whatever\n",
    "    \n",
    "def race3():\n",
    "    whatever\n",
    "    \n",
    "switcher = {\n",
    "    \"identity\": identity,\n",
    "    \"total\": total,\n",
    "    \"prefix_sum\": prefix_sum,\n",
    "    \"H2\": H2,\n",
    "    \"custom\": custom,\n",
    "    \"race1\": race1,\n",
    "    \"race2\": race2,\n",
    "    \"race3\": race3,\n",
    "}\n",
    "\n",
    "switcher[\"identity\"]()"
   ]
  },
  {
   "cell_type": "code",
   "execution_count": 50,
   "id": "ece60c6e",
   "metadata": {},
   "outputs": [
    {
     "data": {
      "text/plain": [
       "array([[5., 0., 0., 0., 0.],\n",
       "       [5., 5., 0., 0., 0.],\n",
       "       [5., 5., 5., 0., 0.],\n",
       "       [5., 5., 5., 5., 0.],\n",
       "       [5., 5., 5., 5., 5.],\n",
       "       [0., 5., 0., 0., 0.],\n",
       "       [0., 5., 5., 0., 0.],\n",
       "       [0., 5., 5., 5., 0.],\n",
       "       [0., 5., 5., 5., 5.],\n",
       "       [0., 0., 5., 0., 0.],\n",
       "       [0., 0., 5., 5., 0.],\n",
       "       [0., 0., 5., 5., 5.],\n",
       "       [0., 0., 0., 5., 0.],\n",
       "       [0., 0., 0., 5., 5.],\n",
       "       [0., 0., 0., 0., 5.]])"
      ]
     },
     "execution_count": 50,
     "metadata": {},
     "output_type": "execute_result"
    }
   ],
   "source": [
    "n = 5\n",
    "switcher = {'all_range': workload.AllRange(n),\n",
    "           ''}\n",
    "switcher['all_range'](n).dense_matrix()"
   ]
  },
  {
   "cell_type": "markdown",
   "id": "f42c414f",
   "metadata": {},
   "source": [
    "https://github.com/yikai-wu/Multi-Analyst-DP/blob/master/src/workload_selection.py"
   ]
  }
 ],
 "metadata": {
  "kernelspec": {
   "display_name": "Python 3.8.8 64-bit ('base': conda)",
   "language": "python",
   "name": "python388jvsc74a57bd0718e77e574b71e9f7991c7da6831896cfd7281e366db0dbf84de44e8d5f66e5a"
  },
  "language_info": {
   "codemirror_mode": {
    "name": "ipython",
    "version": 3
   },
   "file_extension": ".py",
   "mimetype": "text/x-python",
   "name": "python",
   "nbconvert_exporter": "python",
   "pygments_lexer": "ipython3",
   "version": "3.8.8"
  }
 },
 "nbformat": 4,
 "nbformat_minor": 5
}
